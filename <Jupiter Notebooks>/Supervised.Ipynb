{
 "cells": [
  {
   "cell_type": "code",
   "execution_count": 1,
   "id": "758f58c9",
   "metadata": {},
   "outputs": [],
   "source": [
    "# Cell 1: imports and settings\n",
    "import pandas as pd\n",
    "import numpy as np\n",
    "import matplotlib.pyplot as plt\n",
    "import seaborn as sns\n",
    "\n",
    "from sklearn.model_selection import train_test_split, RandomizedSearchCV, cross_val_score\n",
    "from sklearn.tree import DecisionTreeClassifier\n",
    "from sklearn.ensemble import RandomForestClassifier\n",
    "from sklearn.svm import SVC\n",
    "from sklearn.linear_model import LogisticRegression\n",
    "from xgboost import XGBClassifier\n",
    "from sklearn.metrics import (classification_report, confusion_matrix, \n",
    "                             accuracy_score, precision_recall_fscore_support, roc_auc_score)\n",
    "from sklearn.preprocessing import StandardScaler, LabelEncoder\n",
    "\n",
    "import shap\n",
    "import lime\n",
    "import lime.lime_tabular\n",
    "\n",
    "import warnings\n",
    "warnings.filterwarnings('ignore')\n",
    "\n",
    "RANDOM_STATE = 42\n",
    "np.random.seed(RANDOM_STATE)\n"
   ]
  },
  {
   "cell_type": "code",
   "execution_count": 2,
   "id": "f8cc3bfc",
   "metadata": {},
   "outputs": [
    {
     "name": "stdout",
     "output_type": "stream",
     "text": [
      "UK shape: (229782, 23)\n",
      "US shape: (4032, 21)\n"
     ]
    }
   ],
   "source": [
    "\"/Users/mahnooriqbal/COMP702 Project/ML-AI-Risk-Analysis-AV-Data-/Datasets/UK_encoded.csv\"\n",
    "\n",
    "UK_data = pd.read_csv(\"/Users/mahnooriqbal/COMP702 Project/ML-AI-Risk-Analysis-AV-Data-/Datasets/UK-cleaned_data.csv\")\n",
    "US_data = pd.read_csv(\"/Users/mahnooriqbal/COMP702 Project/ML-AI-Risk-Analysis-AV-Data-/Datasets/US_imputed_data.csv\")\n",
    "\n",
    "\n",
    "print(\"UK shape:\", UK_data.shape)\n",
    "print(\"US shape:\", US_data.shape)\n"
   ]
  },
  {
   "cell_type": "code",
   "execution_count": 3,
   "id": "bf5f3887",
   "metadata": {},
   "outputs": [
    {
     "name": "stdout",
     "output_type": "stream",
     "text": [
      "UK_data columns: ['Report ID', 'Report Version', 'Make', 'Model', 'Model Year', 'ADS Equipped?', 'Automation System Engaged?', 'Incident Date', 'Incident Time (24:00)', 'City', 'State', 'Roadway Type', 'Roadway Surface', 'Posted Speed Limit (MPH)', 'Lighting', 'Crash With', 'Highest Injury Severity Alleged', 'SV Pre-Crash Movement', 'Weather', 'SV Contact Area', 'Country', 'latitude', 'longitude']\n",
      "US_data columns: ['Report ID', 'Report Version', 'Make', 'Model', 'Model Year', 'ADS Equipped?', 'Automation System Engaged?', 'Incident Date', 'Incident Time (24:00)', 'City', 'State', 'Roadway Type', 'Roadway Surface', 'Posted Speed Limit (MPH)', 'Lighting', 'Crash With', 'Highest Injury Severity Alleged', 'SV Pre-Crash Movement', 'Weather', 'SV Contact Area', 'Country']\n"
     ]
    }
   ],
   "source": [
    "# Print column names of UK_data\n",
    "print(\"UK_data columns:\", UK_data.columns.tolist())\n",
    "\n",
    "# Print column names of US_data\n",
    "print(\"US_data columns:\", US_data.columns.tolist())"
   ]
  },
  {
   "cell_type": "code",
   "execution_count": 4,
   "id": "59fb422c",
   "metadata": {},
   "outputs": [
    {
     "name": "stdout",
     "output_type": "stream",
     "text": [
      "+---+---------------+----------------+----------+---------+------------+---------------+----------------------------+---------------+-----------------------+----------------+---------+--------------------+-----------------+--------------------------+----------------+--------------------+---------------------------------+-------------------------+---------+-----------------+----------------+-----------+-----------+\n",
      "|   |   Report ID   | Report Version |   Make   |  Model  | Model Year | ADS Equipped? | Automation System Engaged? | Incident Date | Incident Time (24:00) |      City      |  State  |    Roadway Type    | Roadway Surface | Posted Speed Limit (MPH) |    Lighting    |     Crash With     | Highest Injury Severity Alleged |  SV Pre-Crash Movement  | Weather | SV Contact Area |    Country     | latitude  | longitude |\n",
      "+---+---------------+----------------+----------+---------+------------+---------------+----------------------------+---------------+-----------------------+----------------+---------+--------------------+-----------------+--------------------------+----------------+--------------------+---------------------------------+-------------------------+---------+-----------------+----------------+-----------+-----------+\n",
      "| 0 | 2019010155206 |    10155206    |  SUZUKI  |  SWIFT  |    2015    | Conventional  |        Conventional        |  2019-01-01   |       01:15:00        | Chadwell Heath | England | Single carriageway |       Dry       |           30.0           | Dark - Lighted |     No Object      |              Minor              | Waiting to go - held up |  Clear  |      Front      | United Kingdom | 51.572326 | 0.141957  |\n",
      "| 1 | 2019010155217 |    10155217    | HYUNDAI  |   I30   |    2015    | Conventional  |        Conventional        |  2019-01-01   |       04:10:00        |     Ilford     | England |  Dual carriageway  |       Dry       |           40.0           | Dark - Lighted | Other Fixed Object |             Serious             |    Going ahead other    |  Clear  |      Front      | United Kingdom | 51.557075 | 0.070277  |\n",
      "| 2 | 2019010155425 |    10155425    | MERCEDES | C CLASS |    2018    | Conventional  |        Conventional        |  2019-01-02   |       15:07:00        | Stamford Hill  | England | Single carriageway |       Dry       |           20.0           |    Daylight    |     No Object      |              Minor              |    Going ahead other    |  Clear  |      Front      | United Kingdom | 51.561751 | -0.078765 |\n",
      "| 3 | 2019010156538 |    10156538    |  TOYOTA  | AVENSIS |    2005    | Conventional  |        Conventional        |  2019-01-08   |       21:20:00        |   Goodmayes    | England | Single carriageway |       Dry       |           20.0           | Dark - Lighted |     No Object      |              Minor              |    Going ahead other    |  Clear  |      Front      | United Kingdom | 51.545376 | 0.106077  |\n",
      "| 4 | 2019010156721 |    10156721    |   AUDI   |   A4    |    2017    | Conventional  |        Conventional        |  2019-01-10   |       08:20:00        | South Norwood  | England |  Dual carriageway  |       Dry       |           30.0           |    Daylight    |     No Object      |             Serious             |    Going ahead other    |  Clear  |      Front      | United Kingdom | 51.396245 | -0.069305 |\n",
      "+---+---------------+----------------+----------+---------+------------+---------------+----------------------------+---------------+-----------------------+----------------+---------+--------------------+-----------------+--------------------------+----------------+--------------------+---------------------------------+-------------------------+---------+-----------------+----------------+-----------+-----------+\n"
     ]
    }
   ],
   "source": [
    "from tabulate import tabulate\n",
    "\n",
    "# Display the first 5 rows of UK_data in a pretty table\n",
    "print(tabulate(UK_data.head(), headers='keys', tablefmt='pretty'))"
   ]
  },
  {
   "cell_type": "code",
   "execution_count": 5,
   "id": "7180fbb3",
   "metadata": {},
   "outputs": [
    {
     "name": "stdout",
     "output_type": "stream",
     "text": [
      "+---+-------------+----------------+------+--------------+------------+---------------+----------------------------+---------------+-----------------------+---------------+-------+-------------------+-----------------+--------------------------+----------------------+-------------------------+---------------------------------+-----------------------+-----------+-----------------------+---------+\n",
      "|   |  Report ID  | Report Version | Make |    Model     | Model Year | ADS Equipped? | Automation System Engaged? | Incident Date | Incident Time (24:00) |     City      | State |   Roadway Type    | Roadway Surface | Posted Speed Limit (MPH) |       Lighting       |       Crash With        | Highest Injury Severity Alleged | SV Pre-Crash Movement |  Weather  |    SV Contact Area    | Country |\n",
      "+---+-------------+----------------+------+--------------+------------+---------------+----------------------------+---------------+-----------------------+---------------+-------+-------------------+-----------------+--------------------------+----------------------+-------------------------+---------------------------------+-----------------------+-----------+-----------------------+---------+\n",
      "| 0 | 10039-10316 |       4        | BMW  |      XM      |   2023.0   |      No       |            ADAS            |  2025-03-25   |       14:06:00        | Benton County |  AR   | Highway / Freeway |       Dry       |            60            |       Daylight       | First Responder Vehicle |              Minor              |  Proceeding Straight  |   Clear   |      Back, Front      |   US    |\n",
      "| 1 | 10039-3997  |       3        | BMW  | X5 sDrive40i |   2020.0   |      No       |            ADAS            |  2025-05-22   |       22:25:00        |    Refugio    |  TX   | Highway / Freeway |       Dry       |            80            |       Daylight       |       Pole / Tree       |             Serious             |  Proceeding Straight  |   Clear   |         Front         |   US    |\n",
      "| 2 | 10039-4636  |       4        | BMW  |      X5      |   2022.0   |      No       |            ADAS            |  2025-12-22   |       07:05:00        |   Fairfield   |  CA   | Highway / Freeway |       Dry       |            60            |  Dark - Not Lighted  |   Other Fixed Object    |              Minor              | Lane / Road Departure |   Clear   |         Front         |   US    |\n",
      "| 3 | 10039-6833  |       4        | BMW  | iX xDrive50  |   2023.0   |      No       |            ADAS            |  2025-12-23   |       06:00:00        |    Bel Air    |  MD   | Highway / Freeway |       Dry       |            60            | Other, see Narrative |   Other Fixed Object    |      No Injuries Reported       |  Proceeding Straight  | Fog/Smoke | Back, Front, Nearside |   US    |\n",
      "| 4 |   10039-8   |       3        | BMW  | X5 xDrive40i |   2019.0   |      No       |            ADAS            |  2025-07-21   |       03:01:00        |     Miami     |  FL   | Highway / Freeway |       Dry       |            60            | Other, see Narrative |  Other, see Narrative   |              Minor              |    Changing Lanes     |   Other   | Back, Front, Offside  |   US    |\n",
      "+---+-------------+----------------+------+--------------+------------+---------------+----------------------------+---------------+-----------------------+---------------+-------+-------------------+-----------------+--------------------------+----------------------+-------------------------+---------------------------------+-----------------------+-----------+-----------------------+---------+\n"
     ]
    }
   ],
   "source": [
    "# Display the first 5 rows of UK_data in a pretty table\n",
    "print(tabulate(US_data.head(), headers='keys', tablefmt='pretty'))"
   ]
  },
  {
   "cell_type": "code",
   "execution_count": 6,
   "id": "11ef44b2",
   "metadata": {},
   "outputs": [],
   "source": [
    "from sklearn.preprocessing import LabelEncoder, StandardScaler\n",
    "from sklearn.model_selection import train_test_split\n",
    "import numpy as np\n",
    "import pandas as pd\n",
    "\n",
    "def prepare_data_fixed_target(uk_data, us_data, dataset='UK', test_size=0.2):\n",
    "    data = uk_data.copy() if dataset.upper() == 'UK' else us_data.copy()\n",
    "    target_col = 'Highest Injury Severity Alleged'\n",
    "    \n",
    "    # Encode target if not numeric\n",
    "    if data[target_col].dtype == 'object' or str(data[target_col].dtype).startswith('category'):\n",
    "        le = LabelEncoder()\n",
    "        data[target_col] = le.fit_transform(data[target_col].astype(str))\n",
    "        print(f\"Encoded target '{target_col}' -> Classes: {list(le.classes_)}\")\n",
    "    else:\n",
    "        print(f\"'{target_col}' is already numeric.\")\n",
    "    \n",
    "    # Drop non-predictive ID columns\n",
    "    drop_cols = ['Report ID', 'Report Version']\n",
    "    data = data.drop(columns=[c for c in drop_cols if c in data.columns], errors='ignore')\n",
    "    \n",
    "    # Frequency encode high-cardinality columns\n",
    "    high_card_cols = ['City', 'State']\n",
    "    for col in high_card_cols:\n",
    "        if col in data.columns:\n",
    "            freq_map = data[col].value_counts().to_dict()\n",
    "            data[col] = data[col].map(freq_map)\n",
    "            print(f\"Frequency encoded '{col}' (unique: {len(freq_map)})\")\n",
    "    \n",
    "    # Separate features and target\n",
    "    X = data.drop(columns=[target_col])\n",
    "    y = data[target_col]\n",
    "    \n",
    "    # One-hot encode remaining categorical columns\n",
    "    cat_cols = X.select_dtypes(include=['object', 'category']).columns.tolist()\n",
    "    if cat_cols:\n",
    "        print(\"One-hot encoding categorical columns:\", cat_cols)\n",
    "        X = pd.get_dummies(X, columns=cat_cols, drop_first=True)\n",
    "    \n",
    "    # Train-test split\n",
    "    stratify = y if len(np.unique(y)) > 1 else None\n",
    "    X_train, X_test, y_train, y_test = train_test_split(\n",
    "        X, y, test_size=test_size, random_state=42, stratify=stratify\n",
    "    )\n",
    "    \n",
    "    # Scale\n",
    "    scaler = StandardScaler().fit(X_train)\n",
    "    X_train_scaled = pd.DataFrame(scaler.transform(X_train), index=X_train.index, columns=X_train.columns)\n",
    "    X_test_scaled  = pd.DataFrame(scaler.transform(X_test),  index=X_test.index,  columns=X_test.columns)\n",
    "    \n",
    "    print(\"Shapes -> X_train:\", X_train.shape, \"X_test:\", X_test.shape)\n",
    "    print(\"Class distribution in y_train:\")\n",
    "    print(pd.Series(y_train).value_counts().sort_index())\n",
    "    \n",
    "    return {\n",
    "        'X_train': X_train, 'X_test': X_test,\n",
    "        'X_train_scaled': X_train_scaled, 'X_test_scaled': X_test_scaled,\n",
    "        'y_train': y_train, 'y_test': y_test,\n",
    "        'feature_names': X_train.columns.tolist(),\n",
    "        'scaler': scaler,\n",
    "        'target_col': target_col\n",
    "    }"
   ]
  },
  {
   "cell_type": "code",
   "execution_count": 7,
   "id": "c0858326",
   "metadata": {},
   "outputs": [
    {
     "name": "stdout",
     "output_type": "stream",
     "text": [
      "Encoded target 'Highest Injury Severity Alleged' -> Classes: ['Fatality', 'Minor', 'Serious']\n",
      "Frequency encoded 'City' (unique: 4247)\n",
      "Frequency encoded 'State' (unique: 4)\n",
      "One-hot encoding categorical columns: ['Make', 'Model', 'ADS Equipped?', 'Automation System Engaged?', 'Incident Date', 'Incident Time (24:00)', 'Roadway Type', 'Roadway Surface', 'Lighting', 'Crash With', 'SV Pre-Crash Movement', 'Weather', 'SV Contact Area', 'Country']\n",
      "Shapes -> X_train: (183825, 3898) X_test: (45957, 3898)\n",
      "Class distribution in y_train:\n",
      "Highest Injury Severity Alleged\n",
      "0      2831\n",
      "1    142375\n",
      "2     38619\n",
      "Name: count, dtype: int64\n",
      "        Model Year      City     State  Posted Speed Limit (MPH)  latitude  \\\n",
      "33762    -1.985062 -0.703968  0.321117                  0.164919 -0.988651   \n",
      "68088     1.305034 -0.623151  0.321117                  2.271380  0.596615   \n",
      "192453    0.025552 -0.237027  0.321117                 -1.239389 -0.694902   \n",
      "174615   -1.436712 -0.214578  0.321117                 -0.537235 -0.559006   \n",
      "43116    -1.253929 -0.434579  0.321117                  1.569227 -1.042157   \n",
      "\n",
      "        longitude  Make_ALFA  Make_AUDI  Make_BENTLEY  Make_BMW  ...  \\\n",
      "33762    0.105659   -0.04311  -0.246453     -0.013996 -0.275156  ...   \n",
      "68088   -0.025353   -0.04311  -0.246453     -0.013996 -0.275156  ...   \n",
      "192453   0.861786   -0.04311  -0.246453     -0.013996 -0.275156  ...   \n",
      "174615   0.474479   -0.04311  -0.246453     -0.013996 -0.275156  ...   \n",
      "43116   -1.228932   -0.04311  -0.246453     -0.013996 -0.275156  ...   \n",
      "\n",
      "        Weather_Other  Weather_Raining + high winds  \\\n",
      "33762       -0.160188                      -0.12335   \n",
      "68088       -0.160188                      -0.12335   \n",
      "192453      -0.160188                      -0.12335   \n",
      "174615      -0.160188                      -0.12335   \n",
      "43116       -0.160188                      -0.12335   \n",
      "\n",
      "        Weather_Raining no high winds  Weather_Snowing + high winds  \\\n",
      "33762                       -0.382471                     -0.028386   \n",
      "68088                       -0.382471                     -0.028386   \n",
      "192453                      -0.382471                     -0.028386   \n",
      "174615                      -0.382471                     -0.028386   \n",
      "43116                       -0.382471                     -0.028386   \n",
      "\n",
      "        Weather_Snowing no high winds  SV Contact Area_Did not impact  \\\n",
      "33762                       -0.067429                        6.209491   \n",
      "68088                       -0.067429                       -0.161044   \n",
      "192453                      -0.067429                       -0.161044   \n",
      "174615                      -0.067429                       -0.161044   \n",
      "43116                       -0.067429                       -0.161044   \n",
      "\n",
      "        SV Contact Area_Front  SV Contact Area_Nearside  \\\n",
      "33762               -1.267764                 -0.389032   \n",
      "68088               -1.267764                 -0.389032   \n",
      "192453               0.788791                 -0.389032   \n",
      "174615              -1.267764                  2.570485   \n",
      "43116                0.788791                 -0.389032   \n",
      "\n",
      "        SV Contact Area_Offside  Country_United Kingdom  \n",
      "33762                 -0.398451                0.015296  \n",
      "68088                  2.509721                0.015296  \n",
      "192453                -0.398451                0.015296  \n",
      "174615                -0.398451                0.015296  \n",
      "43116                 -0.398451                0.015296  \n",
      "\n",
      "[5 rows x 3898 columns]\n"
     ]
    }
   ],
   "source": [
    "prep_uk = prepare_data_fixed_target(UK_data, US_data, dataset='UK')\n",
    "print(prep_uk['X_train_scaled'].head())\n"
   ]
  },
  {
   "cell_type": "code",
   "execution_count": 8,
   "id": "3377b2b2",
   "metadata": {},
   "outputs": [
    {
     "name": "stdout",
     "output_type": "stream",
     "text": [
      "Encoded target 'Highest Injury Severity Alleged' -> Classes: ['Fatality', 'Minor', 'Moderate', 'No Injuries Reported', 'Serious']\n",
      "Frequency encoded 'City' (unique: 1299)\n",
      "Frequency encoded 'State' (unique: 51)\n",
      "One-hot encoding categorical columns: ['Make', 'Model', 'ADS Equipped?', 'Automation System Engaged?', 'Incident Date', 'Incident Time (24:00)', 'Roadway Type', 'Roadway Surface', 'Lighting', 'Crash With', 'SV Pre-Crash Movement', 'Weather', 'SV Contact Area', 'Country']\n",
      "Shapes -> X_train: (3225, 1714) X_test: (807, 1714)\n",
      "Class distribution in y_train:\n",
      "Highest Injury Severity Alleged\n",
      "0     381\n",
      "1     239\n",
      "2      47\n",
      "3    2427\n",
      "4     131\n",
      "Name: count, dtype: int64\n",
      "      Model Year      City     State  Posted Speed Limit (MPH)  Make_BMW  \\\n",
      "1152   -1.223951 -0.632323 -1.153616                  2.016680 -0.039406   \n",
      "2458   -0.274638  1.855514  1.054159                 -1.217161 -0.039406   \n",
      "1296    0.200018 -0.621154  1.054159                  0.938733 -0.039406   \n",
      "923    -2.173265 -0.632323  1.054159                  2.016680 -0.039406   \n",
      "156     1.149331 -0.615570  1.054159                  0.938733 -0.039406   \n",
      "\n",
      "      Make_Buick  Make_CADILLAC  Make_Cadillac  Make_Chevrolet  Make_Chrysler  \\\n",
      "1152         0.0      -0.017612      -0.055771       -0.072796      -0.074918   \n",
      "2458         0.0      -0.017612      -0.055771       -0.072796      -0.074918   \n",
      "1296         0.0      -0.017612      -0.055771       -0.072796      -0.074918   \n",
      "923          0.0      -0.017612      -0.055771       -0.072796      -0.074918   \n",
      "156          0.0      -0.017612      -0.055771       -0.072796      -0.074918   \n",
      "\n",
      "      ...  SV Contact Area_Front, Nearside, Offside  \\\n",
      "1152  ...                                 -0.049868   \n",
      "2458  ...                                 -0.049868   \n",
      "1296  ...                                 -0.049868   \n",
      "923   ...                                 -0.049868   \n",
      "156   ...                                 -0.049868   \n",
      "\n",
      "      SV Contact Area_Front, Offside  SV Contact Area_Front, Offside, Top  \\\n",
      "1152                       -0.147862                            -0.017612   \n",
      "2458                       -0.147862                            -0.017612   \n",
      "1296                       -0.147862                            -0.017612   \n",
      "923                        -0.147862                            -0.017612   \n",
      "156                        -0.147862                            -0.017612   \n",
      "\n",
      "      SV Contact Area_Front, Top  SV Contact Area_Nearside  \\\n",
      "1152                    -0.04664                 -0.187031   \n",
      "2458                    -0.04664                 -0.187031   \n",
      "1296                    -0.04664                 -0.187031   \n",
      "923                     -0.04664                 -0.187031   \n",
      "156                     -0.04664                 -0.187031   \n",
      "\n",
      "      SV Contact Area_Nearside, Offside  SV Contact Area_Nearside, Top  \\\n",
      "1152                          -0.017612                      -0.017612   \n",
      "2458                          -0.017612                      -0.017612   \n",
      "1296                          -0.017612                      -0.017612   \n",
      "923                           -0.017612                      -0.017612   \n",
      "156                           -0.017612                      -0.017612   \n",
      "\n",
      "      SV Contact Area_Offside  SV Contact Area_Offside, Top  \\\n",
      "1152                -0.128017                           0.0   \n",
      "2458                -0.128017                           0.0   \n",
      "1296                -0.128017                           0.0   \n",
      "923                 -0.128017                           0.0   \n",
      "156                 -0.128017                           0.0   \n",
      "\n",
      "      SV Contact Area_Top  \n",
      "1152            -0.043173  \n",
      "2458            -0.043173  \n",
      "1296            -0.043173  \n",
      "923             -0.043173  \n",
      "156             -0.043173  \n",
      "\n",
      "[5 rows x 1714 columns]\n"
     ]
    }
   ],
   "source": [
    "prep_us = prepare_data_fixed_target(UK_data, US_data, dataset='US')\n",
    "print(prep_us['X_train_scaled'].head())\n"
   ]
  },
  {
   "cell_type": "code",
   "execution_count": 9,
   "id": "324b07f9",
   "metadata": {},
   "outputs": [],
   "source": [
    "# Cell 4: evaluation helpers\n",
    "results_store = {}  # collect metrics for each algorithm\n",
    "\n",
    "def evaluate_and_store(name, model, X_train, X_test, y_train, y_test, store=True):\n",
    "    # expects model already fitted\n",
    "    y_train_pred = model.predict(X_train)\n",
    "    y_test_pred  = model.predict(X_test)\n",
    "    \n",
    "    train_acc = accuracy_score(y_train, y_train_pred)\n",
    "    test_acc  = accuracy_score(y_test, y_test_pred)\n",
    "    train_prec, train_rec, train_f1, _ = precision_recall_fscore_support(y_train, y_train_pred, average='weighted', zero_division=0)\n",
    "    test_prec, test_rec, test_f1, _ = precision_recall_fscore_support(y_test, y_test_pred, average='weighted', zero_division=0)\n",
    "    \n",
    "    print(f\"\\n{name} - Test accuracy: {test_acc:.4f}\")\n",
    "    print(\"Classification report (test):\\n\", classification_report(y_test, y_test_pred, zero_division=0))\n",
    "    \n",
    "    # conf matrix plot\n",
    "    cm = confusion_matrix(y_test, y_test_pred)\n",
    "    plt.figure(figsize=(5,4))\n",
    "    sns.heatmap(cm, annot=True, fmt='d', cmap='Blues')\n",
    "    plt.title(f\"{name} - Confusion Matrix\")\n",
    "    plt.xlabel(\"Predicted\")\n",
    "    plt.ylabel(\"Actual\")\n",
    "    plt.show()\n",
    "    \n",
    "    metrics = {\n",
    "        'train_accuracy': train_acc, 'test_accuracy': test_acc,\n",
    "        'train_precision': train_prec, 'test_precision': test_prec,\n",
    "        'train_recall': train_rec, 'test_recall': test_rec,\n",
    "        'train_f1': train_f1, 'test_f1': test_f1,\n",
    "        'model': model\n",
    "    }\n",
    "    if store:\n",
    "        results_store[name] = metrics\n",
    "    return metrics\n"
   ]
  },
  {
   "cell_type": "code",
   "execution_count": 24,
   "id": "a56c9221",
   "metadata": {},
   "outputs": [],
   "source": [
    "# Cell 5: parameter grids\n",
    "param_grids = {\n",
    "    'Decision Tree': {\n",
    "        'max_depth': [3, 5, 7, 10, None],\n",
    "        'min_samples_split': [2, 5, 10, 20],\n",
    "        'min_samples_leaf': [1, 2, 5, 10],\n",
    "        'criterion': ['gini', 'entropy']\n",
    "    },\n",
    "    'Random Forest': {\n",
    "        'n_estimators': [50, 100, 200, 300],\n",
    "        'max_depth': [3, 5, 7, 10, None],\n",
    "        'min_samples_split': [2, 5, 10],\n",
    "        'min_samples_leaf': [1, 2, 5],\n",
    "        'max_features': ['sqrt', 'log2', None]\n",
    "    },\n",
    "    'XGBoost': {\n",
    "        'n_estimators': [50, 100, 200],\n",
    "        'max_depth': [3, 4, 5, 6],\n",
    "        'learning_rate': [0.01, 0.1, 0.2],\n",
    "        'subsample': [0.8, 0.9, 1.0],\n",
    "        'colsample_bytree': [0.8, 0.9, 1.0]\n",
    "    },\n",
    "    'SVM': {\n",
    "        'C': [0.1, 1, 10, 100],\n",
    "        'kernel': ['linear', 'rbf', 'poly'],\n",
    "        'gamma': ['scale', 'auto', 0.001, 0.01]\n",
    "    },\n",
    "    'Logistic Regression': {\n",
    "        'C': [0.01, 0.1, 1, 10, 100],\n",
    "        'penalty': ['l1', 'l2', 'elasticnet'],\n",
    "        'solver': ['saga'],\n",
    "        'l1_ratio': [0.0, 0.1, 0.5, 0.9]  # only used with elasticnet; saga supports it\n",
    "    }\n",
    "}\n"
   ]
  },
  {
   "cell_type": "code",
   "execution_count": null,
   "id": "a1a60693",
   "metadata": {},
   "outputs": [],
   "source": [
    "def run_dt_workflow(prep):\n",
    "    dt = DecisionTreeClassifier(random_state=RANDOM_STATE)\n",
    "    dt_search = RandomizedSearchCV(dt, param_grids['Decision Tree'], n_iter=20, cv=3,\n",
    "                                   scoring='accuracy', n_jobs=-1, random_state=RANDOM_STATE)\n",
    "    dt_search.fit(prep['X_train'], prep['y_train'])\n",
    "    print(\"Best DT params:\", dt_search.best_params_)\n",
    "    best_dt = dt_search.best_estimator_\n",
    "\n",
    "    dt_metrics = evaluate_and_store('Decision Tree', best_dt, prep['X_train'], prep['X_test'], prep['y_train'], prep['y_test'])\n",
    "    return dt_metrics\n",
    "\n"
   ]
  },
  {
   "cell_type": "code",
   "execution_count": 14,
   "id": "d5c4fcff",
   "metadata": {},
   "outputs": [
    {
     "name": "stdout",
     "output_type": "stream",
     "text": [
      "Best DT params: {'min_samples_split': 2, 'min_samples_leaf': 1, 'max_depth': None, 'criterion': 'gini'}\n",
      "\n",
      "Decision Tree - Test accuracy: 0.8290\n",
      "Classification report (test):\n",
      "               precision    recall  f1-score   support\n",
      "\n",
      "           0       0.70      0.68      0.69        95\n",
      "           1       0.43      0.25      0.32        60\n",
      "           2       0.80      0.33      0.47        12\n",
      "           3       0.88      0.95      0.91       607\n",
      "           4       0.50      0.21      0.30        33\n",
      "\n",
      "    accuracy                           0.83       807\n",
      "   macro avg       0.66      0.49      0.54       807\n",
      "weighted avg       0.81      0.83      0.81       807\n",
      "\n"
     ]
    },
    {
     "data": {
      "image/png": "[encoded data removed]",
      "text/plain": [
       "<Figure size 500x400 with 2 Axes>"
      ]
     },
     "metadata": {},
     "output_type": "display_data"
    }
   ],
   "source": [
    "\n",
    "\n",
    "# For US data\n",
    "dt_metrics_us = run_dt_workflow(prep_us)"
   ]
  },
  {
   "cell_type": "code",
   "execution_count": 25,
   "id": "f97fe46b",
   "metadata": {},
   "outputs": [],
   "source": [
    "def run_rf_workflow(prep):\n",
    "    rf = RandomForestClassifier(random_state=RANDOM_STATE)\n",
    "    rf_search = RandomizedSearchCV(rf, param_grids['Random Forest'], n_iter=20, cv=3,\n",
    "                                   scoring='accuracy', n_jobs=-1, random_state=RANDOM_STATE)\n",
    "    rf_search.fit(prep['X_train'], prep['y_train'])\n",
    "    print(\"Best RF params:\", rf_search.best_params_)\n",
    "    best_rf = rf_search.best_estimator_\n",
    "\n",
    "    rf_metrics = evaluate_and_store('Random Forest', best_rf, prep['X_train'], prep['X_test'], prep['y_train'], prep['y_test'])\n",
    "    return rf_metrics\n",
    "\n"
   ]
  },
  {
   "cell_type": "code",
   "execution_count": 26,
   "id": "103f5d3b",
   "metadata": {},
   "outputs": [
    {
     "name": "stdout",
     "output_type": "stream",
     "text": [
      "Best RF params: {'n_estimators': 100, 'min_samples_split': 5, 'min_samples_leaf': 2, 'max_features': None, 'max_depth': None}\n",
      "\n",
      "Random Forest - Test accuracy: 0.8377\n",
      "Classification report (test):\n",
      "               precision    recall  f1-score   support\n",
      "\n",
      "           0       0.74      0.77      0.76        95\n",
      "           1       0.47      0.13      0.21        60\n",
      "           2       1.00      0.08      0.15        12\n",
      "           3       0.86      0.97      0.91       607\n",
      "           4       0.75      0.09      0.16        33\n",
      "\n",
      "    accuracy                           0.84       807\n",
      "   macro avg       0.77      0.41      0.44       807\n",
      "weighted avg       0.82      0.84      0.80       807\n",
      "\n"
     ]
    },
    {
     "data": {
      "image/png": "[encoded data removed]",
      "text/plain": [
       "<Figure size 500x400 with 2 Axes>"
      ]
     },
     "metadata": {},
     "output_type": "display_data"
    }
   ],
   "source": [
    "rf_metrics = run_rf_workflow(prep_us)  # for US data\n"
   ]
  },
  {
   "cell_type": "code",
   "execution_count": null,
   "id": "74071f1e",
   "metadata": {},
   "outputs": [],
   "source": [
    "rf_metrics = run_rf_workflow(prep_uk)  # for UK data\n"
   ]
  },
  {
   "cell_type": "code",
   "execution_count": 27,
   "id": "63c5342f",
   "metadata": {},
   "outputs": [],
   "source": [
    "def run_xgb_workflow(prep):\n",
    "    xgb = XGBClassifier(random_state=RANDOM_STATE, use_label_encoder=False, eval_metric='logloss')\n",
    "    xgb_search = RandomizedSearchCV(xgb, param_grids['XGBoost'], n_iter=20, cv=3,\n",
    "                                    scoring='accuracy', n_jobs=-1, random_state=RANDOM_STATE)\n",
    "    xgb_search.fit(prep['X_train'], prep['y_train'])\n",
    "    print(\"Best XGB params:\", xgb_search.best_params_)\n",
    "    best_xgb = xgb_search.best_estimator_\n",
    "\n",
    "    xgb_metrics = evaluate_and_store('XGBoost', best_xgb, prep['X_train'], prep['X_test'], prep['y_train'], prep['y_test'])\n",
    "    return xgb_metrics\n"
   ]
  },
  {
   "cell_type": "code",
   "execution_count": null,
   "id": "57da7f16",
   "metadata": {},
   "outputs": [
    {
     "name": "stderr",
     "output_type": "stream",
     "text": [
      "/Library/Frameworks/Python.framework/Versions/3.10/lib/python3.10/site-packages/xgboost/training.py:183: UserWarning: [21:20:46] WARNING: /Users/runner/work/xgboost/xgboost/src/learner.cc:738: \n",
      "Parameters: { \"use_label_encoder\" } are not used.\n",
      "\n",
      "  bst.update(dtrain, iteration=i, fobj=obj)\n",
      "/Library/Frameworks/Python.framework/Versions/3.10/lib/python3.10/site-packages/xgboost/training.py:183: UserWarning: [21:20:46] WARNING: /Users/runner/work/xgboost/xgboost/src/learner.cc:738: \n",
      "Parameters: { \"use_label_encoder\" } are not used.\n",
      "\n",
      "  bst.update(dtrain, iteration=i, fobj=obj)\n",
      "/Library/Frameworks/Python.framework/Versions/3.10/lib/python3.10/site-packages/xgboost/training.py:183: UserWarning: [21:20:46] WARNING: /Users/runner/work/xgboost/xgboost/src/learner.cc:738: \n",
      "Parameters: { \"use_label_encoder\" } are not used.\n",
      "\n",
      "  bst.update(dtrain, iteration=i, fobj=obj)\n",
      "/Library/Frameworks/Python.framework/Versions/3.10/lib/python3.10/site-packages/xgboost/training.py:183: UserWarning: [21:20:46] WARNING: /Users/runner/work/xgboost/xgboost/src/learner.cc:738: \n",
      "Parameters: { \"use_label_encoder\" } are not used.\n",
      "\n",
      "  bst.update(dtrain, iteration=i, fobj=obj)\n",
      "/Library/Frameworks/Python.framework/Versions/3.10/lib/python3.10/site-packages/xgboost/training.py:183: UserWarning: [21:20:46] WARNING: /Users/runner/work/xgboost/xgboost/src/learner.cc:738: \n",
      "Parameters: { \"use_label_encoder\" } are not used.\n",
      "\n",
      "  bst.update(dtrain, iteration=i, fobj=obj)\n",
      "/Library/Frameworks/Python.framework/Versions/3.10/lib/python3.10/site-packages/xgboost/training.py:183: UserWarning: [21:20:46] WARNING: /Users/runner/work/xgboost/xgboost/src/learner.cc:738: \n",
      "Parameters: { \"use_label_encoder\" } are not used.\n",
      "\n",
      "  bst.update(dtrain, iteration=i, fobj=obj)\n",
      "/Library/Frameworks/Python.framework/Versions/3.10/lib/python3.10/site-packages/xgboost/training.py:183: UserWarning: [21:20:46] WARNING: /Users/runner/work/xgboost/xgboost/src/learner.cc:738: \n",
      "Parameters: { \"use_label_encoder\" } are not used.\n",
      "\n",
      "  bst.update(dtrain, iteration=i, fobj=obj)\n",
      "/Library/Frameworks/Python.framework/Versions/3.10/lib/python3.10/site-packages/xgboost/training.py:183: UserWarning: [21:20:46] WARNING: /Users/runner/work/xgboost/xgboost/src/learner.cc:738: \n",
      "Parameters: { \"use_label_encoder\" } are not used.\n",
      "\n",
      "  bst.update(dtrain, iteration=i, fobj=obj)\n",
      "/Library/Frameworks/Python.framework/Versions/3.10/lib/python3.10/site-packages/xgboost/training.py:183: UserWarning: [21:20:52] WARNING: /Users/runner/work/xgboost/xgboost/src/learner.cc:738: \n",
      "Parameters: { \"use_label_encoder\" } are not used.\n",
      "\n",
      "  bst.update(dtrain, iteration=i, fobj=obj)\n",
      "/Library/Frameworks/Python.framework/Versions/3.10/lib/python3.10/site-packages/xgboost/training.py:183: UserWarning: [21:20:52] WARNING: /Users/runner/work/xgboost/xgboost/src/learner.cc:738: \n",
      "Parameters: { \"use_label_encoder\" } are not used.\n",
      "\n",
      "  bst.update(dtrain, iteration=i, fobj=obj)\n",
      "/Library/Frameworks/Python.framework/Versions/3.10/lib/python3.10/site-packages/xgboost/training.py:183: UserWarning: [21:20:52] WARNING: /Users/runner/work/xgboost/xgboost/src/learner.cc:738: \n",
      "Parameters: { \"use_label_encoder\" } are not used.\n",
      "\n",
      "  bst.update(dtrain, iteration=i, fobj=obj)\n",
      "/Library/Frameworks/Python.framework/Versions/3.10/lib/python3.10/site-packages/xgboost/training.py:183: UserWarning: [21:20:53] WARNING: /Users/runner/work/xgboost/xgboost/src/learner.cc:738: \n",
      "Parameters: { \"use_label_encoder\" } are not used.\n",
      "\n",
      "  bst.update(dtrain, iteration=i, fobj=obj)\n",
      "/Library/Frameworks/Python.framework/Versions/3.10/lib/python3.10/site-packages/xgboost/training.py:183: UserWarning: [21:20:54] WARNING: /Users/runner/work/xgboost/xgboost/src/learner.cc:738: \n",
      "Parameters: { \"use_label_encoder\" } are not used.\n",
      "\n",
      "  bst.update(dtrain, iteration=i, fobj=obj)\n",
      "/Library/Frameworks/Python.framework/Versions/3.10/lib/python3.10/site-packages/xgboost/training.py:183: UserWarning: [21:20:59] WARNING: /Users/runner/work/xgboost/xgboost/src/learner.cc:738: \n",
      "Parameters: { \"use_label_encoder\" } are not used.\n",
      "\n",
      "  bst.update(dtrain, iteration=i, fobj=obj)\n",
      "/Library/Frameworks/Python.framework/Versions/3.10/lib/python3.10/site-packages/xgboost/training.py:183: UserWarning: [21:20:59] WARNING: /Users/runner/work/xgboost/xgboost/src/learner.cc:738: \n",
      "Parameters: { \"use_label_encoder\" } are not used.\n",
      "\n",
      "  bst.update(dtrain, iteration=i, fobj=obj)\n",
      "/Library/Frameworks/Python.framework/Versions/3.10/lib/python3.10/site-packages/xgboost/training.py:183: UserWarning: [21:20:59] WARNING: /Users/runner/work/xgboost/xgboost/src/learner.cc:738: \n",
      "Parameters: { \"use_label_encoder\" } are not used.\n",
      "\n",
      "  bst.update(dtrain, iteration=i, fobj=obj)\n",
      "/Library/Frameworks/Python.framework/Versions/3.10/lib/python3.10/site-packages/xgboost/training.py:183: UserWarning: [21:21:00] WARNING: /Users/runner/work/xgboost/xgboost/src/learner.cc:738: \n",
      "Parameters: { \"use_label_encoder\" } are not used.\n",
      "\n",
      "  bst.update(dtrain, iteration=i, fobj=obj)\n",
      "/Library/Frameworks/Python.framework/Versions/3.10/lib/python3.10/site-packages/xgboost/training.py:183: UserWarning: [21:21:00] WARNING: /Users/runner/work/xgboost/xgboost/src/learner.cc:738: \n",
      "Parameters: { \"use_label_encoder\" } are not used.\n",
      "\n",
      "  bst.update(dtrain, iteration=i, fobj=obj)\n"
     ]
    }
   ],
   "source": [
    "\n",
    "xgb_metrics = run_xgb_workflow(prep_us)  # for US data\n"
   ]
  },
  {
   "cell_type": "code",
   "execution_count": null,
   "id": "e8116c4e",
   "metadata": {},
   "outputs": [],
   "source": [
    "xgb_metrics = run_xgb_workflow(prep_uk)  # for UK data"
   ]
  },
  {
   "cell_type": "code",
   "execution_count": null,
   "id": "c82b7041",
   "metadata": {},
   "outputs": [],
   "source": [
    "def run_svm_workflow(prep):\n",
    "    svm = SVC(random_state=RANDOM_STATE, probability=True)\n",
    "    svm_search = RandomizedSearchCV(svm, param_grids['SVM'], n_iter=20, cv=3,\n",
    "                                    scoring='accuracy', n_jobs=-1, random_state=RANDOM_STATE)\n",
    "\n",
    "    svm_search.fit(prep['X_train_scaled'], prep['y_train'])\n",
    "\n",
    "    print(\"Best SVM params:\", svm_search.best_params_)\n",
    "    best_svm = svm_search.best_estimator_\n",
    "\n",
    "    svm_metrics = evaluate_and_store('SVM', best_svm, prep['X_train_scaled'], prep['X_test_scaled'], prep['y_train'], prep['y_test'])\n",
    "    return svm_metrics\n"
   ]
  },
  {
   "cell_type": "code",
   "execution_count": null,
   "id": "6fc6d7f5",
   "metadata": {},
   "outputs": [],
   "source": [
    "svm_metrics = run_svm_workflow(prep_us)"
   ]
  },
  {
   "cell_type": "code",
   "execution_count": null,
   "id": "e87e0652",
   "metadata": {},
   "outputs": [],
   "source": [
    "svm_metrics = run_svm_workflow(prep_uk)\n",
    "\n"
   ]
  },
  {
   "cell_type": "code",
   "execution_count": null,
   "id": "5863488a",
   "metadata": {},
   "outputs": [],
   "source": [
    "def run_lr_workflow(prep):\n",
    "    lr = LogisticRegression(random_state=RANDOM_STATE, max_iter=2000)\n",
    "    lr_search = RandomizedSearchCV(lr, param_grids['Logistic Regression'], n_iter=20, cv=3,\n",
    "                                   scoring='accuracy', n_jobs=-1, random_state=RANDOM_STATE)\n",
    "    lr_search.fit(prep['X_train_scaled'], prep['y_train'])\n",
    "\n",
    "    print(\"Best LR params:\", lr_search.best_params_)\n",
    "    best_lr = lr_search.best_estimator_\n",
    "\n",
    "    lr_metrics = evaluate_and_store('Logistic Regression', best_lr,\n",
    "                                   prep['X_train_scaled'], prep['X_test_scaled'],\n",
    "                                   prep['y_train'], prep['y_test'])\n",
    "    return lr_metrics\n"
   ]
  },
  {
   "cell_type": "code",
   "execution_count": null,
   "id": "1fe7224a",
   "metadata": {},
   "outputs": [],
   "source": [
    "lr_metrics_uk = run_lr_workflow(prep_uk)\n",
    "\n"
   ]
  },
  {
   "cell_type": "code",
   "execution_count": null,
   "id": "1b803286",
   "metadata": {},
   "outputs": [],
   "source": [
    "r_metrics_us = run_lr_workflow(prep_us)"
   ]
  },
  {
   "cell_type": "code",
   "execution_count": null,
   "id": "1e1fb33f",
   "metadata": {},
   "outputs": [],
   "source": [
    "def summarize_and_plot_results(results_store, dataset_label=''):\n",
    "    summary_rows = []\n",
    "    for name, m in results_store.items():\n",
    "        summary_rows.append({\n",
    "            'Model': name,\n",
    "            'Train Accuracy': m['train_accuracy'],\n",
    "            'Test Accuracy': m['test_accuracy'],\n",
    "            'Test Precision': m['test_precision'],\n",
    "            'Test Recall': m['test_recall'],\n",
    "            'Test F1': m['test_f1'],\n",
    "            'Overfit (train-test)': m['train_accuracy'] - m['test_accuracy']\n",
    "        })\n",
    "\n",
    "    summary_df = pd.DataFrame(summary_rows).sort_values('Test Accuracy', ascending=False)\n",
    "    print(f\"Summary for {dataset_label} dataset:\")\n",
    "    display(summary_df)\n",
    "\n",
    "    plt.figure(figsize=(8,4))\n",
    "    sns.barplot(x='Model', y='Test Accuracy', data=summary_df)\n",
    "    plt.xticks(rotation=45)\n",
    "    plt.ylim(0,1)\n",
    "    plt.title(f\"Model test accuracy comparison ({dataset_label})\")\n",
    "    plt.show()\n",
    "\n",
    "    return summary_df\n",
    "\n"
   ]
  },
  {
   "cell_type": "code",
   "execution_count": null,
   "id": "871a82e5",
   "metadata": {},
   "outputs": [],
   "source": [
    "summary_uk = summarize_and_plot_results(results_store_uk, dataset_label='UK')\n"
   ]
  },
  {
   "cell_type": "code",
   "execution_count": null,
   "id": "688aa277",
   "metadata": {},
   "outputs": [],
   "source": [
    "summary_us = summarize_and_plot_results(results_store_us, dataset_label='US')\n"
   ]
  },
  {
   "cell_type": "code",
   "execution_count": null,
   "id": "3fc88d70",
   "metadata": {},
   "outputs": [],
   "source": [
    "import shap\n",
    "\n",
    "def run_shap_rf(results_store, prep, dataset_label=''):\n",
    "    try:\n",
    "        model = results_store['Random Forest']['model']\n",
    "        Xs = prep['X_test'].iloc[:200]  # limit for speed\n",
    "        explainer = shap.TreeExplainer(model)\n",
    "        shap_values = explainer.shap_values(Xs)\n",
    "\n",
    "        print(f\"SHAP summary plots for Random Forest on {dataset_label} dataset:\")\n",
    "        if isinstance(shap_values, list):\n",
    "            # for multiclass, show class 1 (adjust if needed)\n",
    "            shap.summary_plot(shap_values[1], Xs, feature_names=prep['feature_names'])\n",
    "            shap.summary_plot(shap_values[1], Xs, plot_type=\"bar\", feature_names=prep['feature_names'])\n",
    "        else:\n",
    "            shap.summary_plot(shap_values, Xs, feature_names=prep['feature_names'])\n",
    "            shap.summary_plot(shap_values, Xs, plot_type=\"bar\", feature_names=prep['feature_names'])\n",
    "    except Exception as e:\n",
    "        print(f\"SHAP error for {dataset_label}:\", e)\n",
    "\n"
   ]
  },
  {
   "cell_type": "code",
   "execution_count": null,
   "id": "a82c5318",
   "metadata": {},
   "outputs": [],
   "source": [
    "\n",
    "run_shap_rf(results_store_us, prep_us, dataset_label='US')\n"
   ]
  },
  {
   "cell_type": "code",
   "execution_count": null,
   "id": "122aa3ef",
   "metadata": {},
   "outputs": [],
   "source": [
    "run_shap_rf(results_store_uk, prep_uk, dataset_label='UK')"
   ]
  },
  {
   "cell_type": "code",
   "execution_count": null,
   "id": "d1f413e4",
   "metadata": {},
   "outputs": [],
   "source": [
    "import lime.lime_tabular\n",
    "\n",
    "def run_lime_rf_explanation(results_store, prep, dataset_label=''):\n",
    "    try:\n",
    "        model = results_store['Random Forest']['model']\n",
    "        class_names = None\n",
    "        if prep.get('label_encoder') is not None:\n",
    "            class_names = list(prep['label_encoder'].classes_)\n",
    "        else:\n",
    "            class_names = [str(c) for c in sorted(prep['y_train'].unique())]\n",
    "\n",
    "        explainer = lime.lime_tabular.LimeTabularExplainer(\n",
    "            prep['X_train'].values,\n",
    "            feature_names=prep['feature_names'],\n",
    "            class_names=class_names,\n",
    "            discretize_continuous=True\n",
    "        )\n",
    "\n",
    "        idx = 0  # change index to explain other test instances\n",
    "        instance = prep['X_test'].iloc[idx].values\n",
    "        explanation = explainer.explain_instance(instance, model.predict_proba, num_features=10)\n",
    "        print(f\"LIME explanation for Random Forest on {dataset_label} dataset, instance {idx}:\")\n",
    "        explanation.show_in_notebook(show_table=True)\n",
    "\n",
    "    except Exception as e:\n",
    "        print(f\"LIME error for {dataset_label} dataset:\", e)\n",
    "\n"
   ]
  },
  {
   "cell_type": "code",
   "execution_count": null,
   "id": "a45e0ff3",
   "metadata": {},
   "outputs": [],
   "source": [
    "\n",
    "run_lime_rf_explanation(results_store_us, prep_us, dataset_label='US')\n"
   ]
  },
  {
   "cell_type": "code",
   "execution_count": null,
   "id": "ae16e3a3",
   "metadata": {},
   "outputs": [],
   "source": [
    "run_lime_rf_explanation(results_store_uk, prep_uk, dataset_label='UK')"
   ]
  }
 ],
 "metadata": {
  "kernelspec": {
   "display_name": "Python 3",
   "language": "python",
   "name": "python3"
  },
  "language_info": {
   "codemirror_mode": {
    "name": "ipython",
    "version": 3
   },
   "file_extension": ".py",
   "mimetype": "text/x-python",
   "name": "python",
   "nbconvert_exporter": "python",
   "pygments_lexer": "ipython3",
   "version": "3.10.6"
  }
 },
 "nbformat": 4,
 "nbformat_minor": 5
}
