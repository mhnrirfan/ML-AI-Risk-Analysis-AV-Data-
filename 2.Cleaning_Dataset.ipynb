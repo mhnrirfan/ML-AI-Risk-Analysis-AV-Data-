{
 "cells": [
  {
   "cell_type": "code",
   "execution_count": null,
   "id": "1a376599",
   "metadata": {},
   "outputs": [],
   "source": [
    "# Output the merged dataframe to a CSV file\n",
    "cleaned_df.to_csv('merged_dataset.csv', index=False)\n",
    "print(\"Merged dataset has been saved to 'cleaned_df.csv'.\")"
   ]
  }
 ],
 "metadata": {
  "language_info": {
   "name": "python"
  }
 },
 "nbformat": 4,
 "nbformat_minor": 5
}
