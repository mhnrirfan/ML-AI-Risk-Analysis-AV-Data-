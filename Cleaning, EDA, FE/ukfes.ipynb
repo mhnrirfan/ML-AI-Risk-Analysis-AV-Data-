{
 "cells": [
  {
   "cell_type": "markdown",
   "id": "3a3e4c96",
   "metadata": {},
   "source": [
    "# **<span style=\"color:lightgreen;\">Scaling, Imputing and Heatmaps with Supervised Learning</span>**\n",
    "\n",
    "## **Purpose of Notebook**\n"
   ]
  },
  {
   "cell_type": "markdown",
   "id": "93426666",
   "metadata": {},
   "source": [
    "- Load datasets\n",
    "- Sample to balance size\n",
    "- Dummy fill NaNs\n",
    "- Encode categoricals\n",
    "- Scale numericals\n",
    "- Supervised imputation\n",
    "- Correlation heatmap\n",
    "- Feature selection (top 10)\n",
    "\n",
    "---"
   ]
  },
  {
   "cell_type": "markdown",
   "id": "be5686d8",
   "metadata": {},
   "source": [
    "**Load needed Libraries**"
   ]
  },
  {
   "cell_type": "code",
   "execution_count": 1,
   "id": "0c4df137",
   "metadata": {},
   "outputs": [],
   "source": [
    "# Basic Libraries\n",
    "import pandas as pd\n",
    "import numpy as np\n",
    "import matplotlib.pyplot as plt\n",
    "import seaborn as sns\n",
    "from tabulate import tabulate\n",
    "\n",
    "# Preprocessing\n",
    "from sklearn.model_selection import train_test_split, GridSearchCV\n",
    "from sklearn.preprocessing import MinMaxScaler, LabelEncoder\n",
    "from sklearn.impute import SimpleImputer, KNNImputer\n",
    "\n",
    "# Models\n",
    "from sklearn.tree import DecisionTreeClassifier\n",
    "from sklearn.ensemble import RandomForestClassifier\n",
    "from sklearn.svm import SVC\n",
    "\n",
    "# Evaluation\n",
    "from sklearn.metrics import (\n",
    "    accuracy_score, precision_score, recall_score,\n",
    "    f1_score, confusion_matrix, mean_squared_error\n",
    ")\n",
    "\n",
    "# Clustering (if needed)\n",
    "from sklearn.cluster import KMeans\n",
    "from sklearn.metrics import silhouette_score\n",
    "\n"
   ]
  },
  {
   "cell_type": "markdown",
   "id": "f814f612",
   "metadata": {},
   "source": [
    "**Load in the cleaned datasets**\n"
   ]
  },
  {
   "cell_type": "code",
   "execution_count": 2,
   "id": "9cabc936",
   "metadata": {},
   "outputs": [
    {
     "name": "stdout",
     "output_type": "stream",
     "text": [
      "US Dataset Shape: (4372, 21)\n",
      "UK Dataset Shape: (232365, 21)\n"
     ]
    }
   ],
   "source": [
    "# Display all columns of a pandas DataFrame when printed\n",
    "pd.set_option('display.max_columns', None)\n",
    "\n",
    "# US Dataset\n",
    "US_data = pd.read_csv('/Users/mahnooriqbal/COMP702 Project/ML-AI-Risk-Analysis-AV-Data-/Datasets/US-cleaned_data.csv')\n",
    "\n",
    "\n",
    "# UK Dataset\n",
    "UK_data = pd.read_csv('/Users/mahnooriqbal/COMP702 Project/ML-AI-Risk-Analysis-AV-Data-/Datasets/UK-cleaned_data.csv')\n",
    "\n",
    "print(\"US Dataset Shape:\", US_data.shape)\n",
    "print(\"UK Dataset Shape:\", UK_data.shape)"
   ]
  },
  {
   "cell_type": "code",
   "execution_count": 3,
   "id": "8d5d594e",
   "metadata": {},
   "outputs": [],
   "source": [
    "# Identify numerical and categorical columns\n",
    "numerical_columns = ['Posted Speed Limit (MPH)']\n",
    "categorical_columns = [\n",
    "    'Make', 'Model', 'Model Year', 'ADS Equipped?',\n",
    "    'Automation System Engaged?', 'City', 'State', 'Roadway Type', 'Roadway Surface',\n",
    "    'Lighting', 'Crash With', 'Highest Injury Severity Alleged',\n",
    "    'SV Pre-Crash Movement', 'SV Contact Area', 'Weather', 'Country'\n",
    "]\n",
    "datetime_columns = ['Incident Date', 'Incident Time (24:00)']\n",
    "indexing_columns = ['Report ID', 'Report Version']"
   ]
  },
  {
   "cell_type": "markdown",
   "id": "866dda7b",
   "metadata": {},
   "source": [
    "**Fill in Missing Data**\n",
    "\n"
   ]
  },
  {
   "cell_type": "code",
   "execution_count": 4,
   "id": "ed80aee2",
   "metadata": {},
   "outputs": [
    {
     "name": "stdout",
     "output_type": "stream",
     "text": [
      "Missing Values in UK Dataset:\n",
      "+---------+------------------------------+\n",
      "| Feature | Percentage of Missing Values |\n",
      "+---------+------------------------------+\n",
      "|  Model  |            1.11 %            |\n",
      "+---------+------------------------------+\n",
      "Missing Values in US Dataset:\n",
      "+--------------------------+------------------------------+\n",
      "|         Feature          | Percentage of Missing Values |\n",
      "+--------------------------+------------------------------+\n",
      "|        Model Year        |            0.32 %            |\n",
      "|      Incident Date       |            0.43 %            |\n",
      "|  Incident Time (24:00)   |            4.6 %             |\n",
      "| Posted Speed Limit (MPH) |           11.34 %            |\n",
      "+--------------------------+------------------------------+\n"
     ]
    }
   ],
   "source": [
    "from prettytable import PrettyTable\n",
    "\n",
    "# Function to calculate and display missing values\n",
    "def display_missing_values(dataset, dataset_name):\n",
    "    features_with_na = [feature for feature in dataset.columns if dataset[feature].isnull().sum() > 0]\n",
    "    \n",
    "    # Create a PrettyTable\n",
    "    table = PrettyTable()\n",
    "    table.field_names = [\"Feature\", \"Percentage of Missing Values\"]\n",
    "    \n",
    "    for feature in features_with_na:\n",
    "        missing_percentage = np.round(dataset[feature].isnull().mean() * 100, 2)\n",
    "        table.add_row([feature, f\"{missing_percentage} %\"])\n",
    "    \n",
    "    print(f\"Missing Values in {dataset_name}:\")\n",
    "    print(table)\n",
    "\n",
    "# Check missing values for both datasets\n",
    "display_missing_values(UK_data, \"UK Dataset\")\n",
    "display_missing_values(US_data, \"US Dataset\")\n"
   ]
  },
  {
   "cell_type": "markdown",
   "id": "48494d59",
   "metadata": {},
   "source": [
    "# **Encode Catergorical and Time Series Data**"
   ]
  },
  {
   "cell_type": "code",
   "execution_count": 5,
   "id": "a516542a",
   "metadata": {},
   "outputs": [],
   "source": [
    "from sklearn.preprocessing import LabelEncoder\n",
    "\n",
    "def encode_df(df, categorical_columns=categorical_columns, datetime_columns=datetime_columns):\n",
    "    data_copy.drop(columns=indexing_columns, inplace=True)\n",
    "\n",
    "    for col in categorical_columns:\n",
    "        if col in data_copy.columns:\n",
    "            le = LabelEncoder()\n",
    "            data_copy[col] = le.fit_transform(data_copy[col].astype(str))\n",
    "    \n",
    "    for col in datetime_columns:\n",
    "        if col in data_copy.columns:\n",
    "            le = LabelEncoder()\n",
    "            data_copy[col] = le.fit_transform(data_copy[col].astype(str))\n",
    "    return data_copy\n"
   ]
  },
  {
   "cell_type": "markdown",
   "id": "3da3c6c4",
   "metadata": {},
   "source": [
    "**Scale Values**"
   ]
  },
  {
   "cell_type": "code",
   "execution_count": 6,
   "id": "b535dcb5",
   "metadata": {},
   "outputs": [
    {
     "name": "stdout",
     "output_type": "stream",
     "text": [
      "Missing Values in UK Dataset:\n",
      "+---------+------------------------------+\n",
      "| Feature | Percentage of Missing Values |\n",
      "+---------+------------------------------+\n",
      "|  Model  |            1.11 %            |\n",
      "+---------+------------------------------+\n",
      "Missing Values in US Dataset:\n",
      "+--------------------------+------------------------------+\n",
      "|         Feature          | Percentage of Missing Values |\n",
      "+--------------------------+------------------------------+\n",
      "|        Model Year        |            0.32 %            |\n",
      "|      Incident Date       |            0.43 %            |\n",
      "|  Incident Time (24:00)   |            4.6 %             |\n",
      "| Posted Speed Limit (MPH) |           11.34 %            |\n",
      "+--------------------------+------------------------------+\n"
     ]
    }
   ],
   "source": [
    "from sklearn.preprocessing import MinMaxScaler\n",
    "\n",
    "def scale_df(df):\n",
    "    scaler = MinMaxScaler()\n",
    "    scaled_df[df.columns] = scaler.fit_transform(df)\n",
    "    return scaled_df\n",
    "\n",
    "\n",
    "# Check missing values for both datasets\n",
    "display_missing_values(UK_data, \"UK Dataset\")\n",
    "display_missing_values(US_data, \"US Dataset\")"
   ]
  },
  {
   "cell_type": "markdown",
   "id": "4d89bba8",
   "metadata": {},
   "source": [
    "# **Imputing Methods**\n",
    "- mean/median/mode\n",
    "- k Means\n",
    "- random \n",
    "- regression model\n",
    "- k nearest neighbours\n",
    "- last occured carried forward"
   ]
  },
  {
   "cell_type": "markdown",
   "id": "57173914",
   "metadata": {},
   "source": [
    "### **Mean, Median, Mode**\n",
    "- Best for: Small amounts of missing numerical data.\n",
    "- How it works: Replaces missing values with the mean (for normally distributed data), median (for skewed data), or mode (for categorical variables).\n",
    "- Limitations: Can distort distributions and underestimate variance."
   ]
  },
  {
   "cell_type": "code",
   "execution_count": 7,
   "id": "91636d85",
   "metadata": {},
   "outputs": [
    {
     "name": "stderr",
     "output_type": "stream",
     "text": [
      "/var/folders/0k/whv99z5n5rnb1xp8n07krpcw0000gn/T/ipykernel_2547/3061155062.py:17: FutureWarning: A value is trying to be set on a copy of a DataFrame or Series through chained assignment using an inplace method.\n",
      "The behavior will change in pandas 3.0. This inplace method will never work because the intermediate object on which we are setting values always behaves as a copy.\n",
      "\n",
      "For example, when doing 'df[col].method(value, inplace=True)', try using 'df.method({col: value}, inplace=True)' or df[col] = df[col].method(value) instead, to perform the operation inplace on the original object.\n",
      "\n",
      "\n",
      "  data[col].fillna(data[col].mean(), inplace=True)\n",
      "/var/folders/0k/whv99z5n5rnb1xp8n07krpcw0000gn/T/ipykernel_2547/3061155062.py:22: FutureWarning: A value is trying to be set on a copy of a DataFrame or Series through chained assignment using an inplace method.\n",
      "The behavior will change in pandas 3.0. This inplace method will never work because the intermediate object on which we are setting values always behaves as a copy.\n",
      "\n",
      "For example, when doing 'df[col].method(value, inplace=True)', try using 'df.method({col: value}, inplace=True)' or df[col] = df[col].method(value) instead, to perform the operation inplace on the original object.\n",
      "\n",
      "\n",
      "  data[col].fillna(data[col].mode()[0], inplace=True)\n"
     ]
    },
    {
     "name": "stdout",
     "output_type": "stream",
     "text": [
      "+----+---------------+------------------+-----------------------------------+-----------------+-------------------------+--------------------+----------------------------+----------------+-----------+--------------------+-------------------------+--------------------+-------------------+----------------+----------------+----------------+----------+---------+--------------+-----------------+------------------------------+\n",
      "|    |     Report ID |   Report Version | Highest Injury Severity Alleged   | Incident Date   | Incident Time (24:00)   | Roadway Type       |   Posted Speed Limit (MPH) | Lighting       | Weather   | Roadway Surface    | SV Pre-Crash Movement   | Crash With         | SV Contact Area   | City           | State          | Country        | Make     | Model   |   Model Year | ADS Equipped?   | Automation System Engaged?   |\n",
      "|----+---------------+------------------+-----------------------------------+-----------------+-------------------------+--------------------+----------------------------+----------------+-----------+--------------------+-------------------------+--------------------+-------------------+----------------+----------------+----------------+----------+---------+--------------+-----------------+------------------------------|\n",
      "|  0 | 2019010155206 |         10155206 | Minor                             | 2019-01-01      | 01:15:00                | Single carriageway |                         30 | Dark - Lighted | Clear     | Single carriageway | Waiting to go - held up | No Object          | Front             | Chadwell Heath | Greater London | United Kingdom | SUZUKI   | SWIFT   |         2015 | Conventional    | Conventional                 |\n",
      "|  1 | 2019010155217 |         10155217 | Serious                           | 2019-01-01      | 04:10:00                | Dual carriageway   |                         40 | Dark - Lighted | Clear     | Dual carriageway   | Going ahead other       | Other Fixed Object | Front             | Ilford         | Greater London | United Kingdom | HYUNDAI  | I30     |         2015 | Conventional    | Conventional                 |\n",
      "|  2 | 2019010155425 |         10155425 | Minor                             | 2019-01-02      | 15:07:00                | Single carriageway |                         20 | Daylight       | Clear     | Single carriageway | Going ahead other       | No Object          | Front             | Stamford Hill  | Greater London | United Kingdom | MERCEDES | C CLASS |         2018 | Conventional    | Conventional                 |\n",
      "|  3 | 2019010156538 |         10156538 | Minor                             | 2019-01-08      | 21:20:00                | Single carriageway |                         20 | Dark - Lighted | Clear     | Single carriageway | Going ahead other       | No Object          | Front             | Goodmayes      | Greater London | United Kingdom | TOYOTA   | AVENSIS |         2005 | Conventional    | Conventional                 |\n",
      "|  4 | 2019010156721 |         10156721 | Serious                           | 2019-01-10      | 08:20:00                | Dual carriageway   |                         30 | Daylight       | Clear     | Dual carriageway   | Going ahead other       | No Object          | Front             | South Norwood  | Greater London | United Kingdom | AUDI     | A4      |         2017 | Conventional    | Conventional                 |\n",
      "+----+---------------+------------------+-----------------------------------+-----------------+-------------------------+--------------------+----------------------------+----------------+-----------+--------------------+-------------------------+--------------------+-------------------+----------------+----------------+----------------+----------+---------+--------------+-----------------+------------------------------+\n"
     ]
    },
    {
     "name": "stderr",
     "output_type": "stream",
     "text": [
      "/var/folders/0k/whv99z5n5rnb1xp8n07krpcw0000gn/T/ipykernel_2547/3061155062.py:27: FutureWarning: A value is trying to be set on a copy of a DataFrame or Series through chained assignment using an inplace method.\n",
      "The behavior will change in pandas 3.0. This inplace method will never work because the intermediate object on which we are setting values always behaves as a copy.\n",
      "\n",
      "For example, when doing 'df[col].method(value, inplace=True)', try using 'df.method({col: value}, inplace=True)' or df[col] = df[col].method(value) instead, to perform the operation inplace on the original object.\n",
      "\n",
      "\n",
      "  data[col].fillna(data[col].mode()[0], inplace=True)\n"
     ]
    }
   ],
   "source": [
    "def mode_mean_imputation(data, numerical_columns, categorical_columns, datetime_columns):\n",
    "    \"\"\"\n",
    "    Impute missing values in numerical and categorical columns using mean for numerical and mode for categorical and datetime.\n",
    "    \n",
    "    Parameters:\n",
    "    - data: DataFrame with missing values\n",
    "    - numerical_columns: List of numerical columns to impute\n",
    "    - categorical_columns: List of categorical columns to impute\n",
    "    - datetime_columns: List of datetime columns to impute\n",
    "    \n",
    "    Returns:\n",
    "    - DataFrame with imputed values\n",
    "    \"\"\"\n",
    "    # Impute numerical columns with mean\n",
    "    for col in numerical_columns:\n",
    "        if col in data.columns:\n",
    "            data[col].fillna(data[col].mean(), inplace=True)\n",
    "    \n",
    "    # Impute categorical columns with mode\n",
    "    for col in categorical_columns:\n",
    "        if col in data.columns:\n",
    "            data[col].fillna(data[col].mode()[0], inplace=True)\n",
    "    \n",
    "    # Impute datetime columns with mode\n",
    "    for col in datetime_columns:\n",
    "        if col in data.columns:\n",
    "            data[col].fillna(data[col].mode()[0], inplace=True)\n",
    "    \n",
    "    return data\n",
    "\n",
    "mode_imputed_df = mode_mean_imputation(UK_data.copy(), numerical_columns, categorical_columns, datetime_columns)\n",
    "from tabulate import tabulate\n",
    "\n",
    "print(tabulate(mode_imputed_df.head(), headers='keys', tablefmt='psql'))\n",
    "\n",
    "\n",
    "\n"
   ]
  },
  {
   "cell_type": "markdown",
   "id": "7f6fd453",
   "metadata": {},
   "source": [
    "### **Random Imputation**\n",
    "- **Best for:** Maintaining original distribution with enough data  \n",
    "- **How it works:** Replaces missing by random sampling from existing values  \n",
    "- **Limitations:** Adds randomness; may create unrealistic combinations  \n"
   ]
  },
  {
   "cell_type": "code",
   "execution_count": 8,
   "id": "6a489abc",
   "metadata": {},
   "outputs": [
    {
     "name": "stdout",
     "output_type": "stream",
     "text": [
      "+----+---------------+------------------+-----------------------------------+-----------------+-------------------------+--------------------+----------------------------+----------------+-----------+--------------------+-------------------------+--------------------+-------------------+----------------+----------------+----------------+----------+---------+--------------+-----------------+------------------------------+\n",
      "|    |     Report ID |   Report Version | Highest Injury Severity Alleged   | Incident Date   | Incident Time (24:00)   | Roadway Type       |   Posted Speed Limit (MPH) | Lighting       | Weather   | Roadway Surface    | SV Pre-Crash Movement   | Crash With         | SV Contact Area   | City           | State          | Country        | Make     | Model   |   Model Year | ADS Equipped?   | Automation System Engaged?   |\n",
      "|----+---------------+------------------+-----------------------------------+-----------------+-------------------------+--------------------+----------------------------+----------------+-----------+--------------------+-------------------------+--------------------+-------------------+----------------+----------------+----------------+----------+---------+--------------+-----------------+------------------------------|\n",
      "|  0 | 2019010155206 |         10155206 | Minor                             | 2019-01-01      | 01:15:00                | Single carriageway |                         30 | Dark - Lighted | Clear     | Single carriageway | Waiting to go - held up | No Object          | Front             | Chadwell Heath | Greater London | United Kingdom | SUZUKI   | SWIFT   |         2015 | Conventional    | Conventional                 |\n",
      "|  1 | 2019010155217 |         10155217 | Serious                           | 2019-01-01      | 04:10:00                | Dual carriageway   |                         40 | Dark - Lighted | Clear     | Dual carriageway   | Going ahead other       | Other Fixed Object | Front             | Ilford         | Greater London | United Kingdom | HYUNDAI  | I30     |         2015 | Conventional    | Conventional                 |\n",
      "|  2 | 2019010155425 |         10155425 | Minor                             | 2019-01-02      | 15:07:00                | Single carriageway |                         20 | Daylight       | Clear     | Single carriageway | Going ahead other       | No Object          | Front             | Stamford Hill  | Greater London | United Kingdom | MERCEDES | C CLASS |         2018 | Conventional    | Conventional                 |\n",
      "|  3 | 2019010156538 |         10156538 | Minor                             | 2019-01-08      | 21:20:00                | Single carriageway |                         20 | Dark - Lighted | Clear     | Single carriageway | Going ahead other       | No Object          | Front             | Goodmayes      | Greater London | United Kingdom | TOYOTA   | AVENSIS |         2005 | Conventional    | Conventional                 |\n",
      "|  4 | 2019010156721 |         10156721 | Serious                           | 2019-01-10      | 08:20:00                | Dual carriageway   |                         30 | Daylight       | Clear     | Dual carriageway   | Going ahead other       | No Object          | Front             | South Norwood  | Greater London | United Kingdom | AUDI     | A4      |         2017 | Conventional    | Conventional                 |\n",
      "+----+---------------+------------------+-----------------------------------+-----------------+-------------------------+--------------------+----------------------------+----------------+-----------+--------------------+-------------------------+--------------------+-------------------+----------------+----------------+----------------+----------+---------+--------------+-----------------+------------------------------+\n"
     ]
    }
   ],
   "source": [
    "import numpy as np\n",
    "\n",
    "def random_imputation(data, numerical_columns, categorical_columns, datetime_columns):\n",
    "    \"\"\"\n",
    "    Impute missing values by randomly sampling from non-missing values in each column.\n",
    "    \n",
    "    Parameters:\n",
    "    - data: DataFrame with missing values\n",
    "    - numerical_columns: List of numerical columns to impute\n",
    "    - categorical_columns: List of categorical columns to impute\n",
    "    - datetime_columns: List of datetime columns to impute\n",
    "    \n",
    "    Returns:\n",
    "    - DataFrame with imputed values\n",
    "    \"\"\"\n",
    "    for col in numerical_columns + categorical_columns + datetime_columns:\n",
    "        if col in data.columns:\n",
    "            non_null_values = data[col].dropna().values\n",
    "            # Only impute if there are missing values and non-null values exist\n",
    "            if data[col].isnull().sum() > 0 and len(non_null_values) > 0:\n",
    "                # Randomly choose from non-null values to fill missing\n",
    "                random_samples = np.random.choice(non_null_values, size=data[col].isnull().sum(), replace=True)\n",
    "                data.loc[data[col].isnull(), col] = random_samples\n",
    "                \n",
    "    return data\n",
    "\n",
    "# Use your data and columns as before\n",
    "mode_imputed_df = random_imputation(UK_data.copy(), numerical_columns, categorical_columns, datetime_columns)\n",
    "\n",
    "from tabulate import tabulate\n",
    "print(tabulate(mode_imputed_df.head(), headers='keys', tablefmt='psql'))\n"
   ]
  },
  {
   "cell_type": "markdown",
   "id": "5c8ff8a0",
   "metadata": {},
   "source": [
    "### **Last Occurance Imputation**\n",
    "- **Best for:** Maintaining original distribution with enough data  \n",
    "- **How it works:** Replaces missing by random sampling from existing values  \n",
    "- **Limitations:** Adds randomness; may create unrealistic combinations  \n"
   ]
  },
  {
   "cell_type": "code",
   "execution_count": 9,
   "id": "3e49ade2",
   "metadata": {},
   "outputs": [
    {
     "name": "stderr",
     "output_type": "stream",
     "text": [
      "/var/folders/0k/whv99z5n5rnb1xp8n07krpcw0000gn/T/ipykernel_2547/3335826602.py:16: FutureWarning: A value is trying to be set on a copy of a DataFrame or Series through chained assignment using an inplace method.\n",
      "The behavior will change in pandas 3.0. This inplace method will never work because the intermediate object on which we are setting values always behaves as a copy.\n",
      "\n",
      "For example, when doing 'df[col].method(value, inplace=True)', try using 'df.method({col: value}, inplace=True)' or df[col] = df[col].method(value) instead, to perform the operation inplace on the original object.\n",
      "\n",
      "\n",
      "  data[col].fillna(method='bfill', inplace=True)\n",
      "/var/folders/0k/whv99z5n5rnb1xp8n07krpcw0000gn/T/ipykernel_2547/3335826602.py:16: FutureWarning: Series.fillna with 'method' is deprecated and will raise in a future version. Use obj.ffill() or obj.bfill() instead.\n",
      "  data[col].fillna(method='bfill', inplace=True)\n"
     ]
    },
    {
     "name": "stdout",
     "output_type": "stream",
     "text": [
      "+----+---------------+------------------+-----------------------------------+-----------------+-------------------------+--------------------+----------------------------+----------------+-----------+--------------------+-------------------------+--------------------+-------------------+----------------+----------------+----------------+----------+---------+--------------+-----------------+------------------------------+\n",
      "|    |     Report ID |   Report Version | Highest Injury Severity Alleged   | Incident Date   | Incident Time (24:00)   | Roadway Type       |   Posted Speed Limit (MPH) | Lighting       | Weather   | Roadway Surface    | SV Pre-Crash Movement   | Crash With         | SV Contact Area   | City           | State          | Country        | Make     | Model   |   Model Year | ADS Equipped?   | Automation System Engaged?   |\n",
      "|----+---------------+------------------+-----------------------------------+-----------------+-------------------------+--------------------+----------------------------+----------------+-----------+--------------------+-------------------------+--------------------+-------------------+----------------+----------------+----------------+----------+---------+--------------+-----------------+------------------------------|\n",
      "|  0 | 2019010155206 |         10155206 | Minor                             | 2019-01-01      | 01:15:00                | Single carriageway |                         30 | Dark - Lighted | Clear     | Single carriageway | Waiting to go - held up | No Object          | Front             | Chadwell Heath | Greater London | United Kingdom | SUZUKI   | SWIFT   |         2015 | Conventional    | Conventional                 |\n",
      "|  1 | 2019010155217 |         10155217 | Serious                           | 2019-01-01      | 04:10:00                | Dual carriageway   |                         40 | Dark - Lighted | Clear     | Dual carriageway   | Going ahead other       | Other Fixed Object | Front             | Ilford         | Greater London | United Kingdom | HYUNDAI  | I30     |         2015 | Conventional    | Conventional                 |\n",
      "|  2 | 2019010155425 |         10155425 | Minor                             | 2019-01-02      | 15:07:00                | Single carriageway |                         20 | Daylight       | Clear     | Single carriageway | Going ahead other       | No Object          | Front             | Stamford Hill  | Greater London | United Kingdom | MERCEDES | C CLASS |         2018 | Conventional    | Conventional                 |\n",
      "|  3 | 2019010156538 |         10156538 | Minor                             | 2019-01-08      | 21:20:00                | Single carriageway |                         20 | Dark - Lighted | Clear     | Single carriageway | Going ahead other       | No Object          | Front             | Goodmayes      | Greater London | United Kingdom | TOYOTA   | AVENSIS |         2005 | Conventional    | Conventional                 |\n",
      "|  4 | 2019010156721 |         10156721 | Serious                           | 2019-01-10      | 08:20:00                | Dual carriageway   |                         30 | Daylight       | Clear     | Dual carriageway   | Going ahead other       | No Object          | Front             | South Norwood  | Greater London | United Kingdom | AUDI     | A4      |         2017 | Conventional    | Conventional                 |\n",
      "+----+---------------+------------------+-----------------------------------+-----------------+-------------------------+--------------------+----------------------------+----------------+-----------+--------------------+-------------------------+--------------------+-------------------+----------------+----------------+----------------+----------+---------+--------------+-----------------+------------------------------+\n"
     ]
    }
   ],
   "source": [
    "def last_occurrence_imputation(data, numerical_columns, categorical_columns, datetime_columns):\n",
    "    \"\"\"\n",
    "    Impute missing values using backward fill (last occurrence) for numerical, categorical, and datetime columns.\n",
    "    \n",
    "    Parameters:\n",
    "    - data: DataFrame with missing values\n",
    "    - numerical_columns: List of numerical columns to impute\n",
    "    - categorical_columns: List of categorical columns to impute\n",
    "    - datetime_columns: List of datetime columns to impute\n",
    "    \n",
    "    Returns:\n",
    "    - DataFrame with imputed values\n",
    "    \"\"\"\n",
    "    for col in numerical_columns + categorical_columns + datetime_columns:\n",
    "        if col in data.columns:\n",
    "            data[col].fillna(method='bfill', inplace=True)\n",
    "            \n",
    "    return data\n",
    "\n",
    "# Usage example\n",
    "mode_imputed_df = last_occurrence_imputation(UK_data, numerical_columns, categorical_columns, datetime_columns)\n",
    "\n",
    "from tabulate import tabulate\n",
    "print(tabulate(mode_imputed_df.head(), headers='keys', tablefmt='psql'))\n"
   ]
  },
  {
   "cell_type": "markdown",
   "id": "69aba836",
   "metadata": {},
   "source": [
    "### Regression Imputer\n",
    "- **Best for:** When strong relationships exist between features  \n",
    "- **How it works:** Predicts missing values using regression models on other features  \n",
    "- **Limitations:** Assumes linearity; risk of overfitting if data is small  "
   ]
  },
  {
   "cell_type": "code",
   "execution_count": 10,
   "id": "6fdfbd67",
   "metadata": {},
   "outputs": [
    {
     "name": "stdout",
     "output_type": "stream",
     "text": [
      "+----+----------------------------+----------+---------+--------------+-----------------+------------------------------+----------------+----------------+--------------------+--------------------+----------------+--------------------+-----------------------------------+-------------------------+-------------------+-----------+----------------+-----------------+-------------------------+\n",
      "|    |   Posted Speed Limit (MPH) | Make     | Model   |   Model Year | ADS Equipped?   | Automation System Engaged?   | City           | State          | Roadway Type       | Roadway Surface    | Lighting       | Crash With         | Highest Injury Severity Alleged   | SV Pre-Crash Movement   | SV Contact Area   | Weather   | Country        | Incident Date   | Incident Time (24:00)   |\n",
      "|----+----------------------------+----------+---------+--------------+-----------------+------------------------------+----------------+----------------+--------------------+--------------------+----------------+--------------------+-----------------------------------+-------------------------+-------------------+-----------+----------------+-----------------+-------------------------|\n",
      "|  0 |                         30 | SUZUKI   | SWIFT   |         2015 | Conventional    | Conventional                 | Chadwell Heath | Greater London | Single carriageway | Single carriageway | Dark - Lighted | No Object          | Minor                             | Waiting to go - held up | Front             | Clear     | United Kingdom | 2019-01-01      | 01:15:00                |\n",
      "|  1 |                         40 | HYUNDAI  | I30     |         2015 | Conventional    | Conventional                 | Ilford         | Greater London | Dual carriageway   | Dual carriageway   | Dark - Lighted | Other Fixed Object | Serious                           | Going ahead other       | Front             | Clear     | United Kingdom | 2019-01-01      | 04:10:00                |\n",
      "|  2 |                         20 | MERCEDES | C CLASS |         2018 | Conventional    | Conventional                 | Stamford Hill  | Greater London | Single carriageway | Single carriageway | Daylight       | No Object          | Minor                             | Going ahead other       | Front             | Clear     | United Kingdom | 2019-01-02      | 15:07:00                |\n",
      "|  3 |                         20 | TOYOTA   | AVENSIS |         2005 | Conventional    | Conventional                 | Goodmayes      | Greater London | Single carriageway | Single carriageway | Dark - Lighted | No Object          | Minor                             | Going ahead other       | Front             | Clear     | United Kingdom | 2019-01-08      | 21:20:00                |\n",
      "|  4 |                         30 | AUDI     | A4      |         2017 | Conventional    | Conventional                 | South Norwood  | Greater London | Dual carriageway   | Dual carriageway   | Daylight       | No Object          | Serious                           | Going ahead other       | Front             | Clear     | United Kingdom | 2019-01-10      | 08:20:00                |\n",
      "+----+----------------------------+----------+---------+--------------+-----------------+------------------------------+----------------+----------------+--------------------+--------------------+----------------+--------------------+-----------------------------------+-------------------------+-------------------+-----------+----------------+-----------------+-------------------------+\n"
     ]
    },
    {
     "name": "stderr",
     "output_type": "stream",
     "text": [
      "/var/folders/0k/whv99z5n5rnb1xp8n07krpcw0000gn/T/ipykernel_2547/3543076123.py:16: FutureWarning: DataFrame.fillna with 'method' is deprecated and will raise in a future version. Use obj.ffill() or obj.bfill() instead.\n",
      "  imputed_datetime_df = regression_df[datetime_columns].fillna(method='ffill')\n"
     ]
    }
   ],
   "source": [
    "from sklearn.experimental import enable_iterative_imputer  # noqa\n",
    "from sklearn.impute import IterativeImputer\n",
    "import pandas as pd\n",
    "from tabulate import tabulate\n",
    "\n",
    "regression_df = UK_data.copy()\n",
    "# Impute only numerical columns\n",
    "imputer = IterativeImputer(random_state=0)\n",
    "imputed_array = imputer.fit_transform(regression_df[numerical_columns])\n",
    "imputed_numerical_df = pd.DataFrame(imputed_array, columns=numerical_columns)\n",
    "\n",
    "# For categorical: fill with mode or use another strategy\n",
    "imputed_categorical_df = regression_df[categorical_columns].fillna(regression_df[categorical_columns].mode().iloc[0])\n",
    "\n",
    "# For datetime: forward fill as an example\n",
    "imputed_datetime_df = regression_df[datetime_columns].fillna(method='ffill')\n",
    "imputed_df = pd.concat([imputed_numerical_df, imputed_categorical_df, imputed_datetime_df], axis=1)\n",
    "print(tabulate(imputed_df.head(), headers='keys', tablefmt='psql'))\n"
   ]
  },
  {
   "cell_type": "markdown",
   "id": "56bf4601",
   "metadata": {},
   "source": [
    "### **Comparison of Imputer Qualities**"
   ]
  },
  {
   "cell_type": "markdown",
   "id": "a3adf1c5",
   "metadata": {},
   "source": [
    "**Create a controlled test set with known missing values**\n",
    "- To fairly compare imputers, you need to:\n",
    "- Select a subset of your complete dataset with no missing values.\n",
    "- Introduce missing values artificially (e.g., 10% randomly) so you know the ground truth."
   ]
  },
  {
   "cell_type": "markdown",
   "id": "afd2624b",
   "metadata": {},
   "source": [
    "**Numerical Columns**"
   ]
  },
  {
   "cell_type": "code",
   "execution_count": null,
   "id": "6bf880bb",
   "metadata": {},
   "outputs": [
    {
     "ename": "NameError",
     "evalue": "name 'data_copy_scaled' is not defined",
     "output_type": "error",
     "traceback": [
      "\u001b[0;31m---------------------------------------------------------------------------\u001b[0m",
      "\u001b[0;31mNameError\u001b[0m                                 Traceback (most recent call last)",
      "Cell \u001b[0;32mIn[11], line 4\u001b[0m\n\u001b[1;32m      1\u001b[0m \u001b[38;5;66;03m# Step 1: Copy and clean\u001b[39;00m\n\u001b[1;32m      2\u001b[0m \n\u001b[1;32m      3\u001b[0m \u001b[38;5;66;03m# Step 4: Drop rows with any remaining missing values\u001b[39;00m\n\u001b[0;32m----> 4\u001b[0m complete_data \u001b[38;5;241m=\u001b[39m \u001b[43mdata_copy_scaled\u001b[49m\u001b[38;5;241m.\u001b[39mdropna()\n\u001b[1;32m      5\u001b[0m \u001b[38;5;66;03m# Step 5: Extract numerical columns (if needed)\u001b[39;00m\n\u001b[1;32m      6\u001b[0m numerical_data \u001b[38;5;241m=\u001b[39m complete_data[numerical_columns]\n",
      "\u001b[0;31mNameError\u001b[0m: name 'data_copy_scaled' is not defined"
     ]
    }
   ],
   "source": [
    "# Step 1: Copy and clean\n",
    "\n",
    "# Step 4: Drop rows with any remaining missing values\n",
    "complete_data = data_copy_scaled.dropna()\n",
    "# Step 5: Extract numerical columns (if needed)\n",
    "numerical_data = complete_data[numerical_columns]\n",
    "\n",
    "\n",
    "# 2. Randomly mask 20% of numerical values\n",
    "data_masked = numerical_data.copy()\n",
    "mask = np.random.rand(*data_masked.shape) < 0.2\n",
    "data_masked = data_masked.mask(mask)\n",
    "\n",
    "\n",
    "# 3. Imputation Methods\n",
    "# Mean\n",
    "mean_imp = SimpleImputer(strategy='mean')\n",
    "mean_result = pd.DataFrame(mean_imp.fit_transform(data_masked), columns=numerical_columns)\n",
    "\n",
    "# Mode\n",
    "mode_imp = SimpleImputer(strategy='most_frequent')\n",
    "mode_result = pd.DataFrame(mode_imp.fit_transform(data_masked), columns=numerical_columns)\n",
    "\n",
    "# Regression\n",
    "reg_imp = IterativeImputer(random_state=0)\n",
    "reg_result = pd.DataFrame(reg_imp.fit_transform(data_masked), columns=numerical_columns)\n",
    "\n",
    "# Last Occurrence (Forward Fill)\n",
    "last_occurrence_result = data_masked.fillna(method='ffill')\n",
    "\n",
    "# Random Imputation\n",
    "random_result = data_masked.copy()\n",
    "for col in numerical_columns:\n",
    "    missing_idx = random_result[col].isna()\n",
    "    if missing_idx.any():\n",
    "        random_sample = random_result[col].dropna().sample(missing_idx.sum(), replace=True, random_state=0).values\n",
    "        random_result.loc[missing_idx, col] = random_sample\n",
    "\n",
    "# Random Imputation\n",
    "random_result = data_masked.copy()\n",
    "for col in numerical_columns:\n",
    "    missing_idx = random_result[col].isna()\n",
    "    if missing_idx.any():\n",
    "        random_sample = random_result[col].dropna().sample(missing_idx.sum(), replace=True, random_state=0).values\n",
    "        random_result.loc[missing_idx, col] = random_sample\n",
    "\n",
    "# 4. RMSE calculation at only the masked (missing) positions\n",
    "def masked_rmse(imputed, original, mask):\n",
    "    rmse_total = 0\n",
    "    n = 0\n",
    "    for i, col in enumerate(numerical_columns):\n",
    "        col_mask = mask[:, i]\n",
    "        if np.any(col_mask):\n",
    "            mse = mean_squared_error(original[col_mask, i], imputed[col_mask, i])\n",
    "            rmse_total += np.sqrt(mse)\n",
    "            n += 1\n",
    "    return rmse_total / n\n",
    "\n",
    "# 5. Convert to arrays\n",
    "original_array = numerical_data.values\n",
    "mean_array = mean_result.values\n",
    "mode_array = mode_result.values\n",
    "reg_array = reg_result.values\n",
    "last_occ_array = last_occurrence_result.values\n",
    "random_array = random_result.values\n",
    "\n",
    "# 6. Compute RMSE for each method\n",
    "rmse_scores = {\n",
    "    \"Mean\": masked_rmse(mean_array, original_array, mask),\n",
    "    \"Mode\": masked_rmse(mode_array, original_array, mask),\n",
    "    \"Regression\": masked_rmse(reg_array, original_array, mask),\n",
    "    \"Last Occurrence\": masked_rmse(last_occ_array, original_array, mask),\n",
    "    \"Random\": masked_rmse(random_array, original_array, mask)\n",
    "}\n",
    "\n",
    "# 7. Print results\n",
    "table_data = [[method, f\"{score:.4f}\"] for method, score in rmse_scores.items()]\n",
    "print(tabulate(table_data, headers=[\"Imputation Method\", \"RMSE Score\"], tablefmt=\"psql\"))\n",
    "\n"
   ]
  },
  {
   "cell_type": "markdown",
   "id": "ba3b6a87",
   "metadata": {},
   "source": [
    "**Catergorical Columns**"
   ]
  },
  {
   "cell_type": "code",
   "execution_count": null,
   "id": "185be845",
   "metadata": {},
   "outputs": [
    {
     "name": "stdout",
     "output_type": "stream",
     "text": [
      "+---------------------+------------------+\n",
      "| Imputation Method   |   Accuracy Score |\n",
      "|---------------------+------------------|\n",
      "| Mode                |           0.5361 |\n",
      "| Last Occurrence     |           0.4865 |\n",
      "| Random              |           0.4544 |\n",
      "+---------------------+------------------+\n"
     ]
    }
   ],
   "source": [
    "import numpy as np\n",
    "import pandas as pd\n",
    "from sklearn.impute import SimpleImputer\n",
    "from sklearn.metrics import accuracy_score\n",
    "from tabulate import tabulate\n",
    "\n",
    "UK_data = UK_data.copy()\n",
    "# ----------------------------------------------\n",
    "# 1. Drop rows with missing values in categorical columns to get clean baseline\n",
    "complete_data = UK_data.dropna(subset=categorical_columns)\n",
    "\n",
    "categorical_data = complete_data[categorical_columns]\n",
    "\n",
    "# ----------------------------------------------\n",
    "# 2. Randomly mask 20% of categorical data\n",
    "data_masked = categorical_data.copy()\n",
    "mask = np.random.rand(*data_masked.shape) < 0.2\n",
    "data_masked = data_masked.mask(mask)\n",
    "\n",
    "# ----------------------------------------------\n",
    "# 3. Imputation Methods\n",
    "\n",
    "# Mode imputation\n",
    "mode_imp = SimpleImputer(strategy='most_frequent')\n",
    "mode_result = pd.DataFrame(mode_imp.fit_transform(data_masked), columns=categorical_columns)\n",
    "\n",
    "# Forward fill imputation (with backward fill to handle NaNs at top)\n",
    "last_occurrence_result = data_masked.ffill().bfill()\n",
    "\n",
    "# Random imputation\n",
    "random_result = data_masked.copy()\n",
    "for col in categorical_columns:\n",
    "    missing_idx = random_result[col].isna()\n",
    "    if missing_idx.any():\n",
    "        random_sample = random_result[col].dropna().sample(missing_idx.sum(), replace=True, random_state=0).values\n",
    "        random_result.loc[missing_idx, col] = random_sample\n",
    "\n",
    "# ----------------------------------------------\n",
    "# 4. Encode categorical columns as integers for accuracy calculation\n",
    "def encode_df(df):\n",
    "    encoded_df = pd.DataFrame()\n",
    "    encoders = {}\n",
    "    for col in categorical_columns:\n",
    "        encoded_df[col], encoders[col] = pd.factorize(df[col])\n",
    "    return encoded_df, encoders\n",
    "\n",
    "original_encoded, encoders = encode_df(categorical_data)\n",
    "mode_encoded, _ = encode_df(mode_result)\n",
    "last_occ_encoded, _ = encode_df(last_occurrence_result)\n",
    "random_encoded, _ = encode_df(random_result)\n",
    "\n",
    "# ----------------------------------------------\n",
    "# 5. Calculate accuracy at masked positions\n",
    "def masked_accuracy(imputed, original, mask):\n",
    "    total_acc = 0\n",
    "    n = 0\n",
    "    for i, col in enumerate(categorical_columns):\n",
    "        col_mask = mask[:, i]\n",
    "        if np.any(col_mask):\n",
    "            acc = accuracy_score(original[col_mask, i], imputed[col_mask, i])\n",
    "            total_acc += acc\n",
    "            n += 1\n",
    "    return total_acc / n\n",
    "\n",
    "# Convert mask DataFrame to numpy array if needed\n",
    "mask_array = mask.values if isinstance(mask, pd.DataFrame) else mask\n",
    "\n",
    "# ----------------------------------------------\n",
    "# 6. Calculate accuracy scores for each imputation method\n",
    "accuracy_scores = {\n",
    "    \"Mode\": masked_accuracy(mode_encoded.values, original_encoded.values, mask_array),\n",
    "    \"Last Occurrence\": masked_accuracy(last_occ_encoded.values, original_encoded.values, mask_array),\n",
    "    \"Random\": masked_accuracy(random_encoded.values, original_encoded.values, mask_array)\n",
    "}\n",
    "\n",
    "# ----------------------------------------------\n",
    "# 7. Print results in table format\n",
    "table_data = [[method, f\"{score:.4f}\"] for method, score in accuracy_scores.items()]\n",
    "print(tabulate(table_data, headers=[\"Imputation Method\", \"Accuracy Score\"], tablefmt=\"psql\"))\n",
    "\n"
   ]
  },
  {
   "cell_type": "markdown",
   "id": "d4de8b72",
   "metadata": {},
   "source": [
    "**Date Time columns**"
   ]
  },
  {
   "cell_type": "code",
   "execution_count": null,
   "id": "176f44dd",
   "metadata": {},
   "outputs": [
    {
     "name": "stdout",
     "output_type": "stream",
     "text": [
      "+---------------------+------------------+\n",
      "| Imputation Method   |   Accuracy Score |\n",
      "|---------------------+------------------|\n",
      "| Mode                |           0.5394 |\n",
      "| Last Occurrence     |           0.4926 |\n",
      "| Random              |           0.4518 |\n",
      "+---------------------+------------------+\n"
     ]
    }
   ],
   "source": [
    "import numpy as np\n",
    "import pandas as pd\n",
    "from sklearn.impute import SimpleImputer\n",
    "from sklearn.metrics import accuracy_score\n",
    "from tabulate import tabulate\n",
    "\n",
    "UK_data = UK_data.copy()\n",
    "\n",
    "# ----------------------------------------------\n",
    "# 1. Drop rows with missing values in datetime columns to get clean baseline\n",
    "complete_data = UK_data.dropna(subset=datetime_columns)\n",
    "\n",
    "# Select categorical columns from the cleaned data\n",
    "categorical_data = complete_data[categorical_columns]\n",
    "\n",
    "# ----------------------------------------------\n",
    "# 2. Randomly mask 20% of categorical data\n",
    "data_masked = categorical_data.copy()\n",
    "mask = np.random.rand(*data_masked.shape) < 0.2\n",
    "data_masked = data_masked.mask(mask)\n",
    "\n",
    "# ----------------------------------------------\n",
    "# 3. Imputation Methods\n",
    "\n",
    "# Mode imputation\n",
    "mode_imp = SimpleImputer(strategy='most_frequent')\n",
    "mode_result = pd.DataFrame(mode_imp.fit_transform(data_masked), columns=categorical_columns)\n",
    "\n",
    "# Forward fill imputation (with backward fill to handle NaNs at top)\n",
    "last_occurrence_result = data_masked.ffill().bfill()\n",
    "\n",
    "# Random imputation\n",
    "random_result = data_masked.copy()\n",
    "for col in categorical_columns:\n",
    "    missing_idx = random_result[col].isna()\n",
    "    if missing_idx.any():\n",
    "        random_sample = random_result[col].dropna().sample(missing_idx.sum(), replace=True, random_state=0).values\n",
    "        random_result.loc[missing_idx, col] = random_sample\n",
    "\n",
    "# ----------------------------------------------\n",
    "# 4. Encode categorical columns as integers for accuracy calculation\n",
    "def encoder_df(df):\n",
    "    encoded_df = pd.DataFrame()\n",
    "    encoders = {}\n",
    "    for col in categorical_columns:\n",
    "        encoded_df[col], encoders[col] = pd.factorize(df[col])\n",
    "    return encoded_df, encoders\n",
    "\n",
    "original_encoded, encoders = encoder_df(categorical_data)\n",
    "mode_encoded, _ = encoder_df(mode_result)\n",
    "last_occ_encoded, _ = encoder_df(last_occurrence_result)\n",
    "random_encoded, _ = encoder_df(random_result)\n",
    "\n",
    "# ----------------------------------------------\n",
    "# 5. Calculate accuracy at masked positions\n",
    "def masked_accuracy(imputed, original, mask):\n",
    "    total_acc = 0\n",
    "    n = 0\n",
    "    for i, col in enumerate(categorical_columns):\n",
    "        col_mask = mask[:, i]\n",
    "        if np.any(col_mask):\n",
    "            acc = accuracy_score(original[col_mask, i], imputed[col_mask, i])\n",
    "            total_acc += acc\n",
    "            n += 1\n",
    "    return total_acc / n\n",
    "\n",
    "# Convert mask DataFrame to numpy array if needed\n",
    "mask_array = mask.values if isinstance(mask, pd.DataFrame) else mask\n",
    "\n",
    "# ----------------------------------------------\n",
    "# 6. Calculate accuracy scores for each imputation method\n",
    "accuracy_scores = {\n",
    "    \"Mode\": masked_accuracy(mode_encoded.values, original_encoded.values, mask_array),\n",
    "    \"Last Occurrence\": masked_accuracy(last_occ_encoded.values, original_encoded.values, mask_array),\n",
    "    \"Random\": masked_accuracy(random_encoded.values, original_encoded.values, mask_array)\n",
    "}\n",
    "\n",
    "# ----------------------------------------------\n",
    "# 7. Print results in table format\n",
    "table_data = [[method, f\"{score:.4f}\"] for method, score in accuracy_scores.items()]\n",
    "print(tabulate(table_data, headers=[\"Imputation Method\", \"Accuracy Score\"], tablefmt=\"psql\"))\n"
   ]
  },
  {
   "cell_type": "markdown",
   "id": "7cfa433f",
   "metadata": {},
   "source": [
    "### **Final Imputations**\n",
    "\n",
    "For US \n",
    "- Numerical = Last Occurance\n",
    "- Catergorical = Last Occurance\n",
    "- Datetime = Last Occurance"
   ]
  },
  {
   "cell_type": "code",
   "execution_count": null,
   "id": "87946f8a",
   "metadata": {},
   "outputs": [
    {
     "data": {
      "image/png": "[encoded data removed]",
      "text/plain": [
       "<Figure size 1000x600 with 1 Axes>"
      ]
     },
     "metadata": {},
     "output_type": "display_data"
    }
   ],
   "source": [
    "import matplotlib.pyplot as plt\n",
    "import numpy as np\n",
    "\n",
    "# Data\n",
    "methods = ['Mean', 'Mode', 'Regression', 'Last Occurrence', 'Random']\n",
    "numerical_scores = [0.2266, 0.3261, 0.2266, 0.2173, 0.318]\n",
    "categorical_scores = [None, 0.3594, None, 0.3973, 0.2812]\n",
    "datetime_scores = [None, 0.3688, None, 0.4285, 0.2828]\n",
    "\n",
    "# Convert None to np.nan for plotting\n",
    "categorical_scores = [np.nan if x is None else x for x in categorical_scores]\n",
    "datetime_scores = [np.nan if x is None else x for x in datetime_scores]\n",
    "\n",
    "# Bar width and positions\n",
    "x = np.arange(len(methods))\n",
    "width = 0.25\n",
    "\n",
    "# Plotting\n",
    "fig, ax = plt.subplots(figsize=(10, 6))\n",
    "ax.bar(x - width, numerical_scores, width, label='Numerical (RMSE)', color='steelblue')\n",
    "ax.bar(x, categorical_scores, width, label='Categorical (Accuracy)', color='orange')\n",
    "ax.bar(x + width, datetime_scores, width, label='Date Time (Accuracy)', color='green')\n",
    "\n",
    "# Customizing plot\n",
    "ax.set_xticks(x)\n",
    "ax.set_xticklabels(methods, rotation=45)\n",
    "ax.set_ylabel('Score')\n",
    "ax.set_title('Imputation Method Comparison (Bar Chart)')\n",
    "ax.legend()\n",
    "ax.grid(True, axis='y', linestyle='--', alpha=0.7)\n",
    "plt.tight_layout()\n",
    "\n",
    "# Show the plot\n",
    "plt.show()\n"
   ]
  },
  {
   "cell_type": "code",
   "execution_count": null,
   "id": "0f0fdd13",
   "metadata": {},
   "outputs": [
    {
     "name": "stdout",
     "output_type": "stream",
     "text": [
      "+----+-----------------------------------+-----------------+-------------------------+--------------------+----------------------------+----------------+-----------+--------------------+-------------------------+--------------------+-------------------+----------------+----------------+----------------+----------+---------+--------------+-----------------+------------------------------+\n",
      "|    | Highest Injury Severity Alleged   | Incident Date   | Incident Time (24:00)   | Roadway Type       |   Posted Speed Limit (MPH) | Lighting       | Weather   | Roadway Surface    | SV Pre-Crash Movement   | Crash With         | SV Contact Area   | City           | State          | Country        | Make     | Model   |   Model Year | ADS Equipped?   | Automation System Engaged?   |\n",
      "|----+-----------------------------------+-----------------+-------------------------+--------------------+----------------------------+----------------+-----------+--------------------+-------------------------+--------------------+-------------------+----------------+----------------+----------------+----------+---------+--------------+-----------------+------------------------------|\n",
      "|  0 | Minor                             | 2019-01-01      | 01:15:00                | Single carriageway |                         30 | Dark - Lighted | Clear     | Single carriageway | Waiting to go - held up | No Object          | Front             | Chadwell Heath | Greater London | United Kingdom | SUZUKI   | SWIFT   |         2015 | Conventional    | Conventional                 |\n",
      "|  1 | Serious                           | 2019-01-01      | 04:10:00                | Dual carriageway   |                         40 | Dark - Lighted | Clear     | Dual carriageway   | Going ahead other       | Other Fixed Object | Front             | Ilford         | Greater London | United Kingdom | HYUNDAI  | I30     |         2015 | Conventional    | Conventional                 |\n",
      "|  2 | Minor                             | 2019-01-02      | 15:07:00                | Single carriageway |                         20 | Daylight       | Clear     | Single carriageway | Going ahead other       | No Object          | Front             | Stamford Hill  | Greater London | United Kingdom | MERCEDES | C CLASS |         2018 | Conventional    | Conventional                 |\n",
      "|  3 | Minor                             | 2019-01-08      | 21:20:00                | Single carriageway |                         20 | Dark - Lighted | Clear     | Single carriageway | Going ahead other       | No Object          | Front             | Goodmayes      | Greater London | United Kingdom | TOYOTA   | AVENSIS |         2005 | Conventional    | Conventional                 |\n",
      "|  4 | Serious                           | 2019-01-10      | 08:20:00                | Dual carriageway   |                         30 | Daylight       | Clear     | Dual carriageway   | Going ahead other       | No Object          | Front             | South Norwood  | Greater London | United Kingdom | AUDI     | A4      |         2017 | Conventional    | Conventional                 |\n",
      "+----+-----------------------------------+-----------------+-------------------------+--------------------+----------------------------+----------------+-----------+--------------------+-------------------------+--------------------+-------------------+----------------+----------------+----------------+----------+---------+--------------+-----------------+------------------------------+\n"
     ]
    },
    {
     "name": "stderr",
     "output_type": "stream",
     "text": [
      "/var/folders/0k/whv99z5n5rnb1xp8n07krpcw0000gn/T/ipykernel_14705/4139708226.py:17: FutureWarning: A value is trying to be set on a copy of a DataFrame or Series through chained assignment using an inplace method.\n",
      "The behavior will change in pandas 3.0. This inplace method will never work because the intermediate object on which we are setting values always behaves as a copy.\n",
      "\n",
      "For example, when doing 'df[col].method(value, inplace=True)', try using 'df.method({col: value}, inplace=True)' or df[col] = df[col].method(value) instead, to perform the operation inplace on the original object.\n",
      "\n",
      "\n",
      "  data[col].fillna(method='bfill', inplace=True)\n",
      "/var/folders/0k/whv99z5n5rnb1xp8n07krpcw0000gn/T/ipykernel_14705/4139708226.py:17: FutureWarning: Series.fillna with 'method' is deprecated and will raise in a future version. Use obj.ffill() or obj.bfill() instead.\n",
      "  data[col].fillna(method='bfill', inplace=True)\n"
     ]
    }
   ],
   "source": [
    "# Final Imputed Datasets\n",
    "def last_occurrence_imputation(data, numerical_columns, categorical_columns, datetime_columns):\n",
    "    \"\"\"\n",
    "    Impute missing values using backward fill (last occurrence) for numerical, categorical, and datetime columns.\n",
    "    \n",
    "    Parameters:\n",
    "    - data: DataFrame with missing values\n",
    "    - numerical_columns: List of numerical columns to impute\n",
    "    - categorical_columns: List of categorical columns to impute\n",
    "    - datetime_columns: List of datetime columns to impute\n",
    "    \n",
    "    Returns:\n",
    "    - DataFrame with imputed values\n",
    "    \"\"\"\n",
    "    for col in numerical_columns + categorical_columns + datetime_columns:\n",
    "        if col in data.columns:\n",
    "            data[col].fillna(method='bfill', inplace=True)\n",
    "            \n",
    "    return data\n",
    "\n",
    "# Step 1: Impute missing values\n",
    "final_UK_data = last_occurrence_imputation(UK_data, numerical_columns, categorical_columns, datetime_columns)\n",
    "\n",
    "# Step 2: Drop indexing or irrelevant columns\n",
    "final_UK_data.drop(columns=indexing_columns, inplace=True, errors='ignore')  # avoid error if column not found\n",
    "\n",
    "# Step 3: Display with nice formatting\n",
    "from tabulate import tabulate\n",
    "print(tabulate(final_UK_data.head(), headers='keys', tablefmt='psql'))\n"
   ]
  },
  {
   "cell_type": "code",
   "execution_count": null,
   "id": "ed24c631",
   "metadata": {},
   "outputs": [
    {
     "name": "stdout",
     "output_type": "stream",
     "text": [
      "Missing Values in UK Dataset:\n",
      "+---------+------------------------------+\n",
      "| Feature | Percentage of Missing Values |\n",
      "+---------+------------------------------+\n",
      "+---------+------------------------------+\n",
      "Missing Values in US Dataset:\n",
      "+--------------------------+------------------------------+\n",
      "|         Feature          | Percentage of Missing Values |\n",
      "+--------------------------+------------------------------+\n",
      "|        Model Year        |            0.32 %            |\n",
      "|      Incident Date       |            0.43 %            |\n",
      "|  Incident Time (24:00)   |            4.6 %             |\n",
      "| Posted Speed Limit (MPH) |           11.34 %            |\n",
      "+--------------------------+------------------------------+\n"
     ]
    }
   ],
   "source": [
    "# Check missing values for both datasets\n",
    "display_missing_values(UK_data, \"UK Dataset\")\n",
    "display_missing_values(US_data, \"US Dataset\")"
   ]
  },
  {
   "cell_type": "markdown",
   "id": "f95f1785",
   "metadata": {},
   "source": [
    "## **Outliers**"
   ]
  },
  {
   "cell_type": "markdown",
   "id": "e7087ae5",
   "metadata": {},
   "source": [
    "**DBSCAN and KMeans**"
   ]
  },
  {
   "cell_type": "code",
   "execution_count": null,
   "id": "7656ca19",
   "metadata": {},
   "outputs": [],
   "source": [
    "from sklearn.preprocessing import LabelEncoder\n",
    "\n",
    "def encode_df(df, categorical_columns, datetime_columns):\n",
    "    data_copy = df.copy()\n",
    "    \n",
    "    for col in categorical_columns:\n",
    "        if col in data_copy.columns:\n",
    "            le = LabelEncoder()\n",
    "            data_copy[col] = le.fit_transform(data_copy[col].astype(str))\n",
    "    \n",
    "    for col in datetime_columns:\n",
    "        if col in data_copy.columns:\n",
    "            le = LabelEncoder()\n",
    "            data_copy[col] = le.fit_transform(data_copy[col].astype(str))\n",
    "    \n",
    "    return data_copy\n"
   ]
  },
  {
   "cell_type": "code",
   "execution_count": null,
   "id": "dfa294fb",
   "metadata": {},
   "outputs": [],
   "source": [
    "from sklearn.preprocessing import MinMaxScaler\n",
    "\n",
    "def scale_df(df):\n",
    "    scaler = MinMaxScaler()\n",
    "    scaled_df=df.copy()\n",
    "    scaled_df[df.columns] = scaler.fit_transform(df)\n",
    "    return scaled_df\n",
    "\n"
   ]
  },
  {
   "cell_type": "code",
   "execution_count": null,
   "id": "2e3c03f5",
   "metadata": {},
   "outputs": [
    {
     "ename": "",
     "evalue": "",
     "output_type": "error",
     "traceback": [
      "\u001b[1;31mThe Kernel crashed while executing code in the current cell or a previous cell. \n",
      "\u001b[1;31mPlease review the code in the cell(s) to identify a possible cause of the failure. \n",
      "\u001b[1;31mClick <a href='https://aka.ms/vscodeJupyterKernelCrash'>here</a> for more info. \n",
      "\u001b[1;31mView Jupyter <a href='command:jupyter.viewOutput'>log</a> for further details."
     ]
    }
   ],
   "source": [
    "from sklearn.impute import SimpleImputer\n",
    "from sklearn.preprocessing import LabelEncoder, MinMaxScaler\n",
    "from sklearn.cluster import DBSCAN, KMeans\n",
    "from sklearn.metrics import silhouette_score\n",
    "from sklearn.decomposition import PCA\n",
    "import matplotlib.pyplot as plt\n",
    "import numpy as np\n",
    "\n",
    "# --- Step 3: Apply pipeline ---\n",
    "\n",
    "encoding = encode_df(final_UK_data,categorical_columns,datetime_columns)\n",
    "data_imputed = scale_df(encoding)\n"
   ]
  },
  {
   "cell_type": "code",
   "execution_count": null,
   "id": "843a7f7d",
   "metadata": {},
   "outputs": [],
   "source": [
    "from sklearn.impute import SimpleImputer\n",
    "from sklearn.preprocessing import LabelEncoder, MinMaxScaler\n",
    "from sklearn.cluster import DBSCAN, KMeans\n",
    "from sklearn.metrics import silhouette_score\n",
    "from sklearn.decomposition import PCA\n",
    "import matplotlib.pyplot as plt\n",
    "import numpy as np\n",
    "\n",
    "# --- Step 3: Apply pipeline ---\n",
    "\n",
    "encoding = encode_df(final_UK_data,categorical_columns,datetime_columns)\n",
    "data_imputed = scale_df(encoding)\n",
    "\n",
    "# --- Step 4: DBSCAN clustering ---\n",
    "dbscan = DBSCAN(eps=0.5, min_samples=5, metric='hamming')\n",
    "dbscan_labels = dbscan.fit_predict(data_imputed)\n",
    "\n",
    "# Silhouette Score for DBSCAN\n",
    "unique_db_labels = set(dbscan_labels)\n",
    "if len(unique_db_labels - {-1}) > 1:\n",
    "    dbscan_score = silhouette_score(data_imputed, dbscan_labels, metric='hamming')\n",
    "    print(\"DBSCAN Silhouette Score:\", dbscan_score)\n",
    "else:\n",
    "    print(\"Too few DBSCAN clusters to compute silhouette score.\")\n",
    "\n",
    "# --- Step 6: PCA for Visualization ---\n",
    "pca = PCA(n_components=5)\n",
    "data_2d = pca.fit_transform(data_imputed)\n",
    "\n",
    "# Plot DBSCAN\n",
    "plt.figure(figsize=(8, 6))\n",
    "plt.scatter(data_2d[:, 0], data_2d[:, 1], c=dbscan_labels, cmap='tab10', s=50)\n",
    "plt.title(\"DBSCAN Clustering (PCA View)\")\n",
    "plt.xlabel(\"PCA Component 1\")\n",
    "plt.ylabel(\"PCA Component 2\")\n",
    "plt.colorbar(label='Cluster')\n",
    "plt.grid(True, linestyle='--', alpha=0.5)\n",
    "plt.show()\n",
    "\n"
   ]
  },
  {
   "cell_type": "code",
   "execution_count": null,
   "id": "f138faa4",
   "metadata": {},
   "outputs": [],
   "source": [
    "\n",
    "# --- Step 5: KMeans clustering ---\n",
    "kmeans = KMeans(n_clusters=3, random_state=42, n_init=10)\n",
    "kmeans_labels = kmeans.fit_predict(data_imputed)\n",
    "\n",
    "# Silhouette Score for KMeans\n",
    "if len(set(kmeans_labels)) > 1:\n",
    "    kmeans_score = silhouette_score(data_imputed, kmeans_labels)\n",
    "    print(\"KMeans Silhouette Score:\", kmeans_score)\n",
    "else:\n",
    "    print(\"Too few KMeans clusters to compute silhouette score.\")\n",
    "\n",
    "# Plot KMeans\n",
    "plt.figure(figsize=(8, 6))\n",
    "plt.scatter(data_2d[:, 0], data_2d[:, 1], c=kmeans_labels, cmap='tab10', s=50)\n",
    "plt.title(\"KMeans Clustering (PCA View)\")\n",
    "plt.xlabel(\"PCA Component 1\")\n",
    "plt.ylabel(\"PCA Component 2\")\n",
    "plt.colorbar(label='Cluster')\n",
    "plt.grid(True, linestyle='--', alpha=0.5)\n",
    "plt.show()\n"
   ]
  },
  {
   "cell_type": "code",
   "execution_count": null,
   "id": "f4fe0bf8",
   "metadata": {},
   "outputs": [],
   "source": [
    "import hdbscan\n",
    "\n",
    "# --- Step 7: HDBSCAN clustering ---\n",
    "hdbscan_clusterer = hdbscan.HDBSCAN(min_cluster_size=5, metric='hamming')\n",
    "hdbscan_labels = hdbscan_clusterer.fit_predict(data_imputed)\n",
    "\n",
    "# Silhouette Score for HDBSCAN\n",
    "unique_hdb_labels = set(hdbscan_labels)\n",
    "if len(unique_hdb_labels - {-1}) > 1:\n",
    "    hdbscan_score = silhouette_score(data_imputed, hdbscan_labels, metric='hamming')\n",
    "    print(\"HDBSCAN Silhouette Score:\", hdbscan_score)\n",
    "else:\n",
    "    print(\"Too few HDBSCAN clusters to compute silhouette score.\")\n",
    "\n",
    "# Plot HDBSCAN\n",
    "plt.figure(figsize=(8, 6))\n",
    "plt.scatter(data_2d[:, 0], data_2d[:, 1], c=hdbscan_labels, cmap='tab10', s=50)\n",
    "plt.title(\"HDBSCAN Clustering (PCA View)\")\n",
    "plt.xlabel(\"PCA Component 1\")\n",
    "plt.ylabel(\"PCA Component 2\")\n",
    "plt.colorbar(label='Cluster')\n",
    "plt.grid(True, linestyle='--', alpha=0.5)\n",
    "plt.show()\n"
   ]
  },
  {
   "cell_type": "markdown",
   "id": "80464178",
   "metadata": {},
   "source": [
    "## **Sampling**"
   ]
  },
  {
   "cell_type": "markdown",
   "id": "ab21e492",
   "metadata": {},
   "source": [
    "**KNN**"
   ]
  },
  {
   "cell_type": "markdown",
   "id": "c799dd24",
   "metadata": {},
   "source": [
    "**Cluster Sampling Kmeans**"
   ]
  },
  {
   "cell_type": "code",
   "execution_count": null,
   "id": "6e61e6eb",
   "metadata": {},
   "outputs": [],
   "source": [
    "import numpy as np\n",
    "import pandas as pd\n",
    "from sklearn.preprocessing import LabelEncoder\n",
    "from sklearn.neighbors import NearestNeighbors\n",
    "\n",
    "\n",
    "data = data_imputed.copy()\n",
    "\n",
    "\n",
    "# --- Encoding categorical columns for KNN and evaluation ---\n",
    "categorical_cols = data.select_dtypes(include=['object']).columns\n",
    "\n",
    "# Encode categorical columns using LabelEncoder\n",
    "for col in categorical_cols:\n",
    "    data[col] = LabelEncoder().fit_transform(data[col].astype(str))\n",
    "\n",
    "# Now all columns are numeric or encoded numeric\n",
    "\n",
    "# 1. Random Sampling (20%)\n",
    "random_sample = data.sample(frac=0.2, random_state=42)\n",
    "\n",
    "# 2. Systematic Sampling (every 5th item after random start)\n",
    "start = np.random.randint(0, 5)\n",
    "systematic_sample = data.iloc[start::5, :]\n",
    "\n",
    "# 3. Stratified Sampling (20% from each label group)\n",
    "stratified_sample = data.groupby('Highest Injury Severity Alleged', group_keys=False).apply(\n",
    "    lambda x: x.sample(frac=0.2, random_state=42))\n",
    "\n",
    "# 4. Cluster Sampling\n",
    "clusters = data['Highest Injury Severity Alleged'].unique()\n",
    "chosen_cluster = np.random.choice(clusters)\n",
    "cluster_sample = data[data['Highest Injury Severity Alleged'] == chosen_cluster]\n",
    "\n",
    "# 5. KNN Sampling: Select 20% samples closest to a random point\n",
    "knn_fraction = 0.2\n",
    "X = data.values\n",
    "random_point = X[np.random.choice(len(X))]\n",
    "nbrs = NearestNeighbors(n_neighbors=int(len(X)*knn_fraction)).fit(X)\n",
    "distances, indices = nbrs.kneighbors([random_point])\n",
    "knn_sample = data.iloc[indices[0]]\n",
    "\n",
    "\n"
   ]
  },
  {
   "cell_type": "code",
   "execution_count": null,
   "id": "d4ce332b",
   "metadata": {},
   "outputs": [],
   "source": [
    "import matplotlib.pyplot as plt\n",
    "import numpy as np\n",
    "\n",
    "def evaluate_sample(sample, full_data,name):\n",
    "    means_full = full_data.mean()\n",
    "    means_sample = sample.mean()\n",
    "    bias = means_sample - means_full\n",
    "    \n",
    "    features = full_data.columns\n",
    "    \n",
    "    x = np.arange(len(features))\n",
    "    width = 0.35\n",
    "    \n",
    "    fig, ax1 = plt.subplots(figsize=(12,6))\n",
    "    \n",
    "    # Bar plots for means\n",
    "    rects1 = ax1.bar(x - width/2, means_full, width, label='Full Data Mean', color='skyblue')\n",
    "    rects2 = ax1.bar(x + width/2, means_sample, width, label='Sample Mean', color='orange')\n",
    "    ax1.set_ylabel('Mean Values')\n",
    "    ax1.set_xticks(x)\n",
    "    ax1.set_xticklabels(features, rotation=45, ha='right')\n",
    "    ax1.legend(loc='upper left')\n",
    "    \n",
    "    # Line plot for bias on secondary y-axis\n",
    "    ax2 = ax1.twinx()\n",
    "    ax2.plot(x, bias, color='red', marker='o', linestyle='-', label='Bias (Sample - Full)')\n",
    "    ax2.set_ylabel('Bias')\n",
    "    ax2.legend(loc='upper right')\n",
    "    \n",
    "    plt.title(f'{name}Feature-wise Mean Comparison and Bias')\n",
    "    plt.tight_layout()\n",
    "    plt.show()\n",
    "\n",
    "# --- Evaluation function to compare all features ---\n",
    "\n",
    "print(\"Random Sampling:\")\n",
    "evaluate_sample(random_sample, data, \"Random \")\n",
    "\n",
    "print(\"Systematic Sampling:\")\n",
    "evaluate_sample(systematic_sample, data, \"Systematic \")\n",
    "\n",
    "print(\"Stratified Sampling:\")\n",
    "evaluate_sample(stratified_sample, data, \"Stratified \")\n",
    "\n",
    "print(f\"Cluster Sampling (cluster '{chosen_cluster}'):\")\n",
    "evaluate_sample(cluster_sample, data, \"clustering \")\n",
    "\n",
    "print(\"KNN Sampling:\")\n",
    "evaluate_sample(knn_sample, data, \"KNN \")\n",
    "\n"
   ]
  },
  {
   "cell_type": "markdown",
   "id": "0ed0f3f1",
   "metadata": {},
   "source": [
    "**Choosing Systematic Sampling**"
   ]
  },
  {
   "cell_type": "code",
   "execution_count": null,
   "id": "c9007705",
   "metadata": {},
   "outputs": [],
   "source": [
    "# 2. Systematic Sampling (every 5th item after random start)\n",
    "start = np.random.randint(0, 5)\n",
    "systematic_sample_df = data.iloc[start::5, :]\n",
    "systematic_sample_df.head()\n"
   ]
  },
  {
   "cell_type": "markdown",
   "id": "2c18df75",
   "metadata": {},
   "source": [
    "## **Create Heatmap**"
   ]
  },
  {
   "cell_type": "code",
   "execution_count": null,
   "id": "ef1cd605",
   "metadata": {},
   "outputs": [],
   "source": [
    "from sklearn.preprocessing import LabelEncoder, MinMaxScaler\n",
    "\n",
    "# STEP 5: Now you can compute correlation safely\n",
    "data_copy = systematic_sample_df\n",
    "correlations = data_copy.corr()['Highest Injury Severity Alleged'].abs().dropna().sort_values(ascending=False)\n",
    "\n",
    "\n",
    "# Plot heatmap with correlation values\n",
    "plt.figure(figsize=(10, 6))\n",
    "sns.heatmap(data_copy.corr(), annot=True, fmt=\".2f\", cmap='coolwarm', linewidths=0.5)\n",
    "plt.title(\"Feature Correlation Heatmap with Values\")\n",
    "plt.show()\n",
    "\n",
    "\n",
    "# STEP 6: Top 10 most correlated (excluding the target itself)\n",
    "most_correlated_features = correlations.iloc[1:11]\n",
    "print(\"Top 10 most correlated features with 'Highest Severity Injury Alleged':\")\n",
    "print(most_correlated_features)\n",
    "\n",
    "# Filter dataset to top features\n",
    "data_filtered = data_copy[most_correlated_features.index]\n",
    "print(\"Filtered dataset shape:\", data_filtered.shape)\n"
   ]
  }
 ],
 "metadata": {
  "kernelspec": {
   "display_name": "Python 3",
   "language": "python",
   "name": "python3"
  },
  "language_info": {
   "codemirror_mode": {
    "name": "ipython",
    "version": 3
   },
   "file_extension": ".py",
   "mimetype": "text/x-python",
   "name": "python",
   "nbconvert_exporter": "python",
   "pygments_lexer": "ipython3",
   "version": "3.10.6"
  }
 },
 "nbformat": 4,
 "nbformat_minor": 5
}
