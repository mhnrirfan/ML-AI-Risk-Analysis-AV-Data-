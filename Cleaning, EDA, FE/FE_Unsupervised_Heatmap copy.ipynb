{
 "cells": [
  {
   "cell_type": "markdown",
   "id": "dbaad7f6",
   "metadata": {},
   "source": [
    "# **<span style=\"color:Yellow;\">Scaling, Imputing and Heatmaps with Supervised Learning</span>**\n",
    "\n",
    "## **Purpose of Notebook**"
   ]
  },
  {
   "cell_type": "markdown",
   "id": "41a0cc76",
   "metadata": {},
   "source": [
    "- Load datasets\n",
    "- Sample to balance size\n",
    "- Encode categoricals\n",
    "- Scale numericals\n",
    "- Supervised imputation\n",
    "- Correlation heatmap\n",
    "- Feature selection (top 10)\n",
    "\n",
    "---"
   ]
  },
  {
   "cell_type": "markdown",
   "id": "297551ce",
   "metadata": {},
   "source": [
    "\n",
    "## **<span style=\"color:aquamarine;\">Load Preprocessed and Cleaned Datasets</span>**"
   ]
  },
  {
   "cell_type": "markdown",
   "id": "47f48480",
   "metadata": {},
   "source": [
    "**Load Necessary Libraries**"
   ]
  },
  {
   "cell_type": "code",
   "execution_count": 1,
   "id": "16f6e600",
   "metadata": {},
   "outputs": [],
   "source": [
    "# Basic Libraries\n",
    "import pandas as pd\n",
    "import numpy as np\n",
    "import matplotlib.pyplot as plt\n",
    "import seaborn as sns\n",
    "from tabulate import tabulate\n",
    "from sklearn.model_selection import train_test_split, GridSearchCV\n",
    "from sklearn.preprocessing import MinMaxScaler, LabelEncoder\n",
    "from sklearn.impute import SimpleImputer, KNNImputer\n",
    "from sklearn.experimental import enable_iterative_imputer  # noqa\n",
    "from sklearn.impute import IterativeImputer\n",
    "from sklearn.metrics import (\n",
    "    accuracy_score, precision_score, recall_score,\n",
    "    f1_score, confusion_matrix, mean_squared_error\n",
    ")\n",
    "from sklearn.cluster import KMeans\n",
    "from sklearn.metrics import silhouette_score\n",
    "from scipy import stats\n",
    "from tabulate import tabulate\n",
    "from prettytable import PrettyTable\n",
    "import warnings\n",
    "warnings.filterwarnings(\"ignore\")\n"
   ]
  },
  {
   "cell_type": "markdown",
   "id": "0d7fc561",
   "metadata": {},
   "source": [
    "**Load Datasets**\n"
   ]
  },
  {
   "cell_type": "code",
   "execution_count": 2,
   "id": "7c815551",
   "metadata": {},
   "outputs": [
    {
     "name": "stdout",
     "output_type": "stream",
     "text": [
      "US Dataset Shape: (4372, 21)\n",
      "UK Dataset Shape: (232365, 21)\n"
     ]
    }
   ],
   "source": [
    "# Display all columns of a pandas DataFrame when printed\n",
    "pd.set_option('display.max_columns', None)\n",
    "\n",
    "# US Dataset\n",
    "US_data = pd.read_csv('/Users/mahnooriqbal/COMP702 Project/ML-AI-Risk-Analysis-AV-Data-/Datasets/US-cleaned_data.csv')\n",
    "# UK Dataset\n",
    "UK_data = pd.read_csv('/Users/mahnooriqbal/COMP702 Project/ML-AI-Risk-Analysis-AV-Data-/Datasets/UK-cleaned_data.csv')\n",
    "UK_data = UK_data.drop(['latitude', 'longitude'], axis=1)\n",
    "\n",
    "print(\"US Dataset Shape:\", US_data.shape)\n",
    "print(\"UK Dataset Shape:\", UK_data.shape)"
   ]
  },
  {
   "cell_type": "markdown",
   "id": "6ce64f26",
   "metadata": {},
   "source": [
    "**Split the columns**\n",
    "- Vital to encode the catergorical and datetime columns seperately \n",
    "- Useful when trying different imputing methods\n",
    "- Allows removal on id when needed"
   ]
  },
  {
   "cell_type": "code",
   "execution_count": 3,
   "id": "4afbbe0b",
   "metadata": {},
   "outputs": [],
   "source": [
    "# Identify numerical and categorical columns\n",
    "numerical_columns = ['Posted Speed Limit (MPH)']\n",
    "categorical_columns = [\n",
    "    'Make', 'Model', 'Model Year', 'ADS Equipped?',\n",
    "    'Automation System Engaged?', 'City', 'State', 'Roadway Type', 'Roadway Surface',\n",
    "    'Lighting', 'Crash With', 'Highest Injury Severity Alleged',\n",
    "    'SV Pre-Crash Movement', 'SV Contact Area', 'Weather', 'Country'\n",
    "]\n",
    "datetime_columns = ['Incident Date', 'Incident Time (24:00)']\n",
    "indexing_columns = ['Report ID', 'Report Version']"
   ]
  },
  {
   "cell_type": "markdown",
   "id": "5b8d8065",
   "metadata": {},
   "source": [
    "\n",
    "## **<span style=\"color:aquamarine;\">Encode and Scale Values</span>**"
   ]
  },
  {
   "cell_type": "markdown",
   "id": "88056186",
   "metadata": {},
   "source": [
    "### **<span style=\"color:Hotpink;\">Encoding Function</span>**\n",
    "- vital for ml models such as regression, KNN, KMeans and heatmaps as catergorical values can be used not just numerical"
   ]
  },
  {
   "cell_type": "code",
   "execution_count": 4,
   "id": "af15fe09",
   "metadata": {},
   "outputs": [],
   "source": [
    "from sklearn.preprocessing import LabelEncoder\n",
    "import pandas as pd\n",
    "\n",
    "def encode_df(df, categorical_columns=categorical_columns, datetime_columns=datetime_columns):\n",
    "    df = df.copy()\n",
    "    \n",
    "    # Drop indexing columns safely\n",
    "    df.drop(columns=[col for col in indexing_columns if col in df.columns], inplace=True)\n",
    "\n",
    "    # Encode categorical columns\n",
    "    for col in categorical_columns:\n",
    "        if col in df.columns:\n",
    "            le = LabelEncoder()\n",
    "            df[col] = le.fit_transform(df[col].astype(str))\n",
    "\n",
    "    # Convert datetime columns\n",
    "    if 'Incident Date' in df.columns:\n",
    "        df['Incident Date'] = pd.to_datetime(df['Incident Date'], errors='coerce')\n",
    "        median_ts = df['Incident Date'].dropna().median()\n",
    "        df['Incident Date'] = df['Incident Date'].fillna(median_ts)\n",
    "        df['Incident Date'] = df['Incident Date'].view('int64') // 10**9  # Unix timestamp\n",
    "\n",
    "    # Convert Incident Time (24:00) to seconds since midnight\n",
    "    if 'Incident Time (24:00)' in df.columns:\n",
    "        df['Incident Time (24:00)'] = df['Incident Time (24:00)'].replace('24:00:00', '00:00:00')\n",
    "        dt_series = pd.to_datetime(df['Incident Time (24:00)'], errors='coerce')\n",
    "        df['Incident Time (24:00)'] = (\n",
    "            dt_series.dt.hour * 3600 +\n",
    "            dt_series.dt.minute * 60 +\n",
    "            dt_series.dt.second\n",
    "        )\n",
    "\n",
    "    return df\n",
    "\n"
   ]
  },
  {
   "cell_type": "markdown",
   "id": "5ba07ce0",
   "metadata": {},
   "source": [
    "Issue with the datetime sorted as you have to convert to nuerical not categorical for date and time!"
   ]
  },
  {
   "cell_type": "markdown",
   "id": "682619ff",
   "metadata": {},
   "source": [
    "### **<span style=\"color:Hotpink;\">Scaling Function</span>**\n",
    "- vital for ml models such as regression, KNN, KMeans and heatmaps as these models work well on unbiased standardised data"
   ]
  },
  {
   "cell_type": "code",
   "execution_count": 5,
   "id": "2342f0a6",
   "metadata": {},
   "outputs": [],
   "source": [
    "\n",
    "def scale_df(df):\n",
    "    scaled_df = df.copy()\n",
    "    scaler = MinMaxScaler()\n",
    "    scaled_df[df.columns] = scaler.fit_transform(df)\n",
    "    return scaled_df\n",
    "\n"
   ]
  },
  {
   "cell_type": "markdown",
   "id": "f86e63ef",
   "metadata": {},
   "source": [
    "**Encoding and Scaling UK Dataset**\n"
   ]
  },
  {
   "cell_type": "code",
   "execution_count": 6,
   "id": "7e8b0b55",
   "metadata": {},
   "outputs": [
    {
     "name": "stdout",
     "output_type": "stream",
     "text": [
      "+---+---------------------+---------------------+--------------------+---------------+----------------------------+-----------------------+-----------------------+---------------------+--------------------+--------------+-----------------+--------------------------+----------+--------------------+---------------------------------+-----------------------+---------+-----------------+---------+\n",
      "|   |        Make         |        Model        |     Model Year     | ADS Equipped? | Automation System Engaged? |     Incident Date     | Incident Time (24:00) |        City         |       State        | Roadway Type | Roadway Surface | Posted Speed Limit (MPH) | Lighting |     Crash With     | Highest Injury Severity Alleged | SV Pre-Crash Movement | Weather | SV Contact Area | Country |\n",
      "+---+---------------------+---------------------+--------------------+---------------+----------------------------+-----------------------+-----------------------+---------------------+--------------------+--------------+-----------------+--------------------------+----------+--------------------+---------------------------------+-----------------------+---------+-----------------+---------+\n",
      "| 0 | 0.8793103448275862  | 0.8432122370936902  | 0.9012345679012346 |      0.0      |            0.0             |          0.0          | 0.052119527449617786  | 0.18341648847707295 | 0.4508670520231214 |     0.75     |       0.0       |   0.19999999999999996    |   0.0    | 0.5454545454545454 |               0.5               |         0.875         |   0.0   |       0.5       |   0.5   |\n",
      "| 1 | 0.3103448275862069  | 0.4359464627151051  | 0.9012345679012346 |      0.0      |            0.0             |          0.0          |  0.17373175816539263  | 0.4758850083155144  | 0.4508670520231214 |     0.0      |       0.0       |           0.4            |   0.0    | 0.7272727272727273 |               1.0               |        0.1875         |   0.0   |       0.5       |   0.5   |\n",
      "| 2 | 0.5344827586206896  | 0.17399617590822178 | 0.9382716049382716 |      0.0      |            0.0             | 0.0005479452054792944 |  0.6302988186240445   | 0.8377286766452839  | 0.4508670520231214 |     0.75     |       0.0       |           0.0            |   1.0    | 0.5454545454545454 |               0.5               |        0.1875         |   0.0   |       0.5       |   0.5   |\n",
      "| 3 | 0.9137931034482758  | 0.14340344168260039 | 0.7777777777777777 |      0.0      |            0.0             | 0.0038356164383550606 |  0.8895066018068103   | 0.37633642195295797 | 0.4508670520231214 |     0.75     |       0.0       |           0.0            |   0.0    | 0.5454545454545454 |               0.5               |        0.1875         |   0.0   |       0.5       |   0.5   |\n",
      "| 4 | 0.05172413793103448 | 0.09560229445506692 | 0.9259259259259258 |      0.0      |            0.0             | 0.004931506849313649  |  0.34746351633078526  | 0.8222855785222143  | 0.4508670520231214 |     0.0      |       0.0       |   0.19999999999999996    |   1.0    | 0.5454545454545454 |               1.0               |        0.1875         |   0.0   |       0.5       |   0.5   |\n",
      "+---+---------------------+---------------------+--------------------+---------------+----------------------------+-----------------------+-----------------------+---------------------+--------------------+--------------+-----------------+--------------------------+----------+--------------------+---------------------------------+-----------------------+---------+-----------------+---------+\n"
     ]
    }
   ],
   "source": [
    "# Encode time and categorical columns\n",
    "UK_data_encode = encode_df(UK_data, categorical_columns, datetime_columns)\n",
    "# Scale the numerical features\n",
    "UK_data_scale = scale_df(UK_data_encode)\n",
    "# Check encoded data\n",
    "print(tabulate(UK_data_scale.head(), headers='keys', tablefmt='pretty'))\n"
   ]
  },
  {
   "cell_type": "markdown",
   "id": "c41c2f84",
   "metadata": {},
   "source": [
    "**Encoding and Scaling US Dataset**"
   ]
  },
  {
   "cell_type": "code",
   "execution_count": 7,
   "id": "6d441714",
   "metadata": {},
   "outputs": [
    {
     "name": "stdout",
     "output_type": "stream",
     "text": [
      "+---+---------------------+--------------------+--------------------+---------------+----------------------------+---------------------+-----------------------+--------------------+---------------------+--------------------+-----------------+--------------------------+---------------------+--------------------+---------------------------------+-----------------------+---------+--------------------+---------+\n",
      "|   |        Make         |       Model        |     Model Year     | ADS Equipped? | Automation System Engaged? |    Incident Date    | Incident Time (24:00) |        City        |        State        |    Roadway Type    | Roadway Surface | Posted Speed Limit (MPH) |      Lighting       |     Crash With     | Highest Injury Severity Alleged | SV Pre-Crash Movement | Weather |  SV Contact Area   | Country |\n",
      "+---+---------------------+--------------------+--------------------+---------------+----------------------------+---------------------+-----------------------+--------------------+---------------------+--------------------+-----------------+--------------------------+---------------------+--------------------+---------------------------------+-----------------------+---------+--------------------+---------+\n",
      "| 0 | 0.39705882352941174 | 0.4931506849315068 | 0.6153846153846154 |      0.0      |            1.0             | 0.9797297297297298  |  0.8318276580958999   | 0.5180722891566265 | 0.7254901960784313  | 0.5714285714285714 |       0.0       |          0.3125          | 0.16666666666666666 | 0.5333333333333333 |               1.0               |        0.8125         |  0.625  | 0.7272727272727273 |   0.0   |\n",
      "| 1 | 0.39705882352941174 | 0.4931506849315068 | 0.6153846153846154 |      1.0      |            1.0             | 0.07555282555282616 |  0.8318276580958999   | 0.518781006378455  | 0.7254901960784313  | 0.5714285714285714 |       0.0       |          0.3125          | 0.16666666666666666 | 0.5333333333333333 |               1.0               |        0.8125         |  0.625  | 0.7272727272727273 |   0.0   |\n",
      "| 2 | 0.39705882352941174 | 0.502283105022831  | 0.5384615384615385 |      1.0      |            1.0             | 0.16830466830466762 |  0.6615705350938151   | 0.9078667611622963 | 0.0392156862745098  |        0.0         |       0.0       |          0.8125          | 0.6666666666666666  | 0.5333333333333333 |       0.6000000000000001        |        0.8125         |   0.0   | 0.7272727272727273 |   0.0   |\n",
      "| 3 | 0.39705882352941174 | 0.4931506849315068 | 0.6153846153846154 |      0.0      |            0.0             | 0.9613022113022112  |  0.6316886726893676   | 0.5556343019135365 | 0.37254901960784315 |        0.0         |       0.0       |          0.8125          | 0.6666666666666666  | 0.6666666666666666 |               1.0               |        0.8125         |   0.0   | 0.7272727272727273 |   0.0   |\n",
      "| 4 | 0.39705882352941174 | 0.502283105022831  | 0.6153846153846154 |      0.0      |            1.0             | 0.9987714987714984  |  0.34746351633078526  | 0.593905031892275  | 0.9019607843137255  |        0.0         |       0.0       |          0.875           | 0.6666666666666666  | 0.5333333333333333 |       0.6000000000000001        |        0.8125         |   0.0   | 0.2727272727272727 |   0.0   |\n",
      "+---+---------------------+--------------------+--------------------+---------------+----------------------------+---------------------+-----------------------+--------------------+---------------------+--------------------+-----------------+--------------------------+---------------------+--------------------+---------------------------------+-----------------------+---------+--------------------+---------+\n"
     ]
    }
   ],
   "source": [
    "# Encode time and categorical columns\n",
    "US_data_encode = encode_df(US_data, categorical_columns, datetime_columns)\n",
    "# Scale the numerical features\n",
    "US_data_scale = scale_df(US_data_encode)\n",
    "# Check encoded data\n",
    "print(tabulate(US_data_scale.head(), headers='keys', tablefmt='pretty'))\n"
   ]
  },
  {
   "cell_type": "markdown",
   "id": "618bf90d",
   "metadata": {},
   "source": [
    "\n",
    "## **<span style=\"color:aquamarine;\">Imputing Missing Values</span>**\n",
    "Experimentally, checking the error and precision for each imputing method before choosing the most accurate method which limits skewing.\n",
    "### Methods of Imputing tried:\n",
    "- Mean, Median, Mode\n",
    "- Random \n",
    "- Last Occured Carried Forward\n",
    "- Regression"
   ]
  },
  {
   "cell_type": "markdown",
   "id": "2e4d95c7",
   "metadata": {},
   "source": [
    "**Checking how much missing data on both datasets**"
   ]
  },
  {
   "cell_type": "code",
   "execution_count": 8,
   "id": "17727c44",
   "metadata": {},
   "outputs": [
    {
     "name": "stdout",
     "output_type": "stream",
     "text": [
      "Missing Values in UK Dataset:\n",
      "+---------+------------------------------+\n",
      "| Feature | Percentage of Missing Values |\n",
      "+---------+------------------------------+\n",
      "|  Model  |            1.11 %            |\n",
      "+---------+------------------------------+\n",
      "Missing Values in US Dataset:\n",
      "+--------------------------+------------------------------+\n",
      "|         Feature          | Percentage of Missing Values |\n",
      "+--------------------------+------------------------------+\n",
      "|        Model Year        |            0.32 %            |\n",
      "|      Incident Date       |            0.43 %            |\n",
      "|  Incident Time (24:00)   |            4.6 %             |\n",
      "| Posted Speed Limit (MPH) |           11.34 %            |\n",
      "+--------------------------+------------------------------+\n"
     ]
    }
   ],
   "source": [
    "def display_missing_values(dataset, dataset_name):\n",
    "    features_with_na = [feature for feature in dataset.columns if dataset[feature].isnull().sum() > 0]\n",
    "    \n",
    "    # Create a PrettyTable\n",
    "    table = PrettyTable()\n",
    "    table.field_names = [\"Feature\", \"Percentage of Missing Values\"]\n",
    "    \n",
    "    for feature in features_with_na:\n",
    "        missing_percentage = np.round(dataset[feature].isnull().mean() * 100, 2)\n",
    "        table.add_row([feature, f\"{missing_percentage} %\"])\n",
    "    \n",
    "    print(f\"Missing Values in {dataset_name}:\")\n",
    "    print(table)\n",
    "\n",
    "# Check missing values for both datasets\n",
    "display_missing_values(UK_data, \"UK Dataset\")\n",
    "display_missing_values(US_data, \"US Dataset\")"
   ]
  },
  {
   "cell_type": "markdown",
   "id": "c95a596f",
   "metadata": {},
   "source": [
    "### **<span style=\"color:Hotpink;\">Mean/Mode Imputer</span>**\n",
    "- **How it works:** Replaces missing values with the mean (for normally distributed data), or mode (for categorical variables).\n",
    "- **Best for:** Small amounts of missing numerical data.\n",
    "- **Limitations:** Can distort distributions and underestimate variance."
   ]
  },
  {
   "cell_type": "code",
   "execution_count": 9,
   "id": "58d7e0c9",
   "metadata": {},
   "outputs": [],
   "source": [
    "\n",
    "# Mean for numerical, Mode for categorical & datetime\n",
    "def mode_mean_imputation(data, numerical_columns=None, categorical_columns=None, datetime_columns=None):\n",
    "    data = data.copy()\n",
    "    numerical_columns = numerical_columns or []\n",
    "    categorical_columns = categorical_columns or []\n",
    "    datetime_columns = datetime_columns or []\n",
    "\n",
    "    for col in numerical_columns:\n",
    "        if col in data.columns:\n",
    "            data[col].fillna(data[col].mean(), inplace=True)\n",
    "\n",
    "    for col in categorical_columns + datetime_columns:\n",
    "        if col in data.columns:\n",
    "            mode_val = data[col].mode()\n",
    "            if not mode_val.empty:\n",
    "                data[col].fillna(mode_val[0], inplace=True)\n",
    "    return data\n"
   ]
  },
  {
   "cell_type": "markdown",
   "id": "628bc128",
   "metadata": {},
   "source": [
    "**UK Data**"
   ]
  },
  {
   "cell_type": "code",
   "execution_count": 10,
   "id": "fcf7e9e7",
   "metadata": {},
   "outputs": [
    {
     "name": "stdout",
     "output_type": "stream",
     "text": [
      "+----+---------------+------------------+----------+---------+--------------+-----------------+------------------------------+-----------------+-------------------------+----------------+----------------+--------------------+-------------------+----------------------------+----------------+--------------------+-----------------------------------+-------------------------+-----------+-------------------+----------------+\n",
      "|    |     Report ID |   Report Version | Make     | Model   |   Model Year | ADS Equipped?   | Automation System Engaged?   | Incident Date   | Incident Time (24:00)   | City           | State          | Roadway Type       | Roadway Surface   |   Posted Speed Limit (MPH) | Lighting       | Crash With         | Highest Injury Severity Alleged   | SV Pre-Crash Movement   | Weather   | SV Contact Area   | Country        |\n",
      "|----+---------------+------------------+----------+---------+--------------+-----------------+------------------------------+-----------------+-------------------------+----------------+----------------+--------------------+-------------------+----------------------------+----------------+--------------------+-----------------------------------+-------------------------+-----------+-------------------+----------------|\n",
      "|  0 | 2019010155206 |         10155206 | SUZUKI   | SWIFT   |         2015 | Conventional    | Conventional                 | 2019-01-01      | 01:15:00                | Chadwell Heath | Greater London | Single carriageway | Dry               |                         30 | Dark - Lighted | No Object          | Minor                             | Waiting to go - held up | Clear     | Front             | United Kingdom |\n",
      "|  1 | 2019010155217 |         10155217 | HYUNDAI  | I30     |         2015 | Conventional    | Conventional                 | 2019-01-01      | 04:10:00                | Ilford         | Greater London | Dual carriageway   | Dry               |                         40 | Dark - Lighted | Other Fixed Object | Serious                           | Going ahead other       | Clear     | Front             | United Kingdom |\n",
      "|  2 | 2019010155425 |         10155425 | MERCEDES | C CLASS |         2018 | Conventional    | Conventional                 | 2019-01-02      | 15:07:00                | Stamford Hill  | Greater London | Single carriageway | Dry               |                         20 | Daylight       | No Object          | Minor                             | Going ahead other       | Clear     | Front             | United Kingdom |\n",
      "|  3 | 2019010156538 |         10156538 | TOYOTA   | AVENSIS |         2005 | Conventional    | Conventional                 | 2019-01-08      | 21:20:00                | Goodmayes      | Greater London | Single carriageway | Dry               |                         20 | Dark - Lighted | No Object          | Minor                             | Going ahead other       | Clear     | Front             | United Kingdom |\n",
      "|  4 | 2019010156721 |         10156721 | AUDI     | A4      |         2017 | Conventional    | Conventional                 | 2019-01-10      | 08:20:00                | South Norwood  | Greater London | Dual carriageway   | Dry               |                         30 | Daylight       | No Object          | Serious                           | Going ahead other       | Clear     | Front             | United Kingdom |\n",
      "+----+---------------+------------------+----------+---------+--------------+-----------------+------------------------------+-----------------+-------------------------+----------------+----------------+--------------------+-------------------+----------------------------+----------------+--------------------+-----------------------------------+-------------------------+-----------+-------------------+----------------+\n"
     ]
    }
   ],
   "source": [
    "\n",
    "mode_imputed_df = mode_mean_imputation(UK_data.copy(), numerical_columns, categorical_columns, datetime_columns)\n",
    "print(tabulate(mode_imputed_df.head(), headers='keys', tablefmt='psql'))"
   ]
  },
  {
   "cell_type": "markdown",
   "id": "5c78ee47",
   "metadata": {},
   "source": [
    "**US Data**"
   ]
  },
  {
   "cell_type": "code",
   "execution_count": 11,
   "id": "fbadd5f8",
   "metadata": {},
   "outputs": [
    {
     "name": "stdout",
     "output_type": "stream",
     "text": [
      "+----+-------------+------------------+---------------+---------+--------------+-----------------+------------------------------+-----------------+-------------------------+--------------------+---------+-------------------+-------------------+----------------------------+--------------------+--------------------+-----------------------------------+-------------------------+-----------+--------------------------------+-----------+\n",
      "|    | Report ID   |   Report Version | Make          | Model   |   Model Year | ADS Equipped?   | Automation System Engaged?   | Incident Date   | Incident Time (24:00)   | City               | State   | Roadway Type      | Roadway Surface   |   Posted Speed Limit (MPH) | Lighting           | Crash With         | Highest Injury Severity Alleged   | SV Pre-Crash Movement   | Weather   | SV Contact Area                | Country   |\n",
      "|----+-------------+------------------+---------------+---------+--------------+-----------------+------------------------------+-----------------+-------------------------+--------------------+---------+-------------------+-------------------+----------------------------+--------------------+--------------------+-----------------------------------+-------------------------+-----------+--------------------------------+-----------|\n",
      "|  0 | 10003-2800  |                4 | International | LT      |         2022 | No              | Unknown, see Narrative       | 2025-11-21      | 19:57:00                | Maxatawny Tounship | PA      | Street            | Dry               |                         25 | Dark - Not Lighted | Other Fixed Object | Unknown                           | Proceeding Straight     | Missing   | Front                          | US        |\n",
      "|  1 | 10003-2932  |                1 | International | LT      |         2022 | Yes             | Unknown, see Narrative       | 2021-11-10      | 19:57:00                | Maxatawny Township | PA      | Street            | Dry               |                         25 | Dark - Not Lighted | Other Fixed Object | Unknown                           | Proceeding Straight     | Missing   | Front                          | US        |\n",
      "|  2 | 10003-3210  |                1 | International | LT625   |         2021 | Yes             | Unknown, see Narrative       | 2022-04-10      | 15:52:00                | Tucson             | AZ      | Highway / Freeway | Dry               |                         65 | Daylight           | Other Fixed Object | No Injuries Reported              | Proceeding Straight     | Clear     | Front                          | US        |\n",
      "|  3 | 10003-4179  |                1 | International | LT      |         2022 | No              | ADAS                         | 2025-10-22      | 15:09:00                | Missing            | MD      | Highway / Freeway | Dry               |                         65 | Daylight           | Passenger Car      | Unknown                           | Proceeding Straight     | Clear     | Front                          | US        |\n",
      "|  4 | 10003-6050  |                2 | International | LT625   |         2022 | No              | Unknown, see Narrative       | 2025-12-22      | 08:20:00                | Natural Bridge     | VA      | Highway / Freeway | Dry               |                         70 | Daylight           | Other Fixed Object | No Injuries Reported              | Proceeding Straight     | Clear     | Back, Front, Nearside, Offside | US        |\n",
      "+----+-------------+------------------+---------------+---------+--------------+-----------------+------------------------------+-----------------+-------------------------+--------------------+---------+-------------------+-------------------+----------------------------+--------------------+--------------------+-----------------------------------+-------------------------+-----------+--------------------------------+-----------+\n"
     ]
    }
   ],
   "source": [
    "\n",
    "mode_imputed_df = mode_mean_imputation(US_data.copy(), numerical_columns, categorical_columns, datetime_columns)\n",
    "print(tabulate(mode_imputed_df.head(), headers='keys', tablefmt='psql'))"
   ]
  },
  {
   "cell_type": "markdown",
   "id": "c5ec0121",
   "metadata": {},
   "source": [
    "### **<span style=\"color:Hotpink;\">Median Imputer</span>**\n",
    "- **How it works:** Replaces missing values with the median (for normally distributed data), or mode (for categorical variables).\n",
    "- **Best for:** Small amounts of missing numerical data.\n",
    "- **Limitations:** Can distort distributions and underestimate variance."
   ]
  },
  {
   "cell_type": "code",
   "execution_count": 12,
   "id": "5bc543c3",
   "metadata": {},
   "outputs": [],
   "source": [
    "# Median for numerical, Mode for categorical & datetime\n",
    "def median_mode_imputation(data, numerical_columns=None, categorical_columns=None, datetime_columns=None):\n",
    "    data = data.copy()\n",
    "    numerical_columns = numerical_columns or []\n",
    "    categorical_columns = categorical_columns or []\n",
    "    datetime_columns = datetime_columns or []\n",
    "\n",
    "    for col in numerical_columns:\n",
    "        if col in data.columns:\n",
    "            data[col].fillna(data[col].median(), inplace=True)\n",
    "\n",
    "    for col in categorical_columns + datetime_columns:\n",
    "        if col in data.columns:\n",
    "            mode_val = data[col].mode()\n",
    "            if not mode_val.empty:\n",
    "                data[col].fillna(mode_val[0], inplace=True)\n",
    "    return data"
   ]
  },
  {
   "cell_type": "markdown",
   "id": "1da8c490",
   "metadata": {},
   "source": [
    "**UK Data**"
   ]
  },
  {
   "cell_type": "code",
   "execution_count": 13,
   "id": "9f6ca187",
   "metadata": {},
   "outputs": [
    {
     "name": "stdout",
     "output_type": "stream",
     "text": [
      "+----+---------------+------------------+----------+---------+--------------+-----------------+------------------------------+-----------------+-------------------------+----------------+----------------+--------------------+-------------------+----------------------------+----------------+--------------------+-----------------------------------+-------------------------+-----------+-------------------+----------------+\n",
      "|    |     Report ID |   Report Version | Make     | Model   |   Model Year | ADS Equipped?   | Automation System Engaged?   | Incident Date   | Incident Time (24:00)   | City           | State          | Roadway Type       | Roadway Surface   |   Posted Speed Limit (MPH) | Lighting       | Crash With         | Highest Injury Severity Alleged   | SV Pre-Crash Movement   | Weather   | SV Contact Area   | Country        |\n",
      "|----+---------------+------------------+----------+---------+--------------+-----------------+------------------------------+-----------------+-------------------------+----------------+----------------+--------------------+-------------------+----------------------------+----------------+--------------------+-----------------------------------+-------------------------+-----------+-------------------+----------------|\n",
      "|  0 | 2019010155206 |         10155206 | SUZUKI   | SWIFT   |         2015 | Conventional    | Conventional                 | 2019-01-01      | 01:15:00                | Chadwell Heath | Greater London | Single carriageway | Dry               |                         30 | Dark - Lighted | No Object          | Minor                             | Waiting to go - held up | Clear     | Front             | United Kingdom |\n",
      "|  1 | 2019010155217 |         10155217 | HYUNDAI  | I30     |         2015 | Conventional    | Conventional                 | 2019-01-01      | 04:10:00                | Ilford         | Greater London | Dual carriageway   | Dry               |                         40 | Dark - Lighted | Other Fixed Object | Serious                           | Going ahead other       | Clear     | Front             | United Kingdom |\n",
      "|  2 | 2019010155425 |         10155425 | MERCEDES | C CLASS |         2018 | Conventional    | Conventional                 | 2019-01-02      | 15:07:00                | Stamford Hill  | Greater London | Single carriageway | Dry               |                         20 | Daylight       | No Object          | Minor                             | Going ahead other       | Clear     | Front             | United Kingdom |\n",
      "|  3 | 2019010156538 |         10156538 | TOYOTA   | AVENSIS |         2005 | Conventional    | Conventional                 | 2019-01-08      | 21:20:00                | Goodmayes      | Greater London | Single carriageway | Dry               |                         20 | Dark - Lighted | No Object          | Minor                             | Going ahead other       | Clear     | Front             | United Kingdom |\n",
      "|  4 | 2019010156721 |         10156721 | AUDI     | A4      |         2017 | Conventional    | Conventional                 | 2019-01-10      | 08:20:00                | South Norwood  | Greater London | Dual carriageway   | Dry               |                         30 | Daylight       | No Object          | Serious                           | Going ahead other       | Clear     | Front             | United Kingdom |\n",
      "+----+---------------+------------------+----------+---------+--------------+-----------------+------------------------------+-----------------+-------------------------+----------------+----------------+--------------------+-------------------+----------------------------+----------------+--------------------+-----------------------------------+-------------------------+-----------+-------------------+----------------+\n"
     ]
    }
   ],
   "source": [
    "\n",
    "median_imputed_df = median_mode_imputation(UK_data.copy(), numerical_columns, categorical_columns, datetime_columns)\n",
    "print(tabulate(median_imputed_df.head(), headers='keys', tablefmt='psql'))"
   ]
  },
  {
   "cell_type": "markdown",
   "id": "dee2b67b",
   "metadata": {},
   "source": [
    "**US Data**"
   ]
  },
  {
   "cell_type": "code",
   "execution_count": 14,
   "id": "113b2290",
   "metadata": {},
   "outputs": [
    {
     "name": "stdout",
     "output_type": "stream",
     "text": [
      "+----+-------------+------------------+---------------+---------+--------------+-----------------+------------------------------+-----------------+-------------------------+--------------------+---------+-------------------+-------------------+----------------------------+--------------------+--------------------+-----------------------------------+-------------------------+-----------+--------------------------------+-----------+\n",
      "|    | Report ID   |   Report Version | Make          | Model   |   Model Year | ADS Equipped?   | Automation System Engaged?   | Incident Date   | Incident Time (24:00)   | City               | State   | Roadway Type      | Roadway Surface   |   Posted Speed Limit (MPH) | Lighting           | Crash With         | Highest Injury Severity Alleged   | SV Pre-Crash Movement   | Weather   | SV Contact Area                | Country   |\n",
      "|----+-------------+------------------+---------------+---------+--------------+-----------------+------------------------------+-----------------+-------------------------+--------------------+---------+-------------------+-------------------+----------------------------+--------------------+--------------------+-----------------------------------+-------------------------+-----------+--------------------------------+-----------|\n",
      "|  0 | 10003-2800  |                4 | International | LT      |         2022 | No              | Unknown, see Narrative       | 2025-11-21      | 19:57:00                | Maxatawny Tounship | PA      | Street            | Dry               |                         25 | Dark - Not Lighted | Other Fixed Object | Unknown                           | Proceeding Straight     | Missing   | Front                          | US        |\n",
      "|  1 | 10003-2932  |                1 | International | LT      |         2022 | Yes             | Unknown, see Narrative       | 2021-11-10      | 19:57:00                | Maxatawny Township | PA      | Street            | Dry               |                         25 | Dark - Not Lighted | Other Fixed Object | Unknown                           | Proceeding Straight     | Missing   | Front                          | US        |\n",
      "|  2 | 10003-3210  |                1 | International | LT625   |         2021 | Yes             | Unknown, see Narrative       | 2022-04-10      | 15:52:00                | Tucson             | AZ      | Highway / Freeway | Dry               |                         65 | Daylight           | Other Fixed Object | No Injuries Reported              | Proceeding Straight     | Clear     | Front                          | US        |\n",
      "|  3 | 10003-4179  |                1 | International | LT      |         2022 | No              | ADAS                         | 2025-10-22      | 15:09:00                | Missing            | MD      | Highway / Freeway | Dry               |                         65 | Daylight           | Passenger Car      | Unknown                           | Proceeding Straight     | Clear     | Front                          | US        |\n",
      "|  4 | 10003-6050  |                2 | International | LT625   |         2022 | No              | Unknown, see Narrative       | 2025-12-22      | 08:20:00                | Natural Bridge     | VA      | Highway / Freeway | Dry               |                         70 | Daylight           | Other Fixed Object | No Injuries Reported              | Proceeding Straight     | Clear     | Back, Front, Nearside, Offside | US        |\n",
      "+----+-------------+------------------+---------------+---------+--------------+-----------------+------------------------------+-----------------+-------------------------+--------------------+---------+-------------------+-------------------+----------------------------+--------------------+--------------------+-----------------------------------+-------------------------+-----------+--------------------------------+-----------+\n"
     ]
    }
   ],
   "source": [
    "median_imputed_df = median_mode_imputation(US_data.copy(), numerical_columns, categorical_columns, datetime_columns)\n",
    "print(tabulate(median_imputed_df.head(), headers='keys', tablefmt='psql'))"
   ]
  },
  {
   "cell_type": "markdown",
   "id": "6ff2467e",
   "metadata": {},
   "source": [
    "### **<span style=\"color:Hotpink;\">Random Imputer</span>**\n",
    "- **How it works:** Replaces missing by random sampling from existing values  \n",
    "- **Best for:** Maintaining original distribution with enough data  \n",
    "- **Limitations:** Adds randomness; may create unrealistic combinations"
   ]
  },
  {
   "cell_type": "code",
   "execution_count": 15,
   "id": "e0aa7973",
   "metadata": {},
   "outputs": [],
   "source": [
    "# Random fill from existing non-missing values\n",
    "def random_imputation(data, numerical_columns=None, categorical_columns=None, datetime_columns=None):\n",
    "    data = data.copy()\n",
    "    numerical_columns = numerical_columns or []\n",
    "    categorical_columns = categorical_columns or []\n",
    "    datetime_columns = datetime_columns or []\n",
    "\n",
    "    for col in numerical_columns + categorical_columns + datetime_columns:\n",
    "        if col in data.columns:\n",
    "            non_null_values = data[col].dropna().values\n",
    "            if data[col].isnull().sum() > 0 and len(non_null_values) > 0:\n",
    "                random_samples = np.random.choice(non_null_values, size=data[col].isnull().sum(), replace=True)\n",
    "                data.loc[data[col].isnull(), col] = random_samples\n",
    "    return data\n"
   ]
  },
  {
   "cell_type": "markdown",
   "id": "aadf1ad9",
   "metadata": {},
   "source": [
    "**UK Data**"
   ]
  },
  {
   "cell_type": "code",
   "execution_count": 16,
   "id": "cbb71bd2",
   "metadata": {},
   "outputs": [
    {
     "name": "stdout",
     "output_type": "stream",
     "text": [
      "+----+---------------+------------------+----------+---------+--------------+-----------------+------------------------------+-----------------+-------------------------+----------------+----------------+--------------------+-------------------+----------------------------+----------------+--------------------+-----------------------------------+-------------------------+-----------+-------------------+----------------+\n",
      "|    |     Report ID |   Report Version | Make     | Model   |   Model Year | ADS Equipped?   | Automation System Engaged?   | Incident Date   | Incident Time (24:00)   | City           | State          | Roadway Type       | Roadway Surface   |   Posted Speed Limit (MPH) | Lighting       | Crash With         | Highest Injury Severity Alleged   | SV Pre-Crash Movement   | Weather   | SV Contact Area   | Country        |\n",
      "|----+---------------+------------------+----------+---------+--------------+-----------------+------------------------------+-----------------+-------------------------+----------------+----------------+--------------------+-------------------+----------------------------+----------------+--------------------+-----------------------------------+-------------------------+-----------+-------------------+----------------|\n",
      "|  0 | 2019010155206 |         10155206 | SUZUKI   | SWIFT   |         2015 | Conventional    | Conventional                 | 2019-01-01      | 01:15:00                | Chadwell Heath | Greater London | Single carriageway | Dry               |                         30 | Dark - Lighted | No Object          | Minor                             | Waiting to go - held up | Clear     | Front             | United Kingdom |\n",
      "|  1 | 2019010155217 |         10155217 | HYUNDAI  | I30     |         2015 | Conventional    | Conventional                 | 2019-01-01      | 04:10:00                | Ilford         | Greater London | Dual carriageway   | Dry               |                         40 | Dark - Lighted | Other Fixed Object | Serious                           | Going ahead other       | Clear     | Front             | United Kingdom |\n",
      "|  2 | 2019010155425 |         10155425 | MERCEDES | C CLASS |         2018 | Conventional    | Conventional                 | 2019-01-02      | 15:07:00                | Stamford Hill  | Greater London | Single carriageway | Dry               |                         20 | Daylight       | No Object          | Minor                             | Going ahead other       | Clear     | Front             | United Kingdom |\n",
      "|  3 | 2019010156538 |         10156538 | TOYOTA   | AVENSIS |         2005 | Conventional    | Conventional                 | 2019-01-08      | 21:20:00                | Goodmayes      | Greater London | Single carriageway | Dry               |                         20 | Dark - Lighted | No Object          | Minor                             | Going ahead other       | Clear     | Front             | United Kingdom |\n",
      "|  4 | 2019010156721 |         10156721 | AUDI     | A4      |         2017 | Conventional    | Conventional                 | 2019-01-10      | 08:20:00                | South Norwood  | Greater London | Dual carriageway   | Dry               |                         30 | Daylight       | No Object          | Serious                           | Going ahead other       | Clear     | Front             | United Kingdom |\n",
      "+----+---------------+------------------+----------+---------+--------------+-----------------+------------------------------+-----------------+-------------------------+----------------+----------------+--------------------+-------------------+----------------------------+----------------+--------------------+-----------------------------------+-------------------------+-----------+-------------------+----------------+\n"
     ]
    }
   ],
   "source": [
    "mode_imputed_df = random_imputation(UK_data.copy(), numerical_columns, categorical_columns, datetime_columns)\n",
    "print(tabulate(mode_imputed_df.head(), headers='keys', tablefmt='psql'))"
   ]
  },
  {
   "cell_type": "markdown",
   "id": "1996a456",
   "metadata": {},
   "source": [
    "**US Data**"
   ]
  },
  {
   "cell_type": "code",
   "execution_count": 17,
   "id": "a01a06c6",
   "metadata": {},
   "outputs": [
    {
     "name": "stdout",
     "output_type": "stream",
     "text": [
      "+----+-------------+------------------+---------------+---------+--------------+-----------------+------------------------------+-----------------+-------------------------+--------------------+---------+-------------------+-------------------+----------------------------+--------------------+--------------------+-----------------------------------+-------------------------+-----------+--------------------------------+-----------+\n",
      "|    | Report ID   |   Report Version | Make          | Model   |   Model Year | ADS Equipped?   | Automation System Engaged?   | Incident Date   | Incident Time (24:00)   | City               | State   | Roadway Type      | Roadway Surface   |   Posted Speed Limit (MPH) | Lighting           | Crash With         | Highest Injury Severity Alleged   | SV Pre-Crash Movement   | Weather   | SV Contact Area                | Country   |\n",
      "|----+-------------+------------------+---------------+---------+--------------+-----------------+------------------------------+-----------------+-------------------------+--------------------+---------+-------------------+-------------------+----------------------------+--------------------+--------------------+-----------------------------------+-------------------------+-----------+--------------------------------+-----------|\n",
      "|  0 | 10003-2800  |                4 | International | LT      |         2022 | No              | Unknown, see Narrative       | 2025-11-21      | 19:57:00                | Maxatawny Tounship | PA      | Street            | Dry               |                         25 | Dark - Not Lighted | Other Fixed Object | Unknown                           | Proceeding Straight     | Missing   | Front                          | US        |\n",
      "|  1 | 10003-2932  |                1 | International | LT      |         2022 | Yes             | Unknown, see Narrative       | 2021-11-10      | 19:57:00                | Maxatawny Township | PA      | Street            | Dry               |                         25 | Dark - Not Lighted | Other Fixed Object | Unknown                           | Proceeding Straight     | Missing   | Front                          | US        |\n",
      "|  2 | 10003-3210  |                1 | International | LT625   |         2021 | Yes             | Unknown, see Narrative       | 2022-04-10      | 15:52:00                | Tucson             | AZ      | Highway / Freeway | Dry               |                         65 | Daylight           | Other Fixed Object | No Injuries Reported              | Proceeding Straight     | Clear     | Front                          | US        |\n",
      "|  3 | 10003-4179  |                1 | International | LT      |         2022 | No              | ADAS                         | 2025-10-22      | 15:09:00                | Missing            | MD      | Highway / Freeway | Dry               |                         65 | Daylight           | Passenger Car      | Unknown                           | Proceeding Straight     | Clear     | Front                          | US        |\n",
      "|  4 | 10003-6050  |                2 | International | LT625   |         2022 | No              | Unknown, see Narrative       | 2025-12-22      | 08:20:00                | Natural Bridge     | VA      | Highway / Freeway | Dry               |                         70 | Daylight           | Other Fixed Object | No Injuries Reported              | Proceeding Straight     | Clear     | Back, Front, Nearside, Offside | US        |\n",
      "+----+-------------+------------------+---------------+---------+--------------+-----------------+------------------------------+-----------------+-------------------------+--------------------+---------+-------------------+-------------------+----------------------------+--------------------+--------------------+-----------------------------------+-------------------------+-----------+--------------------------------+-----------+\n"
     ]
    }
   ],
   "source": [
    "mode_imputed_df = random_imputation(US_data.copy(), numerical_columns, categorical_columns, datetime_columns)\n",
    "print(tabulate(mode_imputed_df.head(), headers='keys', tablefmt='psql'))"
   ]
  },
  {
   "cell_type": "markdown",
   "id": "9c00785e",
   "metadata": {},
   "source": [
    "### **<span style=\"color:Hotpink;\">Last Occurance Carried Forward (LOCF) Imputer</span>**\n",
    "- **How it works:** Replaces missing by random sampling from existing values  \n",
    "- **Best for:** Maintaining original distribution with enough data  \n",
    "- **Limitations:** Adds randomness; may create unrealistic combinations"
   ]
  },
  {
   "cell_type": "code",
   "execution_count": 18,
   "id": "cd9368d9",
   "metadata": {},
   "outputs": [],
   "source": [
    "# Backward fill for all\n",
    "def last_occurrence_imputation(data, numerical_columns=None, categorical_columns=None, datetime_columns=None):\n",
    "    data = data.copy()\n",
    "    numerical_columns = numerical_columns or []\n",
    "    categorical_columns = categorical_columns or []\n",
    "    datetime_columns = datetime_columns or []\n",
    "\n",
    "    for col in numerical_columns + categorical_columns + datetime_columns:\n",
    "        if col in data.columns:\n",
    "            data[col].fillna(method='bfill', inplace=True)\n",
    "    return data\n"
   ]
  },
  {
   "cell_type": "markdown",
   "id": "bde66092",
   "metadata": {},
   "source": [
    "**UK Data**"
   ]
  },
  {
   "cell_type": "code",
   "execution_count": 19,
   "id": "71c72a45",
   "metadata": {},
   "outputs": [
    {
     "name": "stdout",
     "output_type": "stream",
     "text": [
      "+----+---------------+------------------+----------+---------+--------------+-----------------+------------------------------+-----------------+-------------------------+----------------+----------------+--------------------+-------------------+----------------------------+----------------+--------------------+-----------------------------------+-------------------------+-----------+-------------------+----------------+\n",
      "|    |     Report ID |   Report Version | Make     | Model   |   Model Year | ADS Equipped?   | Automation System Engaged?   | Incident Date   | Incident Time (24:00)   | City           | State          | Roadway Type       | Roadway Surface   |   Posted Speed Limit (MPH) | Lighting       | Crash With         | Highest Injury Severity Alleged   | SV Pre-Crash Movement   | Weather   | SV Contact Area   | Country        |\n",
      "|----+---------------+------------------+----------+---------+--------------+-----------------+------------------------------+-----------------+-------------------------+----------------+----------------+--------------------+-------------------+----------------------------+----------------+--------------------+-----------------------------------+-------------------------+-----------+-------------------+----------------|\n",
      "|  0 | 2019010155206 |         10155206 | SUZUKI   | SWIFT   |         2015 | Conventional    | Conventional                 | 2019-01-01      | 01:15:00                | Chadwell Heath | Greater London | Single carriageway | Dry               |                         30 | Dark - Lighted | No Object          | Minor                             | Waiting to go - held up | Clear     | Front             | United Kingdom |\n",
      "|  1 | 2019010155217 |         10155217 | HYUNDAI  | I30     |         2015 | Conventional    | Conventional                 | 2019-01-01      | 04:10:00                | Ilford         | Greater London | Dual carriageway   | Dry               |                         40 | Dark - Lighted | Other Fixed Object | Serious                           | Going ahead other       | Clear     | Front             | United Kingdom |\n",
      "|  2 | 2019010155425 |         10155425 | MERCEDES | C CLASS |         2018 | Conventional    | Conventional                 | 2019-01-02      | 15:07:00                | Stamford Hill  | Greater London | Single carriageway | Dry               |                         20 | Daylight       | No Object          | Minor                             | Going ahead other       | Clear     | Front             | United Kingdom |\n",
      "|  3 | 2019010156538 |         10156538 | TOYOTA   | AVENSIS |         2005 | Conventional    | Conventional                 | 2019-01-08      | 21:20:00                | Goodmayes      | Greater London | Single carriageway | Dry               |                         20 | Dark - Lighted | No Object          | Minor                             | Going ahead other       | Clear     | Front             | United Kingdom |\n",
      "|  4 | 2019010156721 |         10156721 | AUDI     | A4      |         2017 | Conventional    | Conventional                 | 2019-01-10      | 08:20:00                | South Norwood  | Greater London | Dual carriageway   | Dry               |                         30 | Daylight       | No Object          | Serious                           | Going ahead other       | Clear     | Front             | United Kingdom |\n",
      "+----+---------------+------------------+----------+---------+--------------+-----------------+------------------------------+-----------------+-------------------------+----------------+----------------+--------------------+-------------------+----------------------------+----------------+--------------------+-----------------------------------+-------------------------+-----------+-------------------+----------------+\n"
     ]
    }
   ],
   "source": [
    "\n",
    "# Usage example\n",
    "mode_imputed_df = last_occurrence_imputation(UK_data.copy(), numerical_columns, categorical_columns, datetime_columns)\n",
    "print(tabulate(mode_imputed_df.head(), headers='keys', tablefmt='psql'))"
   ]
  },
  {
   "cell_type": "markdown",
   "id": "0ca9343c",
   "metadata": {},
   "source": [
    "**US Data**"
   ]
  },
  {
   "cell_type": "code",
   "execution_count": 20,
   "id": "a6285fff",
   "metadata": {},
   "outputs": [
    {
     "name": "stdout",
     "output_type": "stream",
     "text": [
      "+----+-------------+------------------+---------------+---------+--------------+-----------------+------------------------------+-----------------+-------------------------+--------------------+---------+-------------------+-------------------+----------------------------+--------------------+--------------------+-----------------------------------+-------------------------+-----------+--------------------------------+-----------+\n",
      "|    | Report ID   |   Report Version | Make          | Model   |   Model Year | ADS Equipped?   | Automation System Engaged?   | Incident Date   | Incident Time (24:00)   | City               | State   | Roadway Type      | Roadway Surface   |   Posted Speed Limit (MPH) | Lighting           | Crash With         | Highest Injury Severity Alleged   | SV Pre-Crash Movement   | Weather   | SV Contact Area                | Country   |\n",
      "|----+-------------+------------------+---------------+---------+--------------+-----------------+------------------------------+-----------------+-------------------------+--------------------+---------+-------------------+-------------------+----------------------------+--------------------+--------------------+-----------------------------------+-------------------------+-----------+--------------------------------+-----------|\n",
      "|  0 | 10003-2800  |                4 | International | LT      |         2022 | No              | Unknown, see Narrative       | 2025-11-21      | 19:57:00                | Maxatawny Tounship | PA      | Street            | Dry               |                         25 | Dark - Not Lighted | Other Fixed Object | Unknown                           | Proceeding Straight     | Missing   | Front                          | US        |\n",
      "|  1 | 10003-2932  |                1 | International | LT      |         2022 | Yes             | Unknown, see Narrative       | 2021-11-10      | 19:57:00                | Maxatawny Township | PA      | Street            | Dry               |                         25 | Dark - Not Lighted | Other Fixed Object | Unknown                           | Proceeding Straight     | Missing   | Front                          | US        |\n",
      "|  2 | 10003-3210  |                1 | International | LT625   |         2021 | Yes             | Unknown, see Narrative       | 2022-04-10      | 15:52:00                | Tucson             | AZ      | Highway / Freeway | Dry               |                         65 | Daylight           | Other Fixed Object | No Injuries Reported              | Proceeding Straight     | Clear     | Front                          | US        |\n",
      "|  3 | 10003-4179  |                1 | International | LT      |         2022 | No              | ADAS                         | 2025-10-22      | 15:09:00                | Missing            | MD      | Highway / Freeway | Dry               |                         65 | Daylight           | Passenger Car      | Unknown                           | Proceeding Straight     | Clear     | Front                          | US        |\n",
      "|  4 | 10003-6050  |                2 | International | LT625   |         2022 | No              | Unknown, see Narrative       | 2025-12-22      | 08:20:00                | Natural Bridge     | VA      | Highway / Freeway | Dry               |                         70 | Daylight           | Other Fixed Object | No Injuries Reported              | Proceeding Straight     | Clear     | Back, Front, Nearside, Offside | US        |\n",
      "+----+-------------+------------------+---------------+---------+--------------+-----------------+------------------------------+-----------------+-------------------------+--------------------+---------+-------------------+-------------------+----------------------------+--------------------+--------------------+-----------------------------------+-------------------------+-----------+--------------------------------+-----------+\n"
     ]
    }
   ],
   "source": [
    "\n",
    "# Usage example\n",
    "mode_imputed_df = last_occurrence_imputation(US_data.copy(), numerical_columns, categorical_columns, datetime_columns)\n",
    "print(tabulate(mode_imputed_df.head(), headers='keys', tablefmt='psql'))"
   ]
  },
  {
   "cell_type": "markdown",
   "id": "b86300b1",
   "metadata": {},
   "source": [
    "### **<span style=\"color:Hotpink;\">Regression Imputer</span>**\n",
    "- **How it works:** Predicts missing values using regression models on other features  \n",
    "- **Best for:** When strong relationships exist between features  \n",
    "- **Limitations:** Assumes linearity; risk of overfitting if data is small  "
   ]
  },
  {
   "cell_type": "code",
   "execution_count": 21,
   "id": "f38156d4",
   "metadata": {},
   "outputs": [],
   "source": [
    "\n",
    "def regression_imputer(df, numerical_columns=None, categorical_columns=None, datetime_columns=None):\n",
    "    df_copy = df.copy()\n",
    "    \n",
    "    if numerical_columns is None:\n",
    "        numerical_columns = []\n",
    "    if categorical_columns is None:\n",
    "        categorical_columns = []\n",
    "    if datetime_columns is None:\n",
    "        datetime_columns = []\n",
    "    \n",
    "    # Impute numerical columns using IterativeImputer if any numerical columns exist\n",
    "    if numerical_columns:\n",
    "        imputer = IterativeImputer(random_state=0)\n",
    "        imputed_num = imputer.fit_transform(df_copy[numerical_columns])\n",
    "        imputed_num_df = pd.DataFrame(imputed_num, columns=numerical_columns, index=df_copy.index)\n",
    "    else:\n",
    "        imputed_num_df = pd.DataFrame(index=df_copy.index)\n",
    "    \n",
    "    # Impute categorical columns using mode if any exist\n",
    "    if categorical_columns:\n",
    "        imputed_cat_df = df_copy[categorical_columns].fillna(df_copy[categorical_columns].mode().iloc[0])\n",
    "    else:\n",
    "        imputed_cat_df = pd.DataFrame(index=df_copy.index)\n",
    "    \n",
    "    # Impute datetime columns using forward fill if any exist\n",
    "    if datetime_columns:\n",
    "        imputed_dt_df = df_copy[datetime_columns].fillna(method='ffill')\n",
    "    else:\n",
    "        imputed_dt_df = pd.DataFrame(index=df_copy.index)\n",
    "    \n",
    "    # Combine all imputed parts (only those with columns)\n",
    "    imputed_df = pd.concat([df_copy.drop(columns=numerical_columns + categorical_columns + datetime_columns, errors='ignore'),\n",
    "                            imputed_num_df, imputed_cat_df, imputed_dt_df], axis=1)\n",
    "    # Optional: reorder columns to match original df\n",
    "    imputed_df = imputed_df[df_copy.columns]\n",
    "    \n",
    "    return imputed_df\n"
   ]
  },
  {
   "cell_type": "markdown",
   "id": "232763cc",
   "metadata": {},
   "source": [
    "**UK Data**"
   ]
  },
  {
   "cell_type": "code",
   "execution_count": 22,
   "id": "d218d1c6",
   "metadata": {},
   "outputs": [
    {
     "name": "stdout",
     "output_type": "stream",
     "text": [
      "+----+---------------+------------------+----------+---------+--------------+-----------------+------------------------------+-----------------+-------------------------+----------------+----------------+--------------------+-------------------+----------------------------+----------------+--------------------+-----------------------------------+-------------------------+-----------+-------------------+----------------+\n",
      "|    |     Report ID |   Report Version | Make     | Model   |   Model Year | ADS Equipped?   | Automation System Engaged?   | Incident Date   | Incident Time (24:00)   | City           | State          | Roadway Type       | Roadway Surface   |   Posted Speed Limit (MPH) | Lighting       | Crash With         | Highest Injury Severity Alleged   | SV Pre-Crash Movement   | Weather   | SV Contact Area   | Country        |\n",
      "|----+---------------+------------------+----------+---------+--------------+-----------------+------------------------------+-----------------+-------------------------+----------------+----------------+--------------------+-------------------+----------------------------+----------------+--------------------+-----------------------------------+-------------------------+-----------+-------------------+----------------|\n",
      "|  0 | 2019010155206 |         10155206 | SUZUKI   | SWIFT   |         2015 | Conventional    | Conventional                 | 2019-01-01      | 01:15:00                | Chadwell Heath | Greater London | Single carriageway | Dry               |                         30 | Dark - Lighted | No Object          | Minor                             | Waiting to go - held up | Clear     | Front             | United Kingdom |\n",
      "|  1 | 2019010155217 |         10155217 | HYUNDAI  | I30     |         2015 | Conventional    | Conventional                 | 2019-01-01      | 04:10:00                | Ilford         | Greater London | Dual carriageway   | Dry               |                         40 | Dark - Lighted | Other Fixed Object | Serious                           | Going ahead other       | Clear     | Front             | United Kingdom |\n",
      "|  2 | 2019010155425 |         10155425 | MERCEDES | C CLASS |         2018 | Conventional    | Conventional                 | 2019-01-02      | 15:07:00                | Stamford Hill  | Greater London | Single carriageway | Dry               |                         20 | Daylight       | No Object          | Minor                             | Going ahead other       | Clear     | Front             | United Kingdom |\n",
      "|  3 | 2019010156538 |         10156538 | TOYOTA   | AVENSIS |         2005 | Conventional    | Conventional                 | 2019-01-08      | 21:20:00                | Goodmayes      | Greater London | Single carriageway | Dry               |                         20 | Dark - Lighted | No Object          | Minor                             | Going ahead other       | Clear     | Front             | United Kingdom |\n",
      "|  4 | 2019010156721 |         10156721 | AUDI     | A4      |         2017 | Conventional    | Conventional                 | 2019-01-10      | 08:20:00                | South Norwood  | Greater London | Dual carriageway   | Dry               |                         30 | Daylight       | No Object          | Serious                           | Going ahead other       | Clear     | Front             | United Kingdom |\n",
      "+----+---------------+------------------+----------+---------+--------------+-----------------+------------------------------+-----------------+-------------------------+----------------+----------------+--------------------+-------------------+----------------------------+----------------+--------------------+-----------------------------------+-------------------------+-----------+-------------------+----------------+\n"
     ]
    }
   ],
   "source": [
    "imputed_data = regression_imputer(UK_data.copy(), numerical_columns, categorical_columns, datetime_columns)\n",
    "print(tabulate(imputed_data.head(), headers=\"keys\", tablefmt=\"psql\"))"
   ]
  },
  {
   "cell_type": "markdown",
   "id": "06f44f7e",
   "metadata": {},
   "source": [
    "**US Data**"
   ]
  },
  {
   "cell_type": "code",
   "execution_count": 23,
   "id": "90a3e4c3",
   "metadata": {},
   "outputs": [
    {
     "name": "stdout",
     "output_type": "stream",
     "text": [
      "+----+-------------+------------------+---------------+---------+--------------+-----------------+------------------------------+-----------------+-------------------------+--------------------+---------+-------------------+-------------------+----------------------------+--------------------+--------------------+-----------------------------------+-------------------------+-----------+--------------------------------+-----------+\n",
      "|    | Report ID   |   Report Version | Make          | Model   |   Model Year | ADS Equipped?   | Automation System Engaged?   | Incident Date   | Incident Time (24:00)   | City               | State   | Roadway Type      | Roadway Surface   |   Posted Speed Limit (MPH) | Lighting           | Crash With         | Highest Injury Severity Alleged   | SV Pre-Crash Movement   | Weather   | SV Contact Area                | Country   |\n",
      "|----+-------------+------------------+---------------+---------+--------------+-----------------+------------------------------+-----------------+-------------------------+--------------------+---------+-------------------+-------------------+----------------------------+--------------------+--------------------+-----------------------------------+-------------------------+-----------+--------------------------------+-----------|\n",
      "|  0 | 10003-2800  |                4 | International | LT      |         2022 | No              | Unknown, see Narrative       | 2025-11-21      | 19:57:00                | Maxatawny Tounship | PA      | Street            | Dry               |                         25 | Dark - Not Lighted | Other Fixed Object | Unknown                           | Proceeding Straight     | Missing   | Front                          | US        |\n",
      "|  1 | 10003-2932  |                1 | International | LT      |         2022 | Yes             | Unknown, see Narrative       | 2021-11-10      | 19:57:00                | Maxatawny Township | PA      | Street            | Dry               |                         25 | Dark - Not Lighted | Other Fixed Object | Unknown                           | Proceeding Straight     | Missing   | Front                          | US        |\n",
      "|  2 | 10003-3210  |                1 | International | LT625   |         2021 | Yes             | Unknown, see Narrative       | 2022-04-10      | 15:52:00                | Tucson             | AZ      | Highway / Freeway | Dry               |                         65 | Daylight           | Other Fixed Object | No Injuries Reported              | Proceeding Straight     | Clear     | Front                          | US        |\n",
      "|  3 | 10003-4179  |                1 | International | LT      |         2022 | No              | ADAS                         | 2025-10-22      | 15:09:00                | Missing            | MD      | Highway / Freeway | Dry               |                         65 | Daylight           | Passenger Car      | Unknown                           | Proceeding Straight     | Clear     | Front                          | US        |\n",
      "|  4 | 10003-6050  |                2 | International | LT625   |         2022 | No              | Unknown, see Narrative       | 2025-12-22      | 08:20:00                | Natural Bridge     | VA      | Highway / Freeway | Dry               |                         70 | Daylight           | Other Fixed Object | No Injuries Reported              | Proceeding Straight     | Clear     | Back, Front, Nearside, Offside | US        |\n",
      "+----+-------------+------------------+---------------+---------+--------------+-----------------+------------------------------+-----------------+-------------------------+--------------------+---------+-------------------+-------------------+----------------------------+--------------------+--------------------+-----------------------------------+-------------------------+-----------+--------------------------------+-----------+\n"
     ]
    }
   ],
   "source": [
    "imputed_data = regression_imputer(US_data.copy(), numerical_columns, categorical_columns, datetime_columns)\n",
    "print(tabulate(imputed_data.head(), headers=\"keys\", tablefmt=\"psql\"))"
   ]
  },
  {
   "cell_type": "markdown",
   "id": "3f69b373",
   "metadata": {},
   "source": [
    "### **<span style=\"color:Orange;\">Regression Imputer UPDATED</span>**\n",
    "- only for posted speed US 11% missing \n",
    "- treat as categorical"
   ]
  },
  {
   "cell_type": "code",
   "execution_count": 24,
   "id": "26a77bea",
   "metadata": {},
   "outputs": [
    {
     "data": {
      "text/plain": [
       "496"
      ]
     },
     "execution_count": 24,
     "metadata": {},
     "output_type": "execute_result"
    }
   ],
   "source": [
    "\n",
    "US_data['Posted Speed Limit (MPH)'].isnull().sum()\n"
   ]
  },
  {
   "cell_type": "code",
   "execution_count": 25,
   "id": "93710ee5",
   "metadata": {},
   "outputs": [],
   "source": [
    "from sklearn.ensemble import RandomForestClassifier\n",
    "\n",
    "def random_forest_imputer_from_encoded(original_df, encoded_df, target_column):\n",
    "    # Ensure target is categorical in original data\n",
    "    original_df[target_column] = original_df[target_column].astype('category')\n",
    "    categories = original_df[target_column].cat.categories\n",
    "    \n",
    "    # Encode target for modeling\n",
    "    target_codes = original_df[target_column].cat.codes\n",
    "    target_codes = target_codes.replace(-1, np.nan)  # Convert -1 (NaN) to np.nan\n",
    "\n",
    "    # Add target codes to encoded DataFrame (for model fitting)\n",
    "    model_df = encoded_df.copy()\n",
    "    model_df['target_code'] = target_codes.values\n",
    "\n",
    "    # Separate rows\n",
    "    df_not_missing = model_df[model_df['target_code'].notnull()]\n",
    "    df_missing = model_df[model_df['target_code'].isnull()]\n",
    "\n",
    "    X_train = df_not_missing.drop(columns=['target_code'])\n",
    "    y_train = df_not_missing['target_code'].astype(int)\n",
    "    X_pred = df_missing.drop(columns=['target_code'])\n",
    "\n",
    "    # Train RandomForestClassifier\n",
    "    model = RandomForestClassifier(n_estimators=100, random_state=42)\n",
    "    model.fit(X_train, y_train)\n",
    "\n",
    "    # Predict missing target values\n",
    "    predicted_codes = model.predict(X_pred)\n",
    "    predicted_labels = [categories[i] for i in predicted_codes]\n",
    "\n",
    "    # Fill missing values in original_df\n",
    "    original_df.loc[original_df[target_column].isnull(), target_column] = predicted_labels\n",
    "\n",
    "    # Return imputed original DataFrame\n",
    "    original_df[target_column] = original_df[target_column].astype('category')\n",
    "    return original_df\n",
    "# Assumes UK_data = original data with missing categorical target\n",
    "# UK_data_scale = encoded & scaled version (used for model input)\n",
    "US_data_imputed = random_forest_imputer_from_encoded(US_data, US_data_scale, 'Posted Speed Limit (MPH)')\n"
   ]
  },
  {
   "cell_type": "markdown",
   "id": "775d234c",
   "metadata": {},
   "source": [
    "### Main hyperparameters in your code:\n",
    "n_estimators=100\n",
    "Number of trees in the forest. More trees usually improve performance but increase computation time.\n",
    "random_state=42\n",
    "Seed for reproducibility."
   ]
  },
  {
   "cell_type": "code",
   "execution_count": 26,
   "id": "20f625d0",
   "metadata": {},
   "outputs": [
    {
     "name": "stdout",
     "output_type": "stream",
     "text": [
      "Overall Accuracy: 0.9309\n",
      "\n",
      "Class 0.0: TP=0, FP=0, FN=0, TN=897, Accuracy=1.0000\n",
      "Class 1.0: TP=0, FP=0, FN=0, TN=897, Accuracy=1.0000\n",
      "Class 4.0: TP=0, FP=0, FN=1, TN=896, Accuracy=0.9989\n",
      "Class 5.0: TP=1, FP=0, FN=0, TN=896, Accuracy=1.0000\n",
      "Class 9.0: TP=1, FP=0, FN=0, TN=896, Accuracy=1.0000\n",
      "Class 10.0: TP=0, FP=0, FN=2, TN=895, Accuracy=0.9978\n",
      "Class 15.0: TP=23, FP=4, FN=1, TN=869, Accuracy=0.9944\n",
      "Class 20.0: TP=16, FP=0, FN=3, TN=878, Accuracy=0.9967\n",
      "Class 25.0: TP=219, FP=11, FN=1, TN=666, Accuracy=0.9866\n",
      "Class 30.0: TP=42, FP=0, FN=2, TN=853, Accuracy=0.9978\n",
      "Class 32.0: TP=0, FP=0, FN=0, TN=897, Accuracy=1.0000\n",
      "Class 35.0: TP=66, FP=5, FN=14, TN=812, Accuracy=0.9788\n",
      "Class 40.0: TP=34, FP=3, FN=4, TN=856, Accuracy=0.9922\n",
      "Class 43.0: TP=0, FP=0, FN=0, TN=897, Accuracy=1.0000\n",
      "Class 45.0: TP=79, FP=12, FN=13, TN=793, Accuracy=0.9721\n",
      "Class 50.0: TP=17, FP=3, FN=5, TN=872, Accuracy=0.9911\n",
      "Class 55.0: TP=73, FP=9, FN=8, TN=807, Accuracy=0.9810\n",
      "Class 57.0: TP=0, FP=0, FN=0, TN=897, Accuracy=1.0000\n",
      "Class 59.0: TP=0, FP=0, FN=0, TN=897, Accuracy=1.0000\n",
      "Class 60.0: TP=21, FP=0, FN=2, TN=874, Accuracy=0.9978\n",
      "Class 65.0: TP=175, FP=13, FN=1, TN=708, Accuracy=0.9844\n",
      "Class 70.0: TP=55, FP=1, FN=3, TN=838, Accuracy=0.9955\n",
      "Class 75.0: TP=13, FP=1, FN=1, TN=882, Accuracy=0.9978\n",
      "Class 80.0: TP=0, FP=0, FN=1, TN=896, Accuracy=0.9989\n"
     ]
    }
   ],
   "source": [
    "from sklearn.metrics import confusion_matrix\n",
    "import numpy as np\n",
    "\n",
    "def evaluate_imputer_with_per_class_accuracy(original_df, encoded_df, target_column, test_size=0.2, random_state=42):\n",
    "    original_df[target_column] = original_df[target_column].astype('category')\n",
    "    categories = original_df[target_column].cat.categories\n",
    "\n",
    "    # Filter non-missing rows\n",
    "    non_missing_mask = original_df[target_column].notnull()\n",
    "    full_data = original_df[non_missing_mask].copy()\n",
    "    full_encoded = encoded_df[non_missing_mask].copy()\n",
    "\n",
    "    # Numeric codes\n",
    "    full_data['target_code'] = full_data[target_column].cat.codes\n",
    "\n",
    "    # Randomly mask test samples\n",
    "    np.random.seed(random_state)\n",
    "    mask = np.random.rand(len(full_data)) < test_size\n",
    "    test_indices = full_data.index[mask]\n",
    "\n",
    "    # Train/test split\n",
    "    X_train = full_encoded.drop(index=test_indices)\n",
    "    y_train = full_data.loc[~mask, 'target_code']\n",
    "\n",
    "    X_test = full_encoded.loc[test_indices]\n",
    "    y_true = full_data.loc[mask, 'target_code']\n",
    "\n",
    "    # Train model\n",
    "    clf = RandomForestClassifier(n_estimators=100, random_state=random_state)\n",
    "    clf.fit(X_train, y_train)\n",
    "\n",
    "    # Predict\n",
    "    y_pred = clf.predict(X_test)\n",
    "\n",
    "    # Compute confusion matrix\n",
    "    cm = confusion_matrix(y_true, y_pred, labels=range(len(categories)))\n",
    "\n",
    "    total_samples = cm.sum()\n",
    "    total_correct = np.trace(cm)  # total TP across all classes\n",
    "\n",
    "    overall_accuracy = total_correct / total_samples\n",
    "\n",
    "    results = {}\n",
    "\n",
    "    for i, class_label in enumerate(categories):\n",
    "        TP = cm[i, i]\n",
    "        FP = cm[:, i].sum() - TP\n",
    "        FN = cm[i, :].sum() - TP\n",
    "        TN = total_samples - TP - FP - FN\n",
    "\n",
    "        class_accuracy = (TP + TN) / (TP + TN + FP + FN)\n",
    "\n",
    "        results[class_label] = {\n",
    "            \"TP\": TP,\n",
    "            \"FP\": FP,\n",
    "            \"FN\": FN,\n",
    "            \"TN\": TN,\n",
    "            \"Accuracy\": class_accuracy\n",
    "        }\n",
    "\n",
    "    return overall_accuracy, results\n",
    "\n",
    "overall_acc, per_class_metrics = evaluate_imputer_with_per_class_accuracy(US_data, US_data_scale, 'Posted Speed Limit (MPH)')\n",
    "\n",
    "print(f\"Overall Accuracy: {overall_acc:.4f}\\n\")\n",
    "for cls, metrics in per_class_metrics.items():\n",
    "    print(f\"Class {cls}: TP={metrics['TP']}, FP={metrics['FP']}, FN={metrics['FN']}, TN={metrics['TN']}, Accuracy={metrics['Accuracy']:.4f}\")\n",
    "\n"
   ]
  },
  {
   "cell_type": "markdown",
   "id": "0eeccc97",
   "metadata": {},
   "source": [
    "### **<span style=\"color:GreenYellow;\">Evaluating: Imputing Methods</span>**\n",
    "- For each column type trying every single imputing method to see which scores better "
   ]
  },
  {
   "cell_type": "markdown",
   "id": "b8207057",
   "metadata": {},
   "source": [
    "**Support Functions for Imputer Test**"
   ]
  },
  {
   "cell_type": "code",
   "execution_count": 27,
   "id": "9f950e3c",
   "metadata": {},
   "outputs": [],
   "source": [
    "\n",
    "# ---------- helpers ---------- #\n",
    "def masked_rmse(imputed, original, mask):\n",
    "    \"\"\"RMSE only on the cells that were masked *and* successfully imputed.\"\"\"\n",
    "    flat_mask = (mask & imputed.notna() & original.notna()).values.flatten()\n",
    "    if not flat_mask.any():\n",
    "        return np.nan\n",
    "    y_true = original.values.flatten()[flat_mask]\n",
    "    y_pred = imputed.values.flatten()[flat_mask]\n",
    "    return np.sqrt(mean_squared_error(y_true, y_pred))\n"
   ]
  },
  {
   "cell_type": "code",
   "execution_count": 28,
   "id": "9e48bc13",
   "metadata": {},
   "outputs": [],
   "source": [
    "def unified_imputer_test(\n",
    "        data,\n",
    "        numerical_columns=None,\n",
    "        categorical_columns=None,\n",
    "        datetime_columns=None,\n",
    "        bar_width=0.6,\n",
    "        figsize=(8, 5),\n",
    "        rmse_bar_color=\"#aec6cf\", # default pastel blue\n",
    "        title =\"Imputation Error\"\n",
    "):\n",
    "    numerical_columns = numerical_columns or []\n",
    "    categorical_columns = categorical_columns or []\n",
    "    datetime_columns = datetime_columns or []\n",
    "\n",
    "    selected = numerical_columns + categorical_columns + datetime_columns\n",
    "    original = data.dropna(subset=selected)[selected].copy()\n",
    "\n",
    "    # Create a 20% mask\n",
    "    rng = np.random.default_rng(0)\n",
    "    mask = pd.DataFrame(rng.random(original.shape) < 0.20,\n",
    "                        index=original.index, columns=original.columns)\n",
    "    masked = original.mask(mask)\n",
    "\n",
    "    # Run imputers\n",
    "    median_mode = median_mode_imputation(masked.copy(),\n",
    "                                         numerical_columns, categorical_columns, datetime_columns)\n",
    "    mode_mean = mode_mean_imputation(masked.copy(),\n",
    "                                     numerical_columns, categorical_columns, datetime_columns)\n",
    "    last_occ = last_occurrence_imputation(masked.copy(),\n",
    "                                         numerical_columns, categorical_columns, datetime_columns)\n",
    "    random_imp = random_imputation(masked.copy(),\n",
    "                                  numerical_columns, categorical_columns, datetime_columns)\n",
    "    regress_imp = regression_imputer(masked.copy(), numerical_columns, datetime_columns)  # only numerical\n",
    "\n",
    "    imputers = {\n",
    "        \"Median‑Mode\": median_mode,\n",
    "        \"Mode‑Mean\": mode_mean,\n",
    "        \"Last Occur.\": last_occ,\n",
    "        \"Random\": random_imp,\n",
    "        \"Regression\": regress_imp\n",
    "    }\n",
    "\n",
    "    # Compute RMSE scores only\n",
    "    rmse_scores = {}\n",
    "    for name, df_imp in imputers.items():\n",
    "        if numerical_columns:\n",
    "            rmse_scores[name] = masked_rmse(\n",
    "                df_imp[numerical_columns], original[numerical_columns], mask[numerical_columns])\n",
    "\n",
    "    # Plot RMSE only\n",
    "    plt.figure(figsize=figsize)\n",
    "    if rmse_scores:\n",
    "        rmses = list(rmse_scores.values())\n",
    "        labels_rmse = list(rmse_scores.keys())\n",
    "        bars = plt.bar(labels_rmse, rmses, width=bar_width, color=rmse_bar_color)\n",
    "        plt.ylabel(f\"RMSE {title}\")\n",
    "        plt.title(f\"{title}\")\n",
    "        plt.xticks(rotation=45, ha='right')\n",
    "        plt.grid(True, axis='y', linestyle='--', alpha=0.7)\n",
    "        for b, v in zip(bars, rmses):\n",
    "            plt.text(b.get_x() + b.get_width() / 2, b.get_height(),\n",
    "                     f\"{v:.3f}\", ha='center', va='bottom', fontsize=8)\n",
    "\n",
    "    plt.tight_layout()\n",
    "    plt.show()\n",
    "\n",
    "    return {\"RMSE\": rmse_scores}\n",
    "\n"
   ]
  },
  {
   "cell_type": "markdown",
   "id": "c24e703d",
   "metadata": {},
   "source": [
    "**Numerical Columns**"
   ]
  },
  {
   "cell_type": "code",
   "execution_count": 29,
   "id": "6f376ada",
   "metadata": {},
   "outputs": [
    {
     "name": "stdout",
     "output_type": "stream",
     "text": [
      "UK Numerical Imputing Results\n"
     ]
    },
    {
     "data": {
      "image/png": "[encoded data removed]",
      "text/plain": [
       "<Figure size 800x500 with 1 Axes>"
      ]
     },
     "metadata": {},
     "output_type": "display_data"
    },
    {
     "name": "stdout",
     "output_type": "stream",
     "text": [
      "US Numerical Imputing Results\n"
     ]
    },
    {
     "data": {
      "image/png": "[encoded data removed]",
      "text/plain": [
       "<Figure size 800x500 with 1 Axes>"
      ]
     },
     "metadata": {},
     "output_type": "display_data"
    },
    {
     "data": {
      "text/plain": [
       "{'RMSE': {'Median‑Mode': 0.22842752228875318,\n",
       "  'Mode‑Mean': 0.22530125564254685,\n",
       "  'Last\\xa0Occur.': 0.19494007924395984,\n",
       "  'Random': 0.322046281761664,\n",
       "  'Regression': 0.22530125564254685}}"
      ]
     },
     "execution_count": 29,
     "metadata": {},
     "output_type": "execute_result"
    }
   ],
   "source": [
    "print(\"UK Numerical Imputing Results\")\n",
    "unified_imputer_test(UK_data_scale.copy(), numerical_columns=numerical_columns, rmse_bar_color=\"lightgreen\",title=\"Numerical Imputation Error\")\n",
    "print(\"US Numerical Imputing Results\")\n",
    "unified_imputer_test(US_data_scale.copy(), numerical_columns=numerical_columns, rmse_bar_color=\"Plum\",title=\"Numerical Imputation Error\")\n"
   ]
  },
  {
   "cell_type": "markdown",
   "id": "f3c93ed7",
   "metadata": {},
   "source": [
    "**Catergorical Columns**"
   ]
  },
  {
   "cell_type": "code",
   "execution_count": 30,
   "id": "efe032d7",
   "metadata": {},
   "outputs": [
    {
     "name": "stdout",
     "output_type": "stream",
     "text": [
      "UK Categorical Imputing Results\n"
     ]
    },
    {
     "data": {
      "image/png": "[encoded data removed]",
      "text/plain": [
       "<Figure size 800x500 with 1 Axes>"
      ]
     },
     "metadata": {},
     "output_type": "display_data"
    },
    {
     "name": "stdout",
     "output_type": "stream",
     "text": [
      "US Categorical Imputing Results\n"
     ]
    },
    {
     "data": {
      "image/png": "[encoded data removed]",
      "text/plain": [
       "<Figure size 800x500 with 1 Axes>"
      ]
     },
     "metadata": {},
     "output_type": "display_data"
    },
    {
     "data": {
      "text/plain": [
       "{'RMSE': {'Median‑Mode': 0.34633493010647026,\n",
       "  'Mode‑Mean': 0.29098523372703333,\n",
       "  'Last\\xa0Occur.': 0.30253967599911463,\n",
       "  'Random': 0.41321617511146636,\n",
       "  'Regression': 0.22469816267886414}}"
      ]
     },
     "execution_count": 30,
     "metadata": {},
     "output_type": "execute_result"
    }
   ],
   "source": [
    "print(\"UK Categorical Imputing Results\")\n",
    "unified_imputer_test(UK_data_scale.copy(), numerical_columns=categorical_columns,rmse_bar_color=\"lightgreen\",title=\"Catergorical Imputation Error\")\n",
    "print(\"US Categorical Imputing Results\")\n",
    "unified_imputer_test(US_data_scale.copy(), numerical_columns=categorical_columns,rmse_bar_color=\"Plum\",title=\"Catergorical Imputation Error\")"
   ]
  },
  {
   "cell_type": "markdown",
   "id": "a926f518",
   "metadata": {},
   "source": [
    "**DateTime Columns**"
   ]
  },
  {
   "cell_type": "code",
   "execution_count": 31,
   "id": "15faf9e8",
   "metadata": {},
   "outputs": [
    {
     "name": "stdout",
     "output_type": "stream",
     "text": [
      "UK Datetime Imputing Results\n"
     ]
    },
    {
     "data": {
      "image/png": "[encoded data removed]",
      "text/plain": [
       "<Figure size 800x500 with 1 Axes>"
      ]
     },
     "metadata": {},
     "output_type": "display_data"
    },
    {
     "name": "stdout",
     "output_type": "stream",
     "text": [
      "US Datetime Imputing Results\n"
     ]
    },
    {
     "data": {
      "image/png": "[encoded data removed]",
      "text/plain": [
       "<Figure size 800x500 with 1 Axes>"
      ]
     },
     "metadata": {},
     "output_type": "display_data"
    },
    {
     "data": {
      "text/plain": [
       "{'RMSE': {'Median‑Mode': 0.2692012128341018,\n",
       "  'Mode‑Mean': 0.2627724978659411,\n",
       "  'Last\\xa0Occur.': 0.29680874881189345,\n",
       "  'Random': 0.3741670279578269,\n",
       "  'Regression': 0.2627719280316051}}"
      ]
     },
     "execution_count": 31,
     "metadata": {},
     "output_type": "execute_result"
    }
   ],
   "source": [
    "UK_data_scale.copy()\n",
    "\n",
    "print(\"UK Datetime Imputing Results\")\n",
    "unified_imputer_test(UK_data_scale.copy(), numerical_columns=datetime_columns,rmse_bar_color=\"lightgreen\",title=\"Date Time Imputation Error\")\n",
    "print(\"US Datetime Imputing Results\")\n",
    "unified_imputer_test(US_data_scale.copy(), numerical_columns=datetime_columns,rmse_bar_color=\"Plum\",title=\"Date Time Imputation Error\")"
   ]
  },
  {
   "cell_type": "markdown",
   "id": "7dce7606",
   "metadata": {},
   "source": [
    "**Final Imputation Statergy**\n",
    "- Last occured for all columns as has the least amount of error\n",
    "- Note: regression can be used on catergorical as encoded \n",
    "\n",
    "**UK Data**\n",
    "- Numerical = Mode Mean or Regression\n",
    "- Catergorical = Regression\n",
    "- Datetime = Last Occured\n",
    "\n",
    "**US Data**\n",
    "- Numerical = Last Occured\n",
    "- Catergorical = Regression\n",
    "- Datetime = Mode Mean or Mode Median or Regression \n"
   ]
  },
  {
   "cell_type": "code",
   "execution_count": null,
   "id": "713e94ff",
   "metadata": {},
   "outputs": [],
   "source": [
    "# UK imputing \n"
   ]
  },
  {
   "cell_type": "code",
   "execution_count": 38,
   "id": "37dec441",
   "metadata": {},
   "outputs": [
    {
     "ename": "ValueError",
     "evalue": "Found array with 0 sample(s) (shape=(0, 19)) while a minimum of 1 is required by RandomForestClassifier.",
     "output_type": "error",
     "traceback": [
      "\u001b[0;31m---------------------------------------------------------------------------\u001b[0m",
      "\u001b[0;31mValueError\u001b[0m                                Traceback (most recent call last)",
      "Cell \u001b[0;32mIn[38], line 3\u001b[0m\n\u001b[1;32m      1\u001b[0m \u001b[38;5;66;03m# US imputing\u001b[39;00m\n\u001b[1;32m      2\u001b[0m final_US_Imputing \u001b[38;5;241m=\u001b[39m US_data_scale\u001b[38;5;241m.\u001b[39mcopy()\n\u001b[0;32m----> 3\u001b[0m final_US_Imputing \u001b[38;5;241m=\u001b[39m \u001b[43mrandom_forest_imputer_from_encoded\u001b[49m\u001b[43m(\u001b[49m\u001b[43mUS_data\u001b[49m\u001b[38;5;241;43m.\u001b[39;49m\u001b[43mcopy\u001b[49m\u001b[43m(\u001b[49m\u001b[43m)\u001b[49m\u001b[43m,\u001b[49m\u001b[43m \u001b[49m\u001b[43mUS_data_scale\u001b[49m\u001b[38;5;241;43m.\u001b[39;49m\u001b[43mcopy\u001b[49m\u001b[43m(\u001b[49m\u001b[43m)\u001b[49m\u001b[43m,\u001b[49m\u001b[43m \u001b[49m\u001b[38;5;124;43m'\u001b[39;49m\u001b[38;5;124;43mPosted Speed Limit (MPH)\u001b[39;49m\u001b[38;5;124;43m'\u001b[39;49m\u001b[43m)\u001b[49m\n\u001b[1;32m      4\u001b[0m final_US_Imputing \u001b[38;5;241m=\u001b[39m final_US_Imputing\u001b[38;5;241m.\u001b[39mdropna()\n\u001b[1;32m      5\u001b[0m \u001b[38;5;28mprint\u001b[39m(tabulate(final_US_Imputing\u001b[38;5;241m.\u001b[39mhead(), headers\u001b[38;5;241m=\u001b[39m\u001b[38;5;124m'\u001b[39m\u001b[38;5;124mkeys\u001b[39m\u001b[38;5;124m'\u001b[39m, tablefmt\u001b[38;5;241m=\u001b[39m\u001b[38;5;124m'\u001b[39m\u001b[38;5;124mpsql\u001b[39m\u001b[38;5;124m'\u001b[39m))\n",
      "Cell \u001b[0;32mIn[25], line 29\u001b[0m, in \u001b[0;36mrandom_forest_imputer_from_encoded\u001b[0;34m(original_df, encoded_df, target_column)\u001b[0m\n\u001b[1;32m     26\u001b[0m model\u001b[38;5;241m.\u001b[39mfit(X_train, y_train)\n\u001b[1;32m     28\u001b[0m \u001b[38;5;66;03m# Predict missing target values\u001b[39;00m\n\u001b[0;32m---> 29\u001b[0m predicted_codes \u001b[38;5;241m=\u001b[39m \u001b[43mmodel\u001b[49m\u001b[38;5;241;43m.\u001b[39;49m\u001b[43mpredict\u001b[49m\u001b[43m(\u001b[49m\u001b[43mX_pred\u001b[49m\u001b[43m)\u001b[49m\n\u001b[1;32m     30\u001b[0m predicted_labels \u001b[38;5;241m=\u001b[39m [categories[i] \u001b[38;5;28;01mfor\u001b[39;00m i \u001b[38;5;129;01min\u001b[39;00m predicted_codes]\n\u001b[1;32m     32\u001b[0m \u001b[38;5;66;03m# Fill missing values in original_df\u001b[39;00m\n",
      "File \u001b[0;32m/Library/Frameworks/Python.framework/Versions/3.10/lib/python3.10/site-packages/sklearn/ensemble/_forest.py:904\u001b[0m, in \u001b[0;36mForestClassifier.predict\u001b[0;34m(self, X)\u001b[0m\n\u001b[1;32m    883\u001b[0m \u001b[38;5;28;01mdef\u001b[39;00m \u001b[38;5;21mpredict\u001b[39m(\u001b[38;5;28mself\u001b[39m, X):\n\u001b[1;32m    884\u001b[0m \u001b[38;5;250m    \u001b[39m\u001b[38;5;124;03m\"\"\"\u001b[39;00m\n\u001b[1;32m    885\u001b[0m \u001b[38;5;124;03m    Predict class for X.\u001b[39;00m\n\u001b[1;32m    886\u001b[0m \n\u001b[0;32m   (...)\u001b[0m\n\u001b[1;32m    902\u001b[0m \u001b[38;5;124;03m        The predicted classes.\u001b[39;00m\n\u001b[1;32m    903\u001b[0m \u001b[38;5;124;03m    \"\"\"\u001b[39;00m\n\u001b[0;32m--> 904\u001b[0m     proba \u001b[38;5;241m=\u001b[39m \u001b[38;5;28;43mself\u001b[39;49m\u001b[38;5;241;43m.\u001b[39;49m\u001b[43mpredict_proba\u001b[49m\u001b[43m(\u001b[49m\u001b[43mX\u001b[49m\u001b[43m)\u001b[49m\n\u001b[1;32m    906\u001b[0m     \u001b[38;5;28;01mif\u001b[39;00m \u001b[38;5;28mself\u001b[39m\u001b[38;5;241m.\u001b[39mn_outputs_ \u001b[38;5;241m==\u001b[39m \u001b[38;5;241m1\u001b[39m:\n\u001b[1;32m    907\u001b[0m         \u001b[38;5;28;01mreturn\u001b[39;00m \u001b[38;5;28mself\u001b[39m\u001b[38;5;241m.\u001b[39mclasses_\u001b[38;5;241m.\u001b[39mtake(np\u001b[38;5;241m.\u001b[39margmax(proba, axis\u001b[38;5;241m=\u001b[39m\u001b[38;5;241m1\u001b[39m), axis\u001b[38;5;241m=\u001b[39m\u001b[38;5;241m0\u001b[39m)\n",
      "File \u001b[0;32m/Library/Frameworks/Python.framework/Versions/3.10/lib/python3.10/site-packages/sklearn/ensemble/_forest.py:946\u001b[0m, in \u001b[0;36mForestClassifier.predict_proba\u001b[0;34m(self, X)\u001b[0m\n\u001b[1;32m    944\u001b[0m check_is_fitted(\u001b[38;5;28mself\u001b[39m)\n\u001b[1;32m    945\u001b[0m \u001b[38;5;66;03m# Check data\u001b[39;00m\n\u001b[0;32m--> 946\u001b[0m X \u001b[38;5;241m=\u001b[39m \u001b[38;5;28;43mself\u001b[39;49m\u001b[38;5;241;43m.\u001b[39;49m\u001b[43m_validate_X_predict\u001b[49m\u001b[43m(\u001b[49m\u001b[43mX\u001b[49m\u001b[43m)\u001b[49m\n\u001b[1;32m    948\u001b[0m \u001b[38;5;66;03m# Assign chunk of trees to jobs\u001b[39;00m\n\u001b[1;32m    949\u001b[0m n_jobs, _, _ \u001b[38;5;241m=\u001b[39m _partition_estimators(\u001b[38;5;28mself\u001b[39m\u001b[38;5;241m.\u001b[39mn_estimators, \u001b[38;5;28mself\u001b[39m\u001b[38;5;241m.\u001b[39mn_jobs)\n",
      "File \u001b[0;32m/Library/Frameworks/Python.framework/Versions/3.10/lib/python3.10/site-packages/sklearn/ensemble/_forest.py:638\u001b[0m, in \u001b[0;36mBaseForest._validate_X_predict\u001b[0;34m(self, X)\u001b[0m\n\u001b[1;32m    635\u001b[0m \u001b[38;5;28;01melse\u001b[39;00m:\n\u001b[1;32m    636\u001b[0m     ensure_all_finite \u001b[38;5;241m=\u001b[39m \u001b[38;5;28;01mTrue\u001b[39;00m\n\u001b[0;32m--> 638\u001b[0m X \u001b[38;5;241m=\u001b[39m \u001b[43mvalidate_data\u001b[49m\u001b[43m(\u001b[49m\n\u001b[1;32m    639\u001b[0m \u001b[43m    \u001b[49m\u001b[38;5;28;43mself\u001b[39;49m\u001b[43m,\u001b[49m\n\u001b[1;32m    640\u001b[0m \u001b[43m    \u001b[49m\u001b[43mX\u001b[49m\u001b[43m,\u001b[49m\n\u001b[1;32m    641\u001b[0m \u001b[43m    \u001b[49m\u001b[43mdtype\u001b[49m\u001b[38;5;241;43m=\u001b[39;49m\u001b[43mDTYPE\u001b[49m\u001b[43m,\u001b[49m\n\u001b[1;32m    642\u001b[0m \u001b[43m    \u001b[49m\u001b[43maccept_sparse\u001b[49m\u001b[38;5;241;43m=\u001b[39;49m\u001b[38;5;124;43m\"\u001b[39;49m\u001b[38;5;124;43mcsr\u001b[39;49m\u001b[38;5;124;43m\"\u001b[39;49m\u001b[43m,\u001b[49m\n\u001b[1;32m    643\u001b[0m \u001b[43m    \u001b[49m\u001b[43mreset\u001b[49m\u001b[38;5;241;43m=\u001b[39;49m\u001b[38;5;28;43;01mFalse\u001b[39;49;00m\u001b[43m,\u001b[49m\n\u001b[1;32m    644\u001b[0m \u001b[43m    \u001b[49m\u001b[43mensure_all_finite\u001b[49m\u001b[38;5;241;43m=\u001b[39;49m\u001b[43mensure_all_finite\u001b[49m\u001b[43m,\u001b[49m\n\u001b[1;32m    645\u001b[0m \u001b[43m\u001b[49m\u001b[43m)\u001b[49m\n\u001b[1;32m    646\u001b[0m \u001b[38;5;28;01mif\u001b[39;00m issparse(X) \u001b[38;5;129;01mand\u001b[39;00m (X\u001b[38;5;241m.\u001b[39mindices\u001b[38;5;241m.\u001b[39mdtype \u001b[38;5;241m!=\u001b[39m np\u001b[38;5;241m.\u001b[39mintc \u001b[38;5;129;01mor\u001b[39;00m X\u001b[38;5;241m.\u001b[39mindptr\u001b[38;5;241m.\u001b[39mdtype \u001b[38;5;241m!=\u001b[39m np\u001b[38;5;241m.\u001b[39mintc):\n\u001b[1;32m    647\u001b[0m     \u001b[38;5;28;01mraise\u001b[39;00m \u001b[38;5;167;01mValueError\u001b[39;00m(\u001b[38;5;124m\"\u001b[39m\u001b[38;5;124mNo support for np.int64 index based sparse matrices\u001b[39m\u001b[38;5;124m\"\u001b[39m)\n",
      "File \u001b[0;32m/Library/Frameworks/Python.framework/Versions/3.10/lib/python3.10/site-packages/sklearn/utils/validation.py:2944\u001b[0m, in \u001b[0;36mvalidate_data\u001b[0;34m(_estimator, X, y, reset, validate_separately, skip_check_array, **check_params)\u001b[0m\n\u001b[1;32m   2942\u001b[0m         out \u001b[38;5;241m=\u001b[39m X, y\n\u001b[1;32m   2943\u001b[0m \u001b[38;5;28;01melif\u001b[39;00m \u001b[38;5;129;01mnot\u001b[39;00m no_val_X \u001b[38;5;129;01mand\u001b[39;00m no_val_y:\n\u001b[0;32m-> 2944\u001b[0m     out \u001b[38;5;241m=\u001b[39m \u001b[43mcheck_array\u001b[49m\u001b[43m(\u001b[49m\u001b[43mX\u001b[49m\u001b[43m,\u001b[49m\u001b[43m \u001b[49m\u001b[43minput_name\u001b[49m\u001b[38;5;241;43m=\u001b[39;49m\u001b[38;5;124;43m\"\u001b[39;49m\u001b[38;5;124;43mX\u001b[39;49m\u001b[38;5;124;43m\"\u001b[39;49m\u001b[43m,\u001b[49m\u001b[43m \u001b[49m\u001b[38;5;241;43m*\u001b[39;49m\u001b[38;5;241;43m*\u001b[39;49m\u001b[43mcheck_params\u001b[49m\u001b[43m)\u001b[49m\n\u001b[1;32m   2945\u001b[0m \u001b[38;5;28;01melif\u001b[39;00m no_val_X \u001b[38;5;129;01mand\u001b[39;00m \u001b[38;5;129;01mnot\u001b[39;00m no_val_y:\n\u001b[1;32m   2946\u001b[0m     out \u001b[38;5;241m=\u001b[39m _check_y(y, \u001b[38;5;241m*\u001b[39m\u001b[38;5;241m*\u001b[39mcheck_params)\n",
      "File \u001b[0;32m/Library/Frameworks/Python.framework/Versions/3.10/lib/python3.10/site-packages/sklearn/utils/validation.py:1130\u001b[0m, in \u001b[0;36mcheck_array\u001b[0;34m(array, accept_sparse, accept_large_sparse, dtype, order, copy, force_writeable, force_all_finite, ensure_all_finite, ensure_non_negative, ensure_2d, allow_nd, ensure_min_samples, ensure_min_features, estimator, input_name)\u001b[0m\n\u001b[1;32m   1128\u001b[0m     n_samples \u001b[38;5;241m=\u001b[39m _num_samples(array)\n\u001b[1;32m   1129\u001b[0m     \u001b[38;5;28;01mif\u001b[39;00m n_samples \u001b[38;5;241m<\u001b[39m ensure_min_samples:\n\u001b[0;32m-> 1130\u001b[0m         \u001b[38;5;28;01mraise\u001b[39;00m \u001b[38;5;167;01mValueError\u001b[39;00m(\n\u001b[1;32m   1131\u001b[0m             \u001b[38;5;124m\"\u001b[39m\u001b[38;5;124mFound array with \u001b[39m\u001b[38;5;132;01m%d\u001b[39;00m\u001b[38;5;124m sample(s) (shape=\u001b[39m\u001b[38;5;132;01m%s\u001b[39;00m\u001b[38;5;124m) while a\u001b[39m\u001b[38;5;124m\"\u001b[39m\n\u001b[1;32m   1132\u001b[0m             \u001b[38;5;124m\"\u001b[39m\u001b[38;5;124m minimum of \u001b[39m\u001b[38;5;132;01m%d\u001b[39;00m\u001b[38;5;124m is required\u001b[39m\u001b[38;5;132;01m%s\u001b[39;00m\u001b[38;5;124m.\u001b[39m\u001b[38;5;124m\"\u001b[39m\n\u001b[1;32m   1133\u001b[0m             \u001b[38;5;241m%\u001b[39m (n_samples, array\u001b[38;5;241m.\u001b[39mshape, ensure_min_samples, context)\n\u001b[1;32m   1134\u001b[0m         )\n\u001b[1;32m   1136\u001b[0m \u001b[38;5;28;01mif\u001b[39;00m ensure_min_features \u001b[38;5;241m>\u001b[39m \u001b[38;5;241m0\u001b[39m \u001b[38;5;129;01mand\u001b[39;00m array\u001b[38;5;241m.\u001b[39mndim \u001b[38;5;241m==\u001b[39m \u001b[38;5;241m2\u001b[39m:\n\u001b[1;32m   1137\u001b[0m     n_features \u001b[38;5;241m=\u001b[39m array\u001b[38;5;241m.\u001b[39mshape[\u001b[38;5;241m1\u001b[39m]\n",
      "\u001b[0;31mValueError\u001b[0m: Found array with 0 sample(s) (shape=(0, 19)) while a minimum of 1 is required by RandomForestClassifier."
     ]
    }
   ],
   "source": [
    "# US imputing\n",
    "final_US_Imputing = US_data_scale.copy()\n",
    "final_US_Imputing = random_forest_imputer_from_encoded(US_data.copy(), US_data_scale.copy(), 'Posted Speed Limit (MPH)')\n",
    "final_US_Imputing = final_US_Imputing.dropna()\n",
    "print(tabulate(final_US_Imputing.head(), headers='keys', tablefmt='psql'))\n"
   ]
  },
  {
   "cell_type": "code",
   "execution_count": null,
   "id": "22d518bc",
   "metadata": {},
   "outputs": [],
   "source": [
    "# Check missing values for both datasets\n",
    "display_missing_values(final_UK_Imputing, \"UK Dataset\")\n",
    "display_missing_values(final_US_Imputing, \"US Dataset\")"
   ]
  },
  {
   "cell_type": "markdown",
   "id": "82810c7b",
   "metadata": {},
   "source": [
    "\n",
    "## **<span style=\"color:aquamarine;\">Unsupervised Learning Outliers</span>**\n",
    "- There are no outlier detection methods for categorical data.\n",
    "- For Numerical columns only (Posted Speed Limit)\n",
    "\n",
    "- Can return back to before encoding as Numerical columns both use Last Occured hence easily imput and remove outliers\n",
    "\n",
    "- No outliers for datetime found in EDA but can check but... after imputing?"
   ]
  },
  {
   "cell_type": "markdown",
   "id": "bba17dae",
   "metadata": {},
   "source": [
    "### **Numerical Outliers**"
   ]
  },
  {
   "cell_type": "code",
   "execution_count": null,
   "id": "2e546080",
   "metadata": {},
   "outputs": [],
   "source": [
    "UK_outlier_num_df = UK_data.copy()[numerical_columns]\n",
    "US_outlier_num_df = US_data.copy()[numerical_columns]"
   ]
  },
  {
   "cell_type": "markdown",
   "id": "b50ef4b2",
   "metadata": {},
   "source": [
    "### **<span style=\"color:pink;\">Z Score</span>**\n",
    "Measures how many standard deviations a data point is from the mean, identifying outliers as points with a high absolute Z-score "
   ]
  },
  {
   "cell_type": "code",
   "execution_count": null,
   "id": "a5dfc7f4",
   "metadata": {},
   "outputs": [],
   "source": [
    "def detect_outliers_zscore(df, threshold=3):\n",
    "    z_scores = np.abs(stats.zscore(df, nan_policy='omit'))\n",
    "    outliers = z_scores > threshold\n",
    "    return outliers\n",
    "# 1. Detect UK outliers using Z-score\n",
    "uk_z_outliers = detect_outliers_zscore(UK_outlier_num_df)\n",
    "print(\"UK outliers detected by Z-score (any feature):\")\n",
    "print(UK_outlier_num_df[uk_z_outliers.any(axis=1)])\n",
    "\n",
    "# 2. Detect US outliers using Z-score\n",
    "us_z_outliers = detect_outliers_zscore(US_outlier_num_df)\n",
    "print(\"\\nUS outliers detected by Z-score (any feature):\")\n",
    "print(US_outlier_num_df[us_z_outliers.any(axis=1)])\n"
   ]
  },
  {
   "cell_type": "markdown",
   "id": "2e16966d",
   "metadata": {},
   "source": [
    "### **<span style=\"color:pink;\">InterQuartile Range</span>**\n",
    "Uses the range between the 25th and 75th percentiles to detect outliers as points lying below Q1 − 1.5×IQR or above Q3 + 1.5×IQR."
   ]
  },
  {
   "cell_type": "code",
   "execution_count": null,
   "id": "c0cd9eeb",
   "metadata": {},
   "outputs": [],
   "source": [
    "def detect_outliers_iqr(df):\n",
    "    Q1 = df.quantile(0.25)\n",
    "    Q3 = df.quantile(0.75)\n",
    "    IQR = Q3 - Q1\n",
    "    lower_bound = Q1 - 1.5 * IQR\n",
    "    upper_bound = Q3 + 1.5 * IQR\n",
    "    outliers = (df < lower_bound) | (df > upper_bound)\n",
    "    return outliers\n",
    "\n",
    "# 3. Detect UK outliers using IQR\n",
    "uk_iqr_outliers = detect_outliers_iqr(UK_outlier_num_df)\n",
    "print(\"\\nUK outliers detected by IQR (any feature):\")\n",
    "print(UK_outlier_num_df[uk_iqr_outliers.any(axis=1)])\n",
    "\n",
    "# 4. Detect US outliers using IQR\n",
    "us_iqr_outliers = detect_outliers_iqr(US_outlier_num_df)\n",
    "print(\"\\nUS outliers detected by IQR (any feature):\")\n",
    "print(US_outlier_num_df[us_iqr_outliers.any(axis=1)])\n"
   ]
  },
  {
   "cell_type": "markdown",
   "id": "39fc7514",
   "metadata": {},
   "source": [
    "### **<span style=\"color:pink;\">Boxplot</span>**\n",
    "same as IQR just visual\n",
    "Uses the range between the 25th and 75th percentiles to detect outliers as points lying below Q1 − 1.5×IQR or above Q3 + 1.5×IQR."
   ]
  },
  {
   "cell_type": "code",
   "execution_count": null,
   "id": "c8458846",
   "metadata": {},
   "outputs": [],
   "source": [
    "def plot_boxplot(df, title='Boxplot of Numeric Features'):\n",
    "    plt.figure(figsize=(12, 6))\n",
    "    df.boxplot()\n",
    "    plt.title(title)\n",
    "    plt.xticks(rotation=45)\n",
    "    plt.show()\n",
    "\n",
    "\n",
    "# 5. Plot boxplots for UK numeric data\n",
    "plot_boxplot(UK_outlier_num_df, title='UK Numerical Features Boxplot')\n",
    "\n",
    "# 6. Plot boxplots for US numeric data\n",
    "plot_boxplot(US_outlier_num_df, title='US Numerical Features Boxplot')\n"
   ]
  },
  {
   "cell_type": "markdown",
   "id": "da95c587",
   "metadata": {},
   "source": [
    "- no outliers found in either sets\n",
    "- UK boxplot shows 60 and 70 to be outlier but these are totally normal motorway speeds and not caught by Z or IQR"
   ]
  },
  {
   "cell_type": "markdown",
   "id": "5ef3eff2",
   "metadata": {},
   "source": [
    "### **<span style=\"color:Hotpink;\">KMeans</span>**"
   ]
  },
  {
   "cell_type": "markdown",
   "id": "8b71b483",
   "metadata": {},
   "source": [
    "### **<span style=\"color:Hotpink;\">DBSCAN</span>**"
   ]
  },
  {
   "cell_type": "markdown",
   "id": "215cb00e",
   "metadata": {},
   "source": [
    "### **<span style=\"color:Hotpink;\">HDBSCAN</span>**"
   ]
  },
  {
   "cell_type": "markdown",
   "id": "d6bbe7ce",
   "metadata": {},
   "source": [
    "### **<span style=\"color:GreenYellow;\">Evaluating: Outlier Clustering Methods</span>**\n",
    "- For each column type trying every single imputing method to see which scores better "
   ]
  },
  {
   "cell_type": "markdown",
   "id": "3da4d9fd",
   "metadata": {},
   "source": [
    "**Final Removal of Outliers**"
   ]
  },
  {
   "cell_type": "markdown",
   "id": "43a1cb85",
   "metadata": {},
   "source": [
    "\n",
    "## **<span style=\"color:aquamarine;\">Sampling Dataset</span>**"
   ]
  },
  {
   "cell_type": "markdown",
   "id": "0fa558b2",
   "metadata": {},
   "source": [
    "### **<span style=\"color:Hotpink;\">Systematic</span>**"
   ]
  },
  {
   "cell_type": "code",
   "execution_count": null,
   "id": "8263b1e1",
   "metadata": {},
   "outputs": [],
   "source": [
    "import pandas as pd\n",
    "import numpy as np\n",
    "\n",
    "def systematic_sampling(df, sample_size=4000):\n",
    "    population_size = len(df)\n",
    "    step = population_size // sample_size\n",
    "    start = np.random.randint(0, step)\n",
    "    indices = np.arange(start, start + step * sample_size, step)\n",
    "    indices = indices[indices < population_size]\n",
    "    return df.iloc[indices]\n"
   ]
  },
  {
   "cell_type": "markdown",
   "id": "e7223981",
   "metadata": {},
   "source": [
    "### **<span style=\"color:Hotpink;\">Stratified</span>**"
   ]
  },
  {
   "cell_type": "code",
   "execution_count": null,
   "id": "b3b5dbd2",
   "metadata": {},
   "outputs": [],
   "source": [
    "\n",
    "def stratified_sampling(df, stratify_col, frac=0.2, random_state=42):\n",
    "    return df.groupby(stratify_col, group_keys=False).apply(\n",
    "        lambda x: x.sample(frac=frac, random_state=random_state)\n",
    "    )\n"
   ]
  },
  {
   "cell_type": "markdown",
   "id": "611541e8",
   "metadata": {},
   "source": [
    "### **<span style=\"color:Hotpink;\">Random</span>**"
   ]
  },
  {
   "cell_type": "code",
   "execution_count": null,
   "id": "c0439d55",
   "metadata": {},
   "outputs": [],
   "source": [
    "def random_sampling(df, frac=0.2, random_state=42):\n",
    "    return df.sample(frac=frac, random_state=random_state)\n",
    "\n"
   ]
  },
  {
   "cell_type": "markdown",
   "id": "daa4c87a",
   "metadata": {},
   "source": [
    "### **<span style=\"color:Hotpink;\">Cluster</span>**"
   ]
  },
  {
   "cell_type": "code",
   "execution_count": null,
   "id": "e8616f56",
   "metadata": {},
   "outputs": [],
   "source": [
    "def cluster_sampling(df, cluster_col):\n",
    "    clusters = df[cluster_col].unique()\n",
    "    chosen_cluster = np.random.choice(clusters)\n",
    "    sample = df[df[cluster_col] == chosen_cluster]\n",
    "    return sample, chosen_cluster\n"
   ]
  },
  {
   "cell_type": "markdown",
   "id": "6598e8d1",
   "metadata": {},
   "source": [
    "### **<span style=\"color:Hotpink;\">KNN</span>**"
   ]
  },
  {
   "cell_type": "code",
   "execution_count": null,
   "id": "4a3fad0b",
   "metadata": {},
   "outputs": [],
   "source": [
    "def knn_sampling(df, frac=0.2):\n",
    "    X = df.values\n",
    "    random_point = X[np.random.choice(len(X))]\n",
    "    nbrs = NearestNeighbors(n_neighbors=int(len(X)*frac)).fit(X)\n",
    "    distances, indices = nbrs.kneighbors([random_point])\n",
    "    return df.iloc[indices[0]]"
   ]
  },
  {
   "cell_type": "markdown",
   "id": "7d723f7d",
   "metadata": {},
   "source": [
    "### **<span style=\"color:GreenYellow;\">Evaluating: Sampling Methods</span>**\n",
    "- "
   ]
  },
  {
   "cell_type": "code",
   "execution_count": null,
   "id": "e074c3f1",
   "metadata": {},
   "outputs": [],
   "source": [
    "import numpy as np\n",
    "import pandas as pd\n",
    "from sklearn.preprocessing import LabelEncoder\n",
    "from sklearn.neighbors import NearestNeighbors\n",
    "import matplotlib.pyplot as plt\n",
    "\n",
    "\n",
    "# Evaluation plot function (same as yours)\n",
    "def evaluate_sample(sample, full_data, name):\n",
    "    means_full = full_data.mean()\n",
    "    means_sample = sample.mean()\n",
    "    bias = means_sample - means_full\n",
    "    \n",
    "    features = full_data.columns\n",
    "    x = np.arange(len(features))\n",
    "    width = 0.35\n",
    "    \n",
    "    fig, ax1 = plt.subplots(figsize=(12,6))\n",
    "    rects1 = ax1.bar(x - width/2, means_full, width, label='Full Data Mean', color='skyblue')\n",
    "    rects2 = ax1.bar(x + width/2, means_sample, width, label='Sample Mean', color='orange')\n",
    "    ax1.set_ylabel('Mean Values')\n",
    "    ax1.set_xticks(x)\n",
    "    ax1.set_xticklabels(features, rotation=45, ha='right')\n",
    "    ax1.legend(loc='upper left')\n",
    "    \n",
    "    ax2 = ax1.twinx()\n",
    "    ax2.plot(x, bias, color='red', marker='o', linestyle='-', label='Bias (Sample - Full)')\n",
    "    ax2.set_ylabel('Bias')\n",
    "    ax2.legend(loc='upper right')\n",
    "    \n",
    "    plt.title(f'{name} Feature-wise Mean Comparison and Bias')\n",
    "    plt.tight_layout()\n",
    "    plt.show()"
   ]
  },
  {
   "cell_type": "code",
   "execution_count": null,
   "id": "6d2ea25e",
   "metadata": {},
   "outputs": [],
   "source": [
    "\n",
    "# Main function to run all samplings and evaluations\n",
    "def run_all_sampling_methods(data, stratify_col):\n",
    "\n",
    "    # 1. Random Sampling\n",
    "    random_sample = random_sampling(data)\n",
    "    print(\"Random Sampling:\")\n",
    "    evaluate_sample(random_sample, data, \"Random \")\n",
    "\n",
    "    # 2. Systematic Sampling\n",
    "    systematic_sample = systematic_sampling(data)\n",
    "    print(\"Systematic Sampling:\")\n",
    "    evaluate_sample(systematic_sample, data, \"Systematic \")\n",
    "\n",
    "    # 3. Stratified Sampling\n",
    "    stratified_sample = stratified_sampling(data, stratify_col)\n",
    "    print(\"Stratified Sampling:\")\n",
    "    evaluate_sample(stratified_sample, data, \"Stratified \")\n",
    "\n",
    "    # 4. Cluster Sampling\n",
    "    cluster_sample, chosen_cluster = cluster_sampling(data, stratify_col)\n",
    "    print(f\"Cluster Sampling (cluster '{chosen_cluster}'):\")\n",
    "    evaluate_sample(cluster_sample, data, \"Cluster \")\n",
    "\n",
    "    # 5. KNN Sampling\n",
    "    knn_sample = knn_sampling(data)\n",
    "    print(\"KNN Sampling:\")\n",
    "    evaluate_sample(knn_sample, data, \"KNN \")\n",
    "\n",
    "    # Return samples if needed\n",
    "    return {\n",
    "        \"random_sample\": random_sample,\n",
    "        \"systematic_sample\": systematic_sample,\n",
    "        \"stratified_sample\": stratified_sample,\n",
    "        \"cluster_sample\": cluster_sample,\n",
    "        \"knn_sample\": knn_sample\n",
    "    }\n"
   ]
  },
  {
   "cell_type": "markdown",
   "id": "4ccd865d",
   "metadata": {},
   "source": [
    "**UK Dataset**"
   ]
  },
  {
   "cell_type": "code",
   "execution_count": null,
   "id": "6e3743e1",
   "metadata": {},
   "outputs": [],
   "source": [
    "# Assuming your original data is in variable `data`\n",
    "final_UK_Imputing = final_UK_Imputing.drop(columns=['ADS Equipped?', 'Automation System Engaged?'], errors='ignore')\n",
    "samples = run_all_sampling_methods(final_UK_Imputing, stratify_col='Highest Injury Severity Alleged')"
   ]
  },
  {
   "cell_type": "markdown",
   "id": "5a3c8a46",
   "metadata": {},
   "source": [
    "**US Dataset**"
   ]
  },
  {
   "cell_type": "code",
   "execution_count": null,
   "id": "5e39ecd8",
   "metadata": {},
   "outputs": [],
   "source": [
    "# Assuming your original data is in variable `data`\n",
    "samples = run_all_sampling_methods(final_US_Imputing, stratify_col='Highest Injury Severity Alleged')"
   ]
  },
  {
   "cell_type": "markdown",
   "id": "936e4313",
   "metadata": {},
   "source": [
    "### **Final Samples**"
   ]
  },
  {
   "cell_type": "markdown",
   "id": "7621e791",
   "metadata": {},
   "source": [
    "**UK Sample**"
   ]
  },
  {
   "cell_type": "code",
   "execution_count": null,
   "id": "43591499",
   "metadata": {},
   "outputs": [],
   "source": [
    "final_UK_sample = systematic_sampling(final_UK_Imputing, sample_size=4000)\n",
    "final_UK_sample.head()"
   ]
  },
  {
   "cell_type": "markdown",
   "id": "94dc02da",
   "metadata": {},
   "source": [
    "**US Sample**"
   ]
  },
  {
   "cell_type": "code",
   "execution_count": null,
   "id": "0194037f",
   "metadata": {},
   "outputs": [],
   "source": [
    "\n",
    "final_US_sample = systematic_sampling(final_US_Imputing, sample_size=4000)\n",
    "final_US_sample.head()"
   ]
  },
  {
   "cell_type": "markdown",
   "id": "80dd1827",
   "metadata": {},
   "source": [
    "\n",
    "## **<span style=\"color:aquamarine;\">Feature Selection</span>**"
   ]
  },
  {
   "cell_type": "markdown",
   "id": "8348322b",
   "metadata": {},
   "source": [
    "### **<span style=\"color:Hotpink;\">HeatMap</span>**"
   ]
  },
  {
   "cell_type": "code",
   "execution_count": null,
   "id": "9903881a",
   "metadata": {},
   "outputs": [],
   "source": [
    "import seaborn as sns\n",
    "import matplotlib.pyplot as plt\n",
    "\n",
    "def Plot_Heatmap(df, target_col=\"Highest Injury Severity Alleged\", top_n=10):\n",
    "    data_copy = df.copy()\n",
    "    \n",
    "    # Calculate full correlations (not abs)\n",
    "    full_corr = data_copy.corr()\n",
    "    target_corr = full_corr[target_col].dropna().drop(target_col)\n",
    "\n",
    "    # Get top N by absolute correlation but keep signs\n",
    "    top_features = target_corr.reindex(target_corr.abs().sort_values(ascending=False).index[:top_n])\n",
    "\n",
    "    # Print positive and negative separately\n",
    "    print(\"\\nTop positively correlated features:\")\n",
    "    print(top_features[top_features > 0])\n",
    "\n",
    "    print(\"\\nTop negatively correlated features:\")\n",
    "    print(top_features[top_features < 0])\n",
    "\n",
    "    # Plot full heatmap\n",
    "    plt.figure(figsize=(10, 6))\n",
    "    sns.heatmap(full_corr, annot=True, fmt=\".2f\", cmap='coolwarm', linewidths=0.5)\n",
    "    plt.title(\"Feature Correlation Heatmap\")\n",
    "    plt.show()\n",
    "\n",
    "    # Optional: heatmap of just top features + target\n",
    "    subset_cols = top_features.index.tolist() + [target_col]\n",
    "    plt.figure(figsize=(8, 6))\n",
    "    sns.heatmap(data_copy[subset_cols].corr(), annot=True, fmt=\".2f\", cmap='coolwarm', linewidths=0.5)\n",
    "    plt.title(f\"Top Correlated Features with {target_col}\")\n",
    "    plt.show()\n",
    "\n"
   ]
  },
  {
   "cell_type": "code",
   "execution_count": null,
   "id": "21466281",
   "metadata": {},
   "outputs": [],
   "source": [
    "import seaborn as sns\n",
    "import matplotlib.pyplot as plt\n",
    "\n",
    "def Experimental_Heatmap(df, target_col=\"Highest Injury Severity Alleged\", top_n=10):\n",
    "    data_copy = df.copy()\n",
    "    \n",
    "    # Calculate full correlations (not abs)\n",
    "    full_corr = data_copy.corr()\n",
    "    target_corr = full_corr[target_col].dropna().drop(target_col)\n",
    "\n",
    "    # Get top N by absolute correlation but keep signs\n",
    "    top_features = target_corr.reindex(target_corr.abs().sort_values(ascending=False).index[:top_n])\n",
    "\n",
    "    subset_cols = top_features.index.tolist() + [target_col]\n",
    "    plt.figure(figsize=(8, 6))\n",
    "    sns.heatmap(data_copy[subset_cols].corr(), annot=True, fmt=\".2f\", cmap='coolwarm', linewidths=0.5)\n",
    "    plt.title(f\"Top Correlated Features with {target_col}\")\n",
    "    plt.show()"
   ]
  },
  {
   "cell_type": "markdown",
   "id": "e74266b0",
   "metadata": {},
   "source": [
    "**US dataset**"
   ]
  },
  {
   "cell_type": "code",
   "execution_count": null,
   "id": "0c861b49",
   "metadata": {},
   "outputs": [],
   "source": [
    "Plot_Heatmap(final_UK_Imputing, 'Highest Injury Severity Alleged', top_n=10)\n"
   ]
  },
  {
   "cell_type": "code",
   "execution_count": null,
   "id": "d3b7bbc6",
   "metadata": {},
   "outputs": [],
   "source": [
    "Experimental_Heatmap(final_UK_sample, 'Posted Speed Limit (MPH)', top_n=10)\n",
    "Experimental_Heatmap(final_UK_sample, 'Lighting', top_n=10)\n",
    "Experimental_Heatmap(final_UK_sample, 'Roadway Surface', top_n=10)\n",
    "Experimental_Heatmap(final_UK_sample, 'SV Pre-Crash Movement', top_n=10)"
   ]
  },
  {
   "cell_type": "markdown",
   "id": "81df77b9",
   "metadata": {},
   "source": [
    "**US dataset**"
   ]
  },
  {
   "cell_type": "code",
   "execution_count": null,
   "id": "2a37b69b",
   "metadata": {},
   "outputs": [],
   "source": [
    "Plot_Heatmap(final_US_Imputing, 'Highest Injury Severity Alleged', top_n=10)"
   ]
  },
  {
   "cell_type": "markdown",
   "id": "a47d3021",
   "metadata": {},
   "source": [
    "**Summary**"
   ]
  }
 ],
 "metadata": {
  "kernelspec": {
   "display_name": "Python 3",
   "language": "python",
   "name": "python3"
  },
  "language_info": {
   "codemirror_mode": {
    "name": "ipython",
    "version": 3
   },
   "file_extension": ".py",
   "mimetype": "text/x-python",
   "name": "python",
   "nbconvert_exporter": "python",
   "pygments_lexer": "ipython3",
   "version": "3.10.6"
  }
 },
 "nbformat": 4,
 "nbformat_minor": 5
}
